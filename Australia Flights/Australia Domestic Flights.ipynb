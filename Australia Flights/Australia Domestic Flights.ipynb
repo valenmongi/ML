{
 "cells": [
  {
   "cell_type": "markdown",
   "metadata": {},
   "source": [
    "# Australia Domestic Flights"
   ]
  },
  {
   "cell_type": "markdown",
   "metadata": {},
   "source": [
    "We use a database provided by the **Bureau of Infrastructure and Transport Research Economics** downloaded from https://data.gov.au/dataset/ds-dga-c5029f2a-39b3-4aef-8ae1-73e7962f6170/details\n",
    "\n",
    "The dataset contain 11 instances:\n",
    "\n",
    "+ City1: A city each aircraft takes-off from\n",
    "+ City2: A city each aircraft lands on.\n",
    "+ Month: (I couldn’t find any definitions)\n",
    "+ Passenger_Trips: (I couldn’t find any definitions)\n",
    "+ Aircraft_Trips: The number of flight stages. A return gflight counts as two aircraft trips.\n",
    "+ Passenger_Load_Factor: The total revenue passenger kilometres performed as a percentage of the total available seat kilometres.\n",
    "+ Distance_GC_(km): Great Circle Distances between 2 airports\n",
    "+ RPKs: Revenue Passenger Kilometres. calculated by multiplying the number of revenue passengers travelling on each flight stage, by the distance in kilometres between the ports. the distances used are great circle kilometres.\n",
    "+ ASKs: It stands for “Available Seat Kilometres”. It is calculates by multiplying the number of seats availble on each flight stage, by the distance in kilometres between the ports. The distance used are Great Circle Distances.\n",
    "+ Seats: Seats available in each route in that month\n",
    "+ “Flight Statge” means the operation of an aircraft from take-off to landing."
   ]
  },
  {
   "cell_type": "markdown",
   "metadata": {},
   "source": [
    "*We will answer the following questions:*\n",
    "\n",
    "+ Most popular routes\n",
    "+ Which city shows a greater growth in flights **land on**?\n",
    "+ Which was the best year for the australian domestic flights?\n",
    "+ New cities added in the routes.\n",
    "\n",
    "*Potential questions.*\n",
    "\n",
    "+ Cities that have more growth potential.\n",
    "+ **Try any algorithm of time series to predict the development of the flights**\n"
   ]
  },
  {
   "cell_type": "code",
   "execution_count": 40,
   "metadata": {},
   "outputs": [],
   "source": [
    "import scipy\n",
    "from scipy import stats\n",
    "\n",
    "#librerías necesarias:\n",
    "\n",
    "# Data handling\n",
    "import pandas as pd\n",
    "import numpy as np\n",
    "from sklearn.preprocessing import MinMaxScaler\n",
    "\n",
    "# Visualization\n",
    "import seaborn as sns\n",
    "#import plotly.express as px\n",
    "import matplotlib.pyplot as plt\n",
    "import mpl_toolkits.mplot3d.axes3d as p3\n",
    "from matplotlib import animation\n",
    "\n",
    "%matplotlib inline \n",
    "pd.set_option(\"max_rows\", None)"
   ]
  },
  {
   "cell_type": "markdown",
   "metadata": {},
   "source": [
    "## Dataset"
   ]
  },
  {
   "cell_type": "code",
   "execution_count": 41,
   "metadata": {},
   "outputs": [],
   "source": [
    "data = pd.read_csv('https://data.gov.au/data/dataset/c5029f2a-39b3-4aef-8ae1-73e7962f6170/resource/677d307f-6a1f-4de4-9b85-5e1aa7074423/download/dom_citypairs_web.csv')"
   ]
  },
  {
   "cell_type": "code",
   "execution_count": 42,
   "metadata": {
    "scrolled": true
   },
   "outputs": [
    {
     "data": {
      "text/html": [
       "<div>\n",
       "<style scoped>\n",
       "    .dataframe tbody tr th:only-of-type {\n",
       "        vertical-align: middle;\n",
       "    }\n",
       "\n",
       "    .dataframe tbody tr th {\n",
       "        vertical-align: top;\n",
       "    }\n",
       "\n",
       "    .dataframe thead th {\n",
       "        text-align: right;\n",
       "    }\n",
       "</style>\n",
       "<table border=\"1\" class=\"dataframe\">\n",
       "  <thead>\n",
       "    <tr style=\"text-align: right;\">\n",
       "      <th></th>\n",
       "      <th>City1</th>\n",
       "      <th>City2</th>\n",
       "      <th>Month</th>\n",
       "      <th>Passenger_Trips</th>\n",
       "      <th>Aircraft_Trips</th>\n",
       "      <th>Passenger_Load_Factor</th>\n",
       "      <th>Distance_GC_(km)</th>\n",
       "      <th>RPKs</th>\n",
       "      <th>ASKs</th>\n",
       "      <th>Seats</th>\n",
       "      <th>Year</th>\n",
       "      <th>Month_num</th>\n",
       "    </tr>\n",
       "  </thead>\n",
       "  <tbody>\n",
       "    <tr>\n",
       "      <th>0</th>\n",
       "      <td>ADELAIDE</td>\n",
       "      <td>ALICE SPRINGS</td>\n",
       "      <td>30682</td>\n",
       "      <td>15743</td>\n",
       "      <td>143</td>\n",
       "      <td>81.8</td>\n",
       "      <td>1316</td>\n",
       "      <td>20717788.0</td>\n",
       "      <td>25327369.0</td>\n",
       "      <td>19246</td>\n",
       "      <td>1984</td>\n",
       "      <td>1</td>\n",
       "    </tr>\n",
       "    <tr>\n",
       "      <th>1</th>\n",
       "      <td>ADELAIDE</td>\n",
       "      <td>BRISBANE</td>\n",
       "      <td>30682</td>\n",
       "      <td>3781</td>\n",
       "      <td>32</td>\n",
       "      <td>89.8</td>\n",
       "      <td>1622</td>\n",
       "      <td>6132782.0</td>\n",
       "      <td>6829379.0</td>\n",
       "      <td>4210</td>\n",
       "      <td>1984</td>\n",
       "      <td>1</td>\n",
       "    </tr>\n",
       "    <tr>\n",
       "      <th>2</th>\n",
       "      <td>ADELAIDE</td>\n",
       "      <td>CANBERRA</td>\n",
       "      <td>30682</td>\n",
       "      <td>1339</td>\n",
       "      <td>12</td>\n",
       "      <td>94.7</td>\n",
       "      <td>972</td>\n",
       "      <td>1301508.0</td>\n",
       "      <td>1374348.0</td>\n",
       "      <td>1414</td>\n",
       "      <td>1984</td>\n",
       "      <td>1</td>\n",
       "    </tr>\n",
       "    <tr>\n",
       "      <th>3</th>\n",
       "      <td>ADELAIDE</td>\n",
       "      <td>DARWIN</td>\n",
       "      <td>30682</td>\n",
       "      <td>3050</td>\n",
       "      <td>33</td>\n",
       "      <td>66.8</td>\n",
       "      <td>2619</td>\n",
       "      <td>7987950.0</td>\n",
       "      <td>11958009.0</td>\n",
       "      <td>4566</td>\n",
       "      <td>1984</td>\n",
       "      <td>1</td>\n",
       "    </tr>\n",
       "    <tr>\n",
       "      <th>4</th>\n",
       "      <td>ADELAIDE</td>\n",
       "      <td>GOLD COAST</td>\n",
       "      <td>30682</td>\n",
       "      <td>1596</td>\n",
       "      <td>16</td>\n",
       "      <td>88.5</td>\n",
       "      <td>1607</td>\n",
       "      <td>2564772.0</td>\n",
       "      <td>2898047.0</td>\n",
       "      <td>1803</td>\n",
       "      <td>1984</td>\n",
       "      <td>1</td>\n",
       "    </tr>\n",
       "  </tbody>\n",
       "</table>\n",
       "</div>"
      ],
      "text/plain": [
       "      City1          City2  Month  Passenger_Trips  Aircraft_Trips  \\\n",
       "0  ADELAIDE  ALICE SPRINGS  30682            15743             143   \n",
       "1  ADELAIDE       BRISBANE  30682             3781              32   \n",
       "2  ADELAIDE       CANBERRA  30682             1339              12   \n",
       "3  ADELAIDE         DARWIN  30682             3050              33   \n",
       "4  ADELAIDE     GOLD COAST  30682             1596              16   \n",
       "\n",
       "  Passenger_Load_Factor  Distance_GC_(km)        RPKs        ASKs  Seats  \\\n",
       "0                  81.8              1316  20717788.0  25327369.0  19246   \n",
       "1                  89.8              1622   6132782.0   6829379.0   4210   \n",
       "2                  94.7               972   1301508.0   1374348.0   1414   \n",
       "3                  66.8              2619   7987950.0  11958009.0   4566   \n",
       "4                  88.5              1607   2564772.0   2898047.0   1803   \n",
       "\n",
       "   Year  Month_num  \n",
       "0  1984          1  \n",
       "1  1984          1  \n",
       "2  1984          1  \n",
       "3  1984          1  \n",
       "4  1984          1  "
      ]
     },
     "execution_count": 42,
     "metadata": {},
     "output_type": "execute_result"
    }
   ],
   "source": [
    "data.head()"
   ]
  },
  {
   "cell_type": "code",
   "execution_count": 43,
   "metadata": {},
   "outputs": [
    {
     "data": {
      "text/plain": [
       "(24158, 12)"
      ]
     },
     "execution_count": 43,
     "metadata": {},
     "output_type": "execute_result"
    }
   ],
   "source": [
    "data.shape"
   ]
  },
  {
   "cell_type": "code",
   "execution_count": 44,
   "metadata": {},
   "outputs": [
    {
     "data": {
      "text/plain": [
       "City1                     object\n",
       "City2                     object\n",
       "Month                      int64\n",
       "Passenger_Trips            int64\n",
       "Aircraft_Trips             int64\n",
       "Passenger_Load_Factor     object\n",
       "Distance_GC_(km)           int64\n",
       "RPKs                     float64\n",
       "ASKs                     float64\n",
       "Seats                      int64\n",
       "Year                       int64\n",
       "Month_num                  int64\n",
       "dtype: object"
      ]
     },
     "execution_count": 44,
     "metadata": {},
     "output_type": "execute_result"
    }
   ],
   "source": [
    "data.dtypes"
   ]
  },
  {
   "cell_type": "markdown",
   "metadata": {},
   "source": [
    "### Period Stamp"
   ]
  },
  {
   "cell_type": "code",
   "execution_count": 45,
   "metadata": {},
   "outputs": [],
   "source": [
    "data['Date'] = data['Month_num'].map(str) + '/' + data['Year'].map(str) "
   ]
  },
  {
   "cell_type": "code",
   "execution_count": 46,
   "metadata": {},
   "outputs": [
    {
     "data": {
      "text/html": [
       "<div>\n",
       "<style scoped>\n",
       "    .dataframe tbody tr th:only-of-type {\n",
       "        vertical-align: middle;\n",
       "    }\n",
       "\n",
       "    .dataframe tbody tr th {\n",
       "        vertical-align: top;\n",
       "    }\n",
       "\n",
       "    .dataframe thead th {\n",
       "        text-align: right;\n",
       "    }\n",
       "</style>\n",
       "<table border=\"1\" class=\"dataframe\">\n",
       "  <thead>\n",
       "    <tr style=\"text-align: right;\">\n",
       "      <th></th>\n",
       "      <th>City1</th>\n",
       "      <th>City2</th>\n",
       "      <th>Month</th>\n",
       "      <th>Passenger_Trips</th>\n",
       "      <th>Aircraft_Trips</th>\n",
       "      <th>Passenger_Load_Factor</th>\n",
       "      <th>Distance_GC_(km)</th>\n",
       "      <th>RPKs</th>\n",
       "      <th>ASKs</th>\n",
       "      <th>Seats</th>\n",
       "      <th>Year</th>\n",
       "      <th>Month_num</th>\n",
       "      <th>Date</th>\n",
       "    </tr>\n",
       "  </thead>\n",
       "  <tbody>\n",
       "    <tr>\n",
       "      <th>0</th>\n",
       "      <td>ADELAIDE</td>\n",
       "      <td>ALICE SPRINGS</td>\n",
       "      <td>30682</td>\n",
       "      <td>15743</td>\n",
       "      <td>143</td>\n",
       "      <td>81.8</td>\n",
       "      <td>1316</td>\n",
       "      <td>20717788.0</td>\n",
       "      <td>25327369.0</td>\n",
       "      <td>19246</td>\n",
       "      <td>1984</td>\n",
       "      <td>1</td>\n",
       "      <td>1/1984</td>\n",
       "    </tr>\n",
       "    <tr>\n",
       "      <th>1</th>\n",
       "      <td>ADELAIDE</td>\n",
       "      <td>BRISBANE</td>\n",
       "      <td>30682</td>\n",
       "      <td>3781</td>\n",
       "      <td>32</td>\n",
       "      <td>89.8</td>\n",
       "      <td>1622</td>\n",
       "      <td>6132782.0</td>\n",
       "      <td>6829379.0</td>\n",
       "      <td>4210</td>\n",
       "      <td>1984</td>\n",
       "      <td>1</td>\n",
       "      <td>1/1984</td>\n",
       "    </tr>\n",
       "    <tr>\n",
       "      <th>2</th>\n",
       "      <td>ADELAIDE</td>\n",
       "      <td>CANBERRA</td>\n",
       "      <td>30682</td>\n",
       "      <td>1339</td>\n",
       "      <td>12</td>\n",
       "      <td>94.7</td>\n",
       "      <td>972</td>\n",
       "      <td>1301508.0</td>\n",
       "      <td>1374348.0</td>\n",
       "      <td>1414</td>\n",
       "      <td>1984</td>\n",
       "      <td>1</td>\n",
       "      <td>1/1984</td>\n",
       "    </tr>\n",
       "    <tr>\n",
       "      <th>3</th>\n",
       "      <td>ADELAIDE</td>\n",
       "      <td>DARWIN</td>\n",
       "      <td>30682</td>\n",
       "      <td>3050</td>\n",
       "      <td>33</td>\n",
       "      <td>66.8</td>\n",
       "      <td>2619</td>\n",
       "      <td>7987950.0</td>\n",
       "      <td>11958009.0</td>\n",
       "      <td>4566</td>\n",
       "      <td>1984</td>\n",
       "      <td>1</td>\n",
       "      <td>1/1984</td>\n",
       "    </tr>\n",
       "    <tr>\n",
       "      <th>4</th>\n",
       "      <td>ADELAIDE</td>\n",
       "      <td>GOLD COAST</td>\n",
       "      <td>30682</td>\n",
       "      <td>1596</td>\n",
       "      <td>16</td>\n",
       "      <td>88.5</td>\n",
       "      <td>1607</td>\n",
       "      <td>2564772.0</td>\n",
       "      <td>2898047.0</td>\n",
       "      <td>1803</td>\n",
       "      <td>1984</td>\n",
       "      <td>1</td>\n",
       "      <td>1/1984</td>\n",
       "    </tr>\n",
       "  </tbody>\n",
       "</table>\n",
       "</div>"
      ],
      "text/plain": [
       "      City1          City2  Month  Passenger_Trips  Aircraft_Trips  \\\n",
       "0  ADELAIDE  ALICE SPRINGS  30682            15743             143   \n",
       "1  ADELAIDE       BRISBANE  30682             3781              32   \n",
       "2  ADELAIDE       CANBERRA  30682             1339              12   \n",
       "3  ADELAIDE         DARWIN  30682             3050              33   \n",
       "4  ADELAIDE     GOLD COAST  30682             1596              16   \n",
       "\n",
       "  Passenger_Load_Factor  Distance_GC_(km)        RPKs        ASKs  Seats  \\\n",
       "0                  81.8              1316  20717788.0  25327369.0  19246   \n",
       "1                  89.8              1622   6132782.0   6829379.0   4210   \n",
       "2                  94.7               972   1301508.0   1374348.0   1414   \n",
       "3                  66.8              2619   7987950.0  11958009.0   4566   \n",
       "4                  88.5              1607   2564772.0   2898047.0   1803   \n",
       "\n",
       "   Year  Month_num    Date  \n",
       "0  1984          1  1/1984  \n",
       "1  1984          1  1/1984  \n",
       "2  1984          1  1/1984  \n",
       "3  1984          1  1/1984  \n",
       "4  1984          1  1/1984  "
      ]
     },
     "execution_count": 46,
     "metadata": {},
     "output_type": "execute_result"
    }
   ],
   "source": [
    "data.head()"
   ]
  },
  {
   "cell_type": "code",
   "execution_count": 47,
   "metadata": {
    "scrolled": false
   },
   "outputs": [
    {
     "data": {
      "text/html": [
       "<div>\n",
       "<style scoped>\n",
       "    .dataframe tbody tr th:only-of-type {\n",
       "        vertical-align: middle;\n",
       "    }\n",
       "\n",
       "    .dataframe tbody tr th {\n",
       "        vertical-align: top;\n",
       "    }\n",
       "\n",
       "    .dataframe thead th {\n",
       "        text-align: right;\n",
       "    }\n",
       "</style>\n",
       "<table border=\"1\" class=\"dataframe\">\n",
       "  <thead>\n",
       "    <tr style=\"text-align: right;\">\n",
       "      <th></th>\n",
       "      <th>City1</th>\n",
       "      <th>City2</th>\n",
       "      <th>Month</th>\n",
       "      <th>Passenger_Trips</th>\n",
       "      <th>Aircraft_Trips</th>\n",
       "      <th>Passenger_Load_Factor</th>\n",
       "      <th>Distance_GC_(km)</th>\n",
       "      <th>RPKs</th>\n",
       "      <th>ASKs</th>\n",
       "      <th>Seats</th>\n",
       "      <th>Year</th>\n",
       "      <th>Month_num</th>\n",
       "      <th>Date</th>\n",
       "    </tr>\n",
       "  </thead>\n",
       "  <tbody>\n",
       "    <tr>\n",
       "      <th>0</th>\n",
       "      <td>ADELAIDE</td>\n",
       "      <td>ALICE SPRINGS</td>\n",
       "      <td>30682</td>\n",
       "      <td>15743</td>\n",
       "      <td>143</td>\n",
       "      <td>81.8</td>\n",
       "      <td>1316</td>\n",
       "      <td>20717788.0</td>\n",
       "      <td>25327369.0</td>\n",
       "      <td>19246</td>\n",
       "      <td>1984</td>\n",
       "      <td>1</td>\n",
       "      <td>1984-01</td>\n",
       "    </tr>\n",
       "    <tr>\n",
       "      <th>1</th>\n",
       "      <td>ADELAIDE</td>\n",
       "      <td>BRISBANE</td>\n",
       "      <td>30682</td>\n",
       "      <td>3781</td>\n",
       "      <td>32</td>\n",
       "      <td>89.8</td>\n",
       "      <td>1622</td>\n",
       "      <td>6132782.0</td>\n",
       "      <td>6829379.0</td>\n",
       "      <td>4210</td>\n",
       "      <td>1984</td>\n",
       "      <td>1</td>\n",
       "      <td>1984-01</td>\n",
       "    </tr>\n",
       "    <tr>\n",
       "      <th>2</th>\n",
       "      <td>ADELAIDE</td>\n",
       "      <td>CANBERRA</td>\n",
       "      <td>30682</td>\n",
       "      <td>1339</td>\n",
       "      <td>12</td>\n",
       "      <td>94.7</td>\n",
       "      <td>972</td>\n",
       "      <td>1301508.0</td>\n",
       "      <td>1374348.0</td>\n",
       "      <td>1414</td>\n",
       "      <td>1984</td>\n",
       "      <td>1</td>\n",
       "      <td>1984-01</td>\n",
       "    </tr>\n",
       "    <tr>\n",
       "      <th>3</th>\n",
       "      <td>ADELAIDE</td>\n",
       "      <td>DARWIN</td>\n",
       "      <td>30682</td>\n",
       "      <td>3050</td>\n",
       "      <td>33</td>\n",
       "      <td>66.8</td>\n",
       "      <td>2619</td>\n",
       "      <td>7987950.0</td>\n",
       "      <td>11958009.0</td>\n",
       "      <td>4566</td>\n",
       "      <td>1984</td>\n",
       "      <td>1</td>\n",
       "      <td>1984-01</td>\n",
       "    </tr>\n",
       "    <tr>\n",
       "      <th>4</th>\n",
       "      <td>ADELAIDE</td>\n",
       "      <td>GOLD COAST</td>\n",
       "      <td>30682</td>\n",
       "      <td>1596</td>\n",
       "      <td>16</td>\n",
       "      <td>88.5</td>\n",
       "      <td>1607</td>\n",
       "      <td>2564772.0</td>\n",
       "      <td>2898047.0</td>\n",
       "      <td>1803</td>\n",
       "      <td>1984</td>\n",
       "      <td>1</td>\n",
       "      <td>1984-01</td>\n",
       "    </tr>\n",
       "  </tbody>\n",
       "</table>\n",
       "</div>"
      ],
      "text/plain": [
       "      City1          City2  Month  Passenger_Trips  Aircraft_Trips  \\\n",
       "0  ADELAIDE  ALICE SPRINGS  30682            15743             143   \n",
       "1  ADELAIDE       BRISBANE  30682             3781              32   \n",
       "2  ADELAIDE       CANBERRA  30682             1339              12   \n",
       "3  ADELAIDE         DARWIN  30682             3050              33   \n",
       "4  ADELAIDE     GOLD COAST  30682             1596              16   \n",
       "\n",
       "  Passenger_Load_Factor  Distance_GC_(km)        RPKs        ASKs  Seats  \\\n",
       "0                  81.8              1316  20717788.0  25327369.0  19246   \n",
       "1                  89.8              1622   6132782.0   6829379.0   4210   \n",
       "2                  94.7               972   1301508.0   1374348.0   1414   \n",
       "3                  66.8              2619   7987950.0  11958009.0   4566   \n",
       "4                  88.5              1607   2564772.0   2898047.0   1803   \n",
       "\n",
       "   Year  Month_num     Date  \n",
       "0  1984          1  1984-01  \n",
       "1  1984          1  1984-01  \n",
       "2  1984          1  1984-01  \n",
       "3  1984          1  1984-01  \n",
       "4  1984          1  1984-01  "
      ]
     },
     "execution_count": 47,
     "metadata": {},
     "output_type": "execute_result"
    }
   ],
   "source": [
    "data_1 = pd.to_datetime(data['Date'])\n",
    "data['Date'] = pd.PeriodIndex(data_1, freq='M')\n",
    "data[:5]"
   ]
  },
  {
   "cell_type": "markdown",
   "metadata": {},
   "source": [
    "## Most Popular Routes"
   ]
  },
  {
   "cell_type": "markdown",
   "metadata": {},
   "source": [
    "In this section we are going to explore the most popular domestic routes and how they change during the years."
   ]
  },
  {
   "cell_type": "markdown",
   "metadata": {},
   "source": [
    "### Routes along the years"
   ]
  },
  {
   "cell_type": "markdown",
   "metadata": {},
   "source": [
    "Seats available in each route during the years,"
   ]
  },
  {
   "cell_type": "code",
   "execution_count": 48,
   "metadata": {},
   "outputs": [],
   "source": [
    "routes = pd.DataFrame(data, columns=['City1', 'City2', 'Seats', 'Date'])"
   ]
  },
  {
   "cell_type": "code",
   "execution_count": 50,
   "metadata": {
    "scrolled": false
   },
   "outputs": [],
   "source": [
    "routes['Routes'] = routes['City1'] + '-' + routes['City2'] \n",
    "routes"
   ]
  },
  {
   "cell_type": "code",
   "execution_count": null,
   "metadata": {},
   "outputs": [],
   "source": []
  }
 ],
 "metadata": {
  "kernelspec": {
   "display_name": "Python 3",
   "language": "python",
   "name": "python3"
  },
  "language_info": {
   "codemirror_mode": {
    "name": "ipython",
    "version": 3
   },
   "file_extension": ".py",
   "mimetype": "text/x-python",
   "name": "python",
   "nbconvert_exporter": "python",
   "pygments_lexer": "ipython3",
   "version": "3.6.10"
  },
  "toc": {
   "base_numbering": 1,
   "nav_menu": {},
   "number_sections": true,
   "sideBar": true,
   "skip_h1_title": false,
   "title_cell": "Table of Contents",
   "title_sidebar": "Contents",
   "toc_cell": false,
   "toc_position": {},
   "toc_section_display": true,
   "toc_window_display": false
  }
 },
 "nbformat": 4,
 "nbformat_minor": 4
}
