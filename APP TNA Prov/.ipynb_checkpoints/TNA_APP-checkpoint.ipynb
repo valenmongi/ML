{
 "cells": [
  {
   "cell_type": "markdown",
   "metadata": {},
   "source": [
    "# Transferencias no Automáticas a Provincias - APP"
   ]
  },
  {
   "cell_type": "code",
   "execution_count": 284,
   "metadata": {},
   "outputs": [],
   "source": [
    "import scipy\n",
    "from scipy import stats\n",
    "\n",
    "#librerías necesarias:\n",
    "\n",
    "# Data handling\n",
    "import pandas as pd\n",
    "import numpy as np\n",
    "from sklearn.preprocessing import MinMaxScaler\n",
    "\n",
    "# Visualization\n",
    "import seaborn as sns\n",
    "#import plotly.express as px\n",
    "import matplotlib.pyplot as plt\n",
    "import mpl_toolkits.mplot3d.axes3d as p3\n",
    "from matplotlib import animation\n",
    "\n",
    "import nbconvert\n",
    "\n",
    "#APP\n",
    "import streamlit as st\n",
    "import altair as alt\n",
    "from altair import Chart, X, Y, Axis, SortField, OpacityValue\n",
    "\n",
    "\n",
    "from PIL import Image"
   ]
  },
  {
   "cell_type": "markdown",
   "metadata": {},
   "source": [
    "### ReadMe"
   ]
  },
  {
   "cell_type": "markdown",
   "metadata": {},
   "source": [
    "In the following Notebook we are going to create the app that allow us to create a dashboard that facilitate reading the dataset of the transfers from the federal government to the provincies."
   ]
  },
  {
   "cell_type": "code",
   "execution_count": 285,
   "metadata": {},
   "outputs": [
    {
     "data": {
      "text/plain": [
       "<streamlit.delta_generator.DeltaGenerator at 0x1d1094e89e8>"
      ]
     },
     "execution_count": 285,
     "metadata": {},
     "output_type": "execute_result"
    }
   ],
   "source": [
    "st.title('Creating Web Apps with JN and Streamlit')\n",
    "\n",
    "st.markdown('## Valentin Mongi')\n",
    "\n",
    "st.title('The Project') \n",
    "\n",
    "st.markdown('>This project uses the daily information of all the expenditures of the central governemnt. We are going to analyse the discretional transfers from the federal governemnt to the provincies in the period 2010 - 2020.')\n"
   ]
  },
  {
   "cell_type": "code",
   "execution_count": 286,
   "metadata": {},
   "outputs": [
    {
     "data": {
      "text/plain": [
       "<streamlit.delta_generator.DeltaGenerator at 0x1d1094e89e8>"
      ]
     },
     "execution_count": 286,
     "metadata": {},
     "output_type": "execute_result"
    }
   ],
   "source": [
    "image = Image.open('flag.jpg')\n",
    "st.image(image, use_column_width=True)"
   ]
  },
  {
   "cell_type": "markdown",
   "metadata": {},
   "source": [
    "## Import DATASET"
   ]
  },
  {
   "cell_type": "code",
   "execution_count": 287,
   "metadata": {},
   "outputs": [],
   "source": [
    "data = pd.read_csv(r'Dataset\\final_vf.csv', parse_dates=['Fecha'])"
   ]
  },
  {
   "cell_type": "markdown",
   "metadata": {},
   "source": [
    "### Create the DashBoard"
   ]
  },
  {
   "cell_type": "code",
   "execution_count": 288,
   "metadata": {},
   "outputs": [],
   "source": [
    "pob =  pd.DataFrame(data, columns=['Fecha', 'Provincia', 'tna(nominal)_pc'])\n",
    "pob['Fecha'] = pd.PeriodIndex(pob['Fecha'], freq='A')\n",
    "pob = pob.rename(columns={'tna(nominal)_pc':'TNA_percapita'})"
   ]
  },
  {
   "cell_type": "code",
   "execution_count": 296,
   "metadata": {},
   "outputs": [],
   "source": [
    "df = pob.groupby(['Fecha', 'Provincia']).sum().reset_index()"
   ]
  },
  {
   "cell_type": "code",
   "execution_count": 316,
   "metadata": {},
   "outputs": [],
   "source": [
    "df['Fecha'] = df['Fecha'].astype(str)"
   ]
  },
  {
   "cell_type": "markdown",
   "metadata": {},
   "source": [
    "Groupby Years"
   ]
  },
  {
   "cell_type": "code",
   "execution_count": 317,
   "metadata": {},
   "outputs": [],
   "source": [
    "pob_1 = pob[pob['Fecha'] == '2019'].groupby(['Provincia']).sum().reset_index()\n",
    "pob_2 = pob_1.sort_values(by='TNA_percapita', ascending=False)"
   ]
  },
  {
   "cell_type": "markdown",
   "metadata": {},
   "source": [
    "## First, create a historical graph"
   ]
  },
  {
   "cell_type": "markdown",
   "metadata": {},
   "source": [
    "We are going to create a evolutive graph that shows the ranking of transfers per capita, by province and year."
   ]
  },
  {
   "cell_type": "code",
   "execution_count": 318,
   "metadata": {},
   "outputs": [
    {
     "data": {
      "text/plain": [
       "<streamlit.delta_generator.DeltaGenerator at 0x1d1094e89e8>"
      ]
     },
     "execution_count": 318,
     "metadata": {},
     "output_type": "execute_result"
    }
   ],
   "source": [
    "st.markdown('### Ranking of Transfer per capita by Provinces')\n",
    "st.markdown('*We are going to build a evolutive graph that shows the ranking of the provinces who were more benefitted with the transfers from the federal governmet. The variable included is the **nominal transfers per capita**.*')"
   ]
  },
  {
   "cell_type": "markdown",
   "metadata": {},
   "source": [
    "bars = alt.Chart(data).mark_bar().encode(\n",
    "    x=X('1:Q',axis=Axis(title='Transfers per capita Ranking')),\n",
    "    y=Y('0:Q',axis=Axis(title='Provinces'))).properties(width=650, height=400)"
   ]
  },
  {
   "cell_type": "markdown",
   "metadata": {},
   "source": [
    "bar_plot = st.altair_chart(bars)"
   ]
  },
  {
   "cell_type": "markdown",
   "metadata": {},
   "source": [
    "def plot_bar_animated_altair(df,Fecha):\n",
    "    bars = alt.Chart(df, title=\"Ranking as of year :\"+Fecha).encode(\n",
    "        x=X('TNA_percapita:Q',axis=Axis(title='TNA_percapita')), \n",
    "        y=Y('Provincia:N',axis=Axis(title='Provincias'), sort='-x'),\n",
    "        color=alt.Color('Provincia:N')).properties(width=650, height=400)\n",
    "            \n",
    "        \n",
    "    \n",
    "    st.balloons() "
   ]
  },
  {
   "cell_type": "code",
   "execution_count": 341,
   "metadata": {},
   "outputs": [],
   "source": [
    "slider = alt.binding_range(min=2010, max=2020, step=1)\n",
    "select_year = alt.selection_single(name='Fecha', fields=['Fecha'],\n",
    "                                   bind=slider, init={'Fecha': 2010})"
   ]
  },
  {
   "cell_type": "code",
   "execution_count": 342,
   "metadata": {},
   "outputs": [],
   "source": [
    "base = alt.Chart(df).mark_bar().encode(\n",
    "            x=alt.X('TNA_percapita:Q', title='TNA_percapita'),\n",
    "            y=alt.Y('Provincia:N', sort='-x'),\n",
    "        color=alt.Color('Provincia:N')).properties(width=650, height=400).add_selection(select_year).transform_filter(select_year)\n",
    "    "
   ]
  },
  {
   "cell_type": "code",
   "execution_count": 343,
   "metadata": {},
   "outputs": [
    {
     "data": {
      "text/html": [
       "\n",
       "<div id=\"altair-viz-5107dba1ddc64a4aa1ac8ab12cd8716d\"></div>\n",
       "<script type=\"text/javascript\">\n",
       "  (function(spec, embedOpt){\n",
       "    let outputDiv = document.currentScript.previousElementSibling;\n",
       "    if (outputDiv.id !== \"altair-viz-5107dba1ddc64a4aa1ac8ab12cd8716d\") {\n",
       "      outputDiv = document.getElementById(\"altair-viz-5107dba1ddc64a4aa1ac8ab12cd8716d\");\n",
       "    }\n",
       "    const paths = {\n",
       "      \"vega\": \"https://cdn.jsdelivr.net/npm//vega@5?noext\",\n",
       "      \"vega-lib\": \"https://cdn.jsdelivr.net/npm//vega-lib?noext\",\n",
       "      \"vega-lite\": \"https://cdn.jsdelivr.net/npm//vega-lite@4.8.1?noext\",\n",
       "      \"vega-embed\": \"https://cdn.jsdelivr.net/npm//vega-embed@6?noext\",\n",
       "    };\n",
       "\n",
       "    function loadScript(lib) {\n",
       "      return new Promise(function(resolve, reject) {\n",
       "        var s = document.createElement('script');\n",
       "        s.src = paths[lib];\n",
       "        s.async = true;\n",
       "        s.onload = () => resolve(paths[lib]);\n",
       "        s.onerror = () => reject(`Error loading script: ${paths[lib]}`);\n",
       "        document.getElementsByTagName(\"head\")[0].appendChild(s);\n",
       "      });\n",
       "    }\n",
       "\n",
       "    function showError(err) {\n",
       "      outputDiv.innerHTML = `<div class=\"error\" style=\"color:red;\">${err}</div>`;\n",
       "      throw err;\n",
       "    }\n",
       "\n",
       "    function displayChart(vegaEmbed) {\n",
       "      vegaEmbed(outputDiv, spec, embedOpt)\n",
       "        .catch(err => showError(`Javascript Error: ${err.message}<br>This usually means there's a typo in your chart specification. See the javascript console for the full traceback.`));\n",
       "    }\n",
       "\n",
       "    if(typeof define === \"function\" && define.amd) {\n",
       "      requirejs.config({paths});\n",
       "      require([\"vega-embed\"], displayChart, err => showError(`Error loading script: ${err.message}`));\n",
       "    } else if (typeof vegaEmbed === \"function\") {\n",
       "      displayChart(vegaEmbed);\n",
       "    } else {\n",
       "      loadScript(\"vega\")\n",
       "        .then(() => loadScript(\"vega-lite\"))\n",
       "        .then(() => loadScript(\"vega-embed\"))\n",
       "        .catch(showError)\n",
       "        .then(() => displayChart(vegaEmbed));\n",
       "    }\n",
       "  })({\"config\": {\"view\": {\"continuousWidth\": 400, \"continuousHeight\": 300}}, \"data\": {\"name\": \"data-d50a719c5bd38bfafa4c48f3a65eaa59\"}, \"mark\": \"bar\", \"encoding\": {\"color\": {\"type\": \"nominal\", \"field\": \"Provincia\"}, \"x\": {\"type\": \"quantitative\", \"field\": \"TNA_percapita\", \"title\": \"TNA_percapita\"}, \"y\": {\"type\": \"nominal\", \"field\": \"Provincia\", \"sort\": \"-x\"}}, \"height\": 400, \"selection\": {\"Fecha\": {\"type\": \"single\", \"fields\": [\"Fecha\"], \"bind\": {\"input\": \"range\", \"max\": 2020, \"min\": 2010, \"step\": 1}, \"init\": {\"Fecha\": 2010}}}, \"transform\": [{\"filter\": {\"selection\": \"Fecha\"}}], \"width\": 650, \"$schema\": \"https://vega.github.io/schema/vega-lite/v4.8.1.json\", \"datasets\": {\"data-d50a719c5bd38bfafa4c48f3a65eaa59\": [{\"Fecha\": \"2010\", \"Provincia\": \"Buenos Aires\", \"TNA_percapita\": 539.681377573958}, {\"Fecha\": \"2010\", \"Provincia\": \"C.A.B.A.\", \"TNA_percapita\": 287.52730436809736}, {\"Fecha\": \"2010\", \"Provincia\": \"Catamarca\", \"TNA_percapita\": 1069.1961051536236}, {\"Fecha\": \"2010\", \"Provincia\": \"Chaco\", \"TNA_percapita\": 1654.4758784537662}, {\"Fecha\": \"2010\", \"Provincia\": \"Chubut\", \"TNA_percapita\": 715.0382156581288}, {\"Fecha\": \"2010\", \"Provincia\": \"Corrientes\", \"TNA_percapita\": 647.8905269368821}, {\"Fecha\": \"2010\", \"Provincia\": \"C\\u00f3rdoba\", \"TNA_percapita\": 788.0818241934167}, {\"Fecha\": \"2010\", \"Provincia\": \"Entre R\\u00edos\", \"TNA_percapita\": 1125.89004583561}, {\"Fecha\": \"2010\", \"Provincia\": \"Formosa\", \"TNA_percapita\": 2678.6650040607237}, {\"Fecha\": \"2010\", \"Provincia\": \"Jujuy\", \"TNA_percapita\": 1215.7735097942539}, {\"Fecha\": \"2010\", \"Provincia\": \"La Pampa\", \"TNA_percapita\": 2682.36051356459}, {\"Fecha\": \"2010\", \"Provincia\": \"La Rioja\", \"TNA_percapita\": 3413.2115220881415}, {\"Fecha\": \"2010\", \"Provincia\": \"Mendoza\", \"TNA_percapita\": 497.39773292042713}, {\"Fecha\": \"2010\", \"Provincia\": \"Misiones\", \"TNA_percapita\": 839.426826698429}, {\"Fecha\": \"2010\", \"Provincia\": \"Neuqu\\u00e9n\", \"TNA_percapita\": 764.3588649787552}, {\"Fecha\": \"2010\", \"Provincia\": \"R\\u00edo Negro\", \"TNA_percapita\": 1075.1451994903414}, {\"Fecha\": \"2010\", \"Provincia\": \"Salta\", \"TNA_percapita\": 725.0424986542773}, {\"Fecha\": \"2010\", \"Provincia\": \"San Juan\", \"TNA_percapita\": 1085.3439336652896}, {\"Fecha\": \"2010\", \"Provincia\": \"San Luis\", \"TNA_percapita\": 666.9205315985804}, {\"Fecha\": \"2010\", \"Provincia\": \"Santa Cruz\", \"TNA_percapita\": 6488.817843508128}, {\"Fecha\": \"2010\", \"Provincia\": \"Santa Fe\", \"TNA_percapita\": 458.6646391532969}, {\"Fecha\": \"2010\", \"Provincia\": \"Santiago del Estero\", \"TNA_percapita\": 1946.2065677296225}, {\"Fecha\": \"2010\", \"Provincia\": \"Tierra del Fuego\", \"TNA_percapita\": 2389.5295417777475}, {\"Fecha\": \"2010\", \"Provincia\": \"Tucum\\u00e1n\", \"TNA_percapita\": 1056.9270478134597}, {\"Fecha\": \"2011\", \"Provincia\": \"Buenos Aires\", \"TNA_percapita\": 532.2986313734839}, {\"Fecha\": \"2011\", \"Provincia\": \"C.A.B.A.\", \"TNA_percapita\": 417.8855751458894}, {\"Fecha\": \"2011\", \"Provincia\": \"Catamarca\", \"TNA_percapita\": 1358.524100951912}, {\"Fecha\": \"2011\", \"Provincia\": \"Chaco\", \"TNA_percapita\": 2006.9315042489422}, {\"Fecha\": \"2011\", \"Provincia\": \"Chubut\", \"TNA_percapita\": 767.6188058588212}, {\"Fecha\": \"2011\", \"Provincia\": \"Corrientes\", \"TNA_percapita\": 873.9548077701104}, {\"Fecha\": \"2011\", \"Provincia\": \"C\\u00f3rdoba\", \"TNA_percapita\": 499.03554460979694}, {\"Fecha\": \"2011\", \"Provincia\": \"Entre R\\u00edos\", \"TNA_percapita\": 1345.6078633199447}, {\"Fecha\": \"2011\", \"Provincia\": \"Formosa\", \"TNA_percapita\": 3387.3936459370857}, {\"Fecha\": \"2011\", \"Provincia\": \"Jujuy\", \"TNA_percapita\": 1391.2277722316817}, {\"Fecha\": \"2011\", \"Provincia\": \"La Pampa\", \"TNA_percapita\": 1550.1794879915724}, {\"Fecha\": \"2011\", \"Provincia\": \"La Rioja\", \"TNA_percapita\": 4228.988651631393}, {\"Fecha\": \"2011\", \"Provincia\": \"Mendoza\", \"TNA_percapita\": 539.5309194011915}, {\"Fecha\": \"2011\", \"Provincia\": \"Misiones\", \"TNA_percapita\": 1074.2291762919508}, {\"Fecha\": \"2011\", \"Provincia\": \"Neuqu\\u00e9n\", \"TNA_percapita\": 684.6739513683557}, {\"Fecha\": \"2011\", \"Provincia\": \"R\\u00edo Negro\", \"TNA_percapita\": 1137.0824986408238}, {\"Fecha\": \"2011\", \"Provincia\": \"Salta\", \"TNA_percapita\": 692.277023911244}, {\"Fecha\": \"2011\", \"Provincia\": \"San Juan\", \"TNA_percapita\": 1233.4422576959983}, {\"Fecha\": \"2011\", \"Provincia\": \"San Luis\", \"TNA_percapita\": 767.105234640369}, {\"Fecha\": \"2011\", \"Provincia\": \"Santa Cruz\", \"TNA_percapita\": 8814.141868649218}, {\"Fecha\": \"2011\", \"Provincia\": \"Santa Fe\", \"TNA_percapita\": 499.1724961283343}, {\"Fecha\": \"2011\", \"Provincia\": \"Santiago del Estero\", \"TNA_percapita\": 1613.4394939970243}, {\"Fecha\": \"2011\", \"Provincia\": \"Tierra del Fuego\", \"TNA_percapita\": 2007.9827194236134}, {\"Fecha\": \"2011\", \"Provincia\": \"Tucum\\u00e1n\", \"TNA_percapita\": 1167.411349451498}, {\"Fecha\": \"2012\", \"Provincia\": \"Buenos Aires\", \"TNA_percapita\": 535.2835888684518}, {\"Fecha\": \"2012\", \"Provincia\": \"C.A.B.A.\", \"TNA_percapita\": 451.76322299809794}, {\"Fecha\": \"2012\", \"Provincia\": \"Catamarca\", \"TNA_percapita\": 1693.540598897791}, {\"Fecha\": \"2012\", \"Provincia\": \"Chaco\", \"TNA_percapita\": 2523.354192765635}, {\"Fecha\": \"2012\", \"Provincia\": \"Chubut\", \"TNA_percapita\": 781.9811486414487}, {\"Fecha\": \"2012\", \"Provincia\": \"Corrientes\", \"TNA_percapita\": 915.0861577456766}, {\"Fecha\": \"2012\", \"Provincia\": \"C\\u00f3rdoba\", \"TNA_percapita\": 442.2019829986792}, {\"Fecha\": \"2012\", \"Provincia\": \"Entre R\\u00edos\", \"TNA_percapita\": 1416.8101339385646}, {\"Fecha\": \"2012\", \"Provincia\": \"Formosa\", \"TNA_percapita\": 4015.7124544504727}, {\"Fecha\": \"2012\", \"Provincia\": \"Jujuy\", \"TNA_percapita\": 1698.6726012760025}, {\"Fecha\": \"2012\", \"Provincia\": \"La Pampa\", \"TNA_percapita\": 1603.144195672513}, {\"Fecha\": \"2012\", \"Provincia\": \"La Rioja\", \"TNA_percapita\": 3650.93307294681}, {\"Fecha\": \"2012\", \"Provincia\": \"Mendoza\", \"TNA_percapita\": 593.6799426854574}, {\"Fecha\": \"2012\", \"Provincia\": \"Misiones\", \"TNA_percapita\": 1184.5847020378624}, {\"Fecha\": \"2012\", \"Provincia\": \"Neuqu\\u00e9n\", \"TNA_percapita\": 989.0895794204473}, {\"Fecha\": \"2012\", \"Provincia\": \"R\\u00edo Negro\", \"TNA_percapita\": 1039.3395504760986}, {\"Fecha\": \"2012\", \"Provincia\": \"Salta\", \"TNA_percapita\": 947.1299426574435}, {\"Fecha\": \"2012\", \"Provincia\": \"San Juan\", \"TNA_percapita\": 1206.520531812574}, {\"Fecha\": \"2012\", \"Provincia\": \"San Luis\", \"TNA_percapita\": 894.0611998931997}, {\"Fecha\": \"2012\", \"Provincia\": \"Santa Cruz\", \"TNA_percapita\": 3949.7166052616376}, {\"Fecha\": \"2012\", \"Provincia\": \"Santa Fe\", \"TNA_percapita\": 484.00064026992544}, {\"Fecha\": \"2012\", \"Provincia\": \"Santiago del Estero\", \"TNA_percapita\": 1874.9504507147606}, {\"Fecha\": \"2012\", \"Provincia\": \"Tierra del Fuego\", \"TNA_percapita\": 2432.3162937247926}, {\"Fecha\": \"2012\", \"Provincia\": \"Tucum\\u00e1n\", \"TNA_percapita\": 1153.8527699160318}, {\"Fecha\": \"2013\", \"Provincia\": \"Buenos Aires\", \"TNA_percapita\": 715.8312733382808}, {\"Fecha\": \"2013\", \"Provincia\": \"C.A.B.A.\", \"TNA_percapita\": 886.8668951432223}, {\"Fecha\": \"2013\", \"Provincia\": \"Catamarca\", \"TNA_percapita\": 2394.569487201226}, {\"Fecha\": \"2013\", \"Provincia\": \"Chaco\", \"TNA_percapita\": 3131.7199696677785}, {\"Fecha\": \"2013\", \"Provincia\": \"Chubut\", \"TNA_percapita\": 1305.5918091068359}, {\"Fecha\": \"2013\", \"Provincia\": \"Corrientes\", \"TNA_percapita\": 1029.682649064876}, {\"Fecha\": \"2013\", \"Provincia\": \"C\\u00f3rdoba\", \"TNA_percapita\": 508.75688450108044}, {\"Fecha\": \"2013\", \"Provincia\": \"Entre R\\u00edos\", \"TNA_percapita\": 1865.7394574174914}, {\"Fecha\": \"2013\", \"Provincia\": \"Formosa\", \"TNA_percapita\": 4686.896526847912}, {\"Fecha\": \"2013\", \"Provincia\": \"Jujuy\", \"TNA_percapita\": 2340.661137101987}, {\"Fecha\": \"2013\", \"Provincia\": \"La Pampa\", \"TNA_percapita\": 2689.1352160935685}, {\"Fecha\": \"2013\", \"Provincia\": \"La Rioja\", \"TNA_percapita\": 5306.708865169672}, {\"Fecha\": \"2013\", \"Provincia\": \"Mendoza\", \"TNA_percapita\": 777.3633470607499}, {\"Fecha\": \"2013\", \"Provincia\": \"Misiones\", \"TNA_percapita\": 2023.0222777449562}, {\"Fecha\": \"2013\", \"Provincia\": \"Neuqu\\u00e9n\", \"TNA_percapita\": 1515.8979660168097}, {\"Fecha\": \"2013\", \"Provincia\": \"R\\u00edo Negro\", \"TNA_percapita\": 1367.893314938045}, {\"Fecha\": \"2013\", \"Provincia\": \"Salta\", \"TNA_percapita\": 1253.2540052502259}, {\"Fecha\": \"2013\", \"Provincia\": \"San Juan\", \"TNA_percapita\": 1586.7542486042414}, {\"Fecha\": \"2013\", \"Provincia\": \"San Luis\", \"TNA_percapita\": 1113.0646808772342}, {\"Fecha\": \"2013\", \"Provincia\": \"Santa Cruz\", \"TNA_percapita\": 6461.817031611664}, {\"Fecha\": \"2013\", \"Provincia\": \"Santa Fe\", \"TNA_percapita\": 582.8448934613261}, {\"Fecha\": \"2013\", \"Provincia\": \"Santiago del Estero\", \"TNA_percapita\": 2545.635590838828}, {\"Fecha\": \"2013\", \"Provincia\": \"Tierra del Fuego\", \"TNA_percapita\": 3489.213063471008}, {\"Fecha\": \"2013\", \"Provincia\": \"Tucum\\u00e1n\", \"TNA_percapita\": 1627.574566949841}, {\"Fecha\": \"2014\", \"Provincia\": \"Buenos Aires\", \"TNA_percapita\": 983.9221560839237}, {\"Fecha\": \"2014\", \"Provincia\": \"C.A.B.A.\", \"TNA_percapita\": 977.1400253473913}, {\"Fecha\": \"2014\", \"Provincia\": \"Catamarca\", \"TNA_percapita\": 3682.3782296585005}, {\"Fecha\": \"2014\", \"Provincia\": \"Chaco\", \"TNA_percapita\": 5374.0385938185445}, {\"Fecha\": \"2014\", \"Provincia\": \"Chubut\", \"TNA_percapita\": 1583.6111279499712}, {\"Fecha\": \"2014\", \"Provincia\": \"Corrientes\", \"TNA_percapita\": 1634.4500590468708}, {\"Fecha\": \"2014\", \"Provincia\": \"C\\u00f3rdoba\", \"TNA_percapita\": 752.7189119749074}, {\"Fecha\": \"2014\", \"Provincia\": \"Entre R\\u00edos\", \"TNA_percapita\": 2580.6766625289492}, {\"Fecha\": \"2014\", \"Provincia\": \"Formosa\", \"TNA_percapita\": 5476.369547038024}, {\"Fecha\": \"2014\", \"Provincia\": \"Jujuy\", \"TNA_percapita\": 3869.741263541926}, {\"Fecha\": \"2014\", \"Provincia\": \"La Pampa\", \"TNA_percapita\": 2723.995530913962}, {\"Fecha\": \"2014\", \"Provincia\": \"La Rioja\", \"TNA_percapita\": 7871.159408088698}, {\"Fecha\": \"2014\", \"Provincia\": \"Mendoza\", \"TNA_percapita\": 1068.1041118859282}, {\"Fecha\": \"2014\", \"Provincia\": \"Misiones\", \"TNA_percapita\": 2865.8513423274753}, {\"Fecha\": \"2014\", \"Provincia\": \"Neuqu\\u00e9n\", \"TNA_percapita\": 2127.6735904064067}, {\"Fecha\": \"2014\", \"Provincia\": \"R\\u00edo Negro\", \"TNA_percapita\": 2419.2429239206626}, {\"Fecha\": \"2014\", \"Provincia\": \"Salta\", \"TNA_percapita\": 1605.7615438806267}, {\"Fecha\": \"2014\", \"Provincia\": \"San Juan\", \"TNA_percapita\": 2352.1853854831834}, {\"Fecha\": \"2014\", \"Provincia\": \"San Luis\", \"TNA_percapita\": 1476.8979556235615}, {\"Fecha\": \"2014\", \"Provincia\": \"Santa Cruz\", \"TNA_percapita\": 7413.100150203572}, {\"Fecha\": \"2014\", \"Provincia\": \"Santa Fe\", \"TNA_percapita\": 958.0823582128988}, {\"Fecha\": \"2014\", \"Provincia\": \"Santiago del Estero\", \"TNA_percapita\": 3615.4884001363625}, {\"Fecha\": \"2014\", \"Provincia\": \"Tierra del Fuego\", \"TNA_percapita\": 6005.44857016531}, {\"Fecha\": \"2014\", \"Provincia\": \"Tucum\\u00e1n\", \"TNA_percapita\": 2222.986960619001}, {\"Fecha\": \"2015\", \"Provincia\": \"Buenos Aires\", \"TNA_percapita\": 1507.9564072792384}, {\"Fecha\": \"2015\", \"Provincia\": \"C.A.B.A.\", \"TNA_percapita\": 1364.1119223270268}, {\"Fecha\": \"2015\", \"Provincia\": \"Catamarca\", \"TNA_percapita\": 4741.281557490013}, {\"Fecha\": \"2015\", \"Provincia\": \"Chaco\", \"TNA_percapita\": 6217.268530389675}, {\"Fecha\": \"2015\", \"Provincia\": \"Chubut\", \"TNA_percapita\": 1904.4666783437578}, {\"Fecha\": \"2015\", \"Provincia\": \"Corrientes\", \"TNA_percapita\": 2309.2077664505578}, {\"Fecha\": \"2015\", \"Provincia\": \"C\\u00f3rdoba\", \"TNA_percapita\": 838.8200125881048}, {\"Fecha\": \"2015\", \"Provincia\": \"Entre R\\u00edos\", \"TNA_percapita\": 3504.7597538093664}, {\"Fecha\": \"2015\", \"Provincia\": \"Formosa\", \"TNA_percapita\": 6901.188472645657}, {\"Fecha\": \"2015\", \"Provincia\": \"Jujuy\", \"TNA_percapita\": 4977.574409904091}, {\"Fecha\": \"2015\", \"Provincia\": \"La Pampa\", \"TNA_percapita\": 2072.9240119397414}, {\"Fecha\": \"2015\", \"Provincia\": \"La Rioja\", \"TNA_percapita\": 8104.826198440151}, {\"Fecha\": \"2015\", \"Provincia\": \"Mendoza\", \"TNA_percapita\": 1317.454166469112}, {\"Fecha\": \"2015\", \"Provincia\": \"Misiones\", \"TNA_percapita\": 3542.511742895427}, {\"Fecha\": \"2015\", \"Provincia\": \"Neuqu\\u00e9n\", \"TNA_percapita\": 3080.011368094941}, {\"Fecha\": \"2015\", \"Provincia\": \"R\\u00edo Negro\", \"TNA_percapita\": 3399.392858727036}, {\"Fecha\": \"2015\", \"Provincia\": \"Salta\", \"TNA_percapita\": 2064.873271999791}, {\"Fecha\": \"2015\", \"Provincia\": \"San Juan\", \"TNA_percapita\": 3243.0861779340944}, {\"Fecha\": \"2015\", \"Provincia\": \"San Luis\", \"TNA_percapita\": 1837.3991190529664}, {\"Fecha\": \"2015\", \"Provincia\": \"Santa Cruz\", \"TNA_percapita\": 12447.740769216376}, {\"Fecha\": \"2015\", \"Provincia\": \"Santa Fe\", \"TNA_percapita\": 1328.8429074428145}, {\"Fecha\": \"2015\", \"Provincia\": \"Santiago del Estero\", \"TNA_percapita\": 4899.564036345337}, {\"Fecha\": \"2015\", \"Provincia\": \"Tierra del Fuego\", \"TNA_percapita\": 7919.609379911629}, {\"Fecha\": \"2015\", \"Provincia\": \"Tucum\\u00e1n\", \"TNA_percapita\": 2382.2760665160795}, {\"Fecha\": \"2016\", \"Provincia\": \"Buenos Aires\", \"TNA_percapita\": 3452.715994064533}, {\"Fecha\": \"2016\", \"Provincia\": \"C.A.B.A.\", \"TNA_percapita\": 2373.1328821733814}, {\"Fecha\": \"2016\", \"Provincia\": \"Catamarca\", \"TNA_percapita\": 5473.279359959871}, {\"Fecha\": \"2016\", \"Provincia\": \"Chaco\", \"TNA_percapita\": 5167.898448365225}, {\"Fecha\": \"2016\", \"Provincia\": \"Chubut\", \"TNA_percapita\": 3055.1029961937147}, {\"Fecha\": \"2016\", \"Provincia\": \"Corrientes\", \"TNA_percapita\": 3616.1211753612424}, {\"Fecha\": \"2016\", \"Provincia\": \"C\\u00f3rdoba\", \"TNA_percapita\": 2198.81569832582}, {\"Fecha\": \"2016\", \"Provincia\": \"Entre R\\u00edos\", \"TNA_percapita\": 3994.2541587528995}, {\"Fecha\": \"2016\", \"Provincia\": \"Formosa\", \"TNA_percapita\": 8266.163120879766}, {\"Fecha\": \"2016\", \"Provincia\": \"Jujuy\", \"TNA_percapita\": 4018.5497943362366}, {\"Fecha\": \"2016\", \"Provincia\": \"La Pampa\", \"TNA_percapita\": 8236.56264437839}, {\"Fecha\": \"2016\", \"Provincia\": \"La Rioja\", \"TNA_percapita\": 9509.83699513784}, {\"Fecha\": \"2016\", \"Provincia\": \"Mendoza\", \"TNA_percapita\": 2212.3661881444846}, {\"Fecha\": \"2016\", \"Provincia\": \"Misiones\", \"TNA_percapita\": 3633.0972122486446}, {\"Fecha\": \"2016\", \"Provincia\": \"Neuqu\\u00e9n\", \"TNA_percapita\": 6048.442611079399}, {\"Fecha\": \"2016\", \"Provincia\": \"R\\u00edo Negro\", \"TNA_percapita\": 3483.3950130996263}, {\"Fecha\": \"2016\", \"Provincia\": \"Salta\", \"TNA_percapita\": 3614.1820973638146}, {\"Fecha\": \"2016\", \"Provincia\": \"San Juan\", \"TNA_percapita\": 5371.159318905455}, {\"Fecha\": \"2016\", \"Provincia\": \"San Luis\", \"TNA_percapita\": 2263.6578831639035}, {\"Fecha\": \"2016\", \"Provincia\": \"Santa Cruz\", \"TNA_percapita\": 5295.575080227863}, {\"Fecha\": \"2016\", \"Provincia\": \"Santa Fe\", \"TNA_percapita\": 1912.9555553826751}, {\"Fecha\": \"2016\", \"Provincia\": \"Santiago del Estero\", \"TNA_percapita\": 5345.070656800011}, {\"Fecha\": \"2016\", \"Provincia\": \"Tierra del Fuego\", \"TNA_percapita\": 11557.83171133929}, {\"Fecha\": \"2016\", \"Provincia\": \"Tucum\\u00e1n\", \"TNA_percapita\": 2357.2404050137707}, {\"Fecha\": \"2017\", \"Provincia\": \"Buenos Aires\", \"TNA_percapita\": 4117.691834701998}, {\"Fecha\": \"2017\", \"Provincia\": \"C.A.B.A.\", \"TNA_percapita\": 3751.679902729615}, {\"Fecha\": \"2017\", \"Provincia\": \"Catamarca\", \"TNA_percapita\": 7771.234874923654}, {\"Fecha\": \"2017\", \"Provincia\": \"Chaco\", \"TNA_percapita\": 6198.479103927956}, {\"Fecha\": \"2017\", \"Provincia\": \"Chubut\", \"TNA_percapita\": 3635.086618964683}, {\"Fecha\": \"2017\", \"Provincia\": \"Corrientes\", \"TNA_percapita\": 3789.5868040621913}, {\"Fecha\": \"2017\", \"Provincia\": \"C\\u00f3rdoba\", \"TNA_percapita\": 3264.2454251984964}, {\"Fecha\": \"2017\", \"Provincia\": \"Entre R\\u00edos\", \"TNA_percapita\": 4458.219027419504}, {\"Fecha\": \"2017\", \"Provincia\": \"Formosa\", \"TNA_percapita\": 7687.17224847266}, {\"Fecha\": \"2017\", \"Provincia\": \"Jujuy\", \"TNA_percapita\": 5469.754179847885}, {\"Fecha\": \"2017\", \"Provincia\": \"La Pampa\", \"TNA_percapita\": 6045.057899278275}, {\"Fecha\": \"2017\", \"Provincia\": \"La Rioja\", \"TNA_percapita\": 13021.245506775613}, {\"Fecha\": \"2017\", \"Provincia\": \"Mendoza\", \"TNA_percapita\": 2670.300771698861}, {\"Fecha\": \"2017\", \"Provincia\": \"Misiones\", \"TNA_percapita\": 4414.798716846723}, {\"Fecha\": \"2017\", \"Provincia\": \"Neuqu\\u00e9n\", \"TNA_percapita\": 6376.386768901084}, {\"Fecha\": \"2017\", \"Provincia\": \"R\\u00edo Negro\", \"TNA_percapita\": 3723.7751443547995}, {\"Fecha\": \"2017\", \"Provincia\": \"Salta\", \"TNA_percapita\": 3677.8898500528685}, {\"Fecha\": \"2017\", \"Provincia\": \"San Juan\", \"TNA_percapita\": 5620.557850300394}, {\"Fecha\": \"2017\", \"Provincia\": \"San Luis\", \"TNA_percapita\": 2577.8253598650913}, {\"Fecha\": \"2017\", \"Provincia\": \"Santa Cruz\", \"TNA_percapita\": 8665.630009599992}, {\"Fecha\": \"2017\", \"Provincia\": \"Santa Fe\", \"TNA_percapita\": 2461.6399428898044}, {\"Fecha\": \"2017\", \"Provincia\": \"Santiago del Estero\", \"TNA_percapita\": 5178.253472323583}, {\"Fecha\": \"2017\", \"Provincia\": \"Tierra del Fuego\", \"TNA_percapita\": 10761.531243591331}, {\"Fecha\": \"2017\", \"Provincia\": \"Tucum\\u00e1n\", \"TNA_percapita\": 2672.7072868961427}, {\"Fecha\": \"2018\", \"Provincia\": \"Buenos Aires\", \"TNA_percapita\": 3816.760313032687}, {\"Fecha\": \"2018\", \"Provincia\": \"C.A.B.A.\", \"TNA_percapita\": 3672.7009780045482}, {\"Fecha\": \"2018\", \"Provincia\": \"Catamarca\", \"TNA_percapita\": 10877.778300123473}, {\"Fecha\": \"2018\", \"Provincia\": \"Chaco\", \"TNA_percapita\": 7022.369014669495}, {\"Fecha\": \"2018\", \"Provincia\": \"Chubut\", \"TNA_percapita\": 3052.602736247866}, {\"Fecha\": \"2018\", \"Provincia\": \"Corrientes\", \"TNA_percapita\": 4895.194878655942}, {\"Fecha\": \"2018\", \"Provincia\": \"C\\u00f3rdoba\", \"TNA_percapita\": 3134.793893689286}, {\"Fecha\": \"2018\", \"Provincia\": \"Entre R\\u00edos\", \"TNA_percapita\": 5680.137113525512}, {\"Fecha\": \"2018\", \"Provincia\": \"Formosa\", \"TNA_percapita\": 8905.556963653251}, {\"Fecha\": \"2018\", \"Provincia\": \"Jujuy\", \"TNA_percapita\": 5969.604506357021}, {\"Fecha\": \"2018\", \"Provincia\": \"La Pampa\", \"TNA_percapita\": 4123.826380613996}, {\"Fecha\": \"2018\", \"Provincia\": \"La Rioja\", \"TNA_percapita\": 6699.321373623501}, {\"Fecha\": \"2018\", \"Provincia\": \"Mendoza\", \"TNA_percapita\": 4060.15467114795}, {\"Fecha\": \"2018\", \"Provincia\": \"Misiones\", \"TNA_percapita\": 5060.4612185777005}, {\"Fecha\": \"2018\", \"Provincia\": \"Neuqu\\u00e9n\", \"TNA_percapita\": 8009.415359297707}, {\"Fecha\": \"2018\", \"Provincia\": \"R\\u00edo Negro\", \"TNA_percapita\": 4287.303455998946}, {\"Fecha\": \"2018\", \"Provincia\": \"Salta\", \"TNA_percapita\": 5538.50850081956}, {\"Fecha\": \"2018\", \"Provincia\": \"San Juan\", \"TNA_percapita\": 6605.5860232372}, {\"Fecha\": \"2018\", \"Provincia\": \"San Luis\", \"TNA_percapita\": 1662.1618018316135}, {\"Fecha\": \"2018\", \"Provincia\": \"Santa Cruz\", \"TNA_percapita\": 5364.528717707202}, {\"Fecha\": \"2018\", \"Provincia\": \"Santa Fe\", \"TNA_percapita\": 3794.978024107904}, {\"Fecha\": \"2018\", \"Provincia\": \"Santiago del Estero\", \"TNA_percapita\": 5256.185854317911}, {\"Fecha\": \"2018\", \"Provincia\": \"Tierra del Fuego\", \"TNA_percapita\": 12861.39325533515}, {\"Fecha\": \"2018\", \"Provincia\": \"Tucum\\u00e1n\", \"TNA_percapita\": 4006.443895649629}, {\"Fecha\": \"2019\", \"Provincia\": \"Buenos Aires\", \"TNA_percapita\": 3249.115899507224}, {\"Fecha\": \"2019\", \"Provincia\": \"C.A.B.A.\", \"TNA_percapita\": 4648.272759248043}, {\"Fecha\": \"2019\", \"Provincia\": \"Catamarca\", \"TNA_percapita\": 6381.92767849858}, {\"Fecha\": \"2019\", \"Provincia\": \"Chaco\", \"TNA_percapita\": 4379.414053333178}, {\"Fecha\": \"2019\", \"Provincia\": \"Chubut\", \"TNA_percapita\": 2497.8567740324493}, {\"Fecha\": \"2019\", \"Provincia\": \"Corrientes\", \"TNA_percapita\": 4425.882653152154}, {\"Fecha\": \"2019\", \"Provincia\": \"C\\u00f3rdoba\", \"TNA_percapita\": 4122.34292417495}, {\"Fecha\": \"2019\", \"Provincia\": \"Entre R\\u00edos\", \"TNA_percapita\": 5197.877608984397}, {\"Fecha\": \"2019\", \"Provincia\": \"Formosa\", \"TNA_percapita\": 5636.008137210961}, {\"Fecha\": \"2019\", \"Provincia\": \"Jujuy\", \"TNA_percapita\": 4311.906516486541}, {\"Fecha\": \"2019\", \"Provincia\": \"La Pampa\", \"TNA_percapita\": 7538.703176224317}, {\"Fecha\": \"2019\", \"Provincia\": \"La Rioja\", \"TNA_percapita\": 14815.608749826199}, {\"Fecha\": \"2019\", \"Provincia\": \"Mendoza\", \"TNA_percapita\": 2782.6415386485746}, {\"Fecha\": \"2019\", \"Provincia\": \"Misiones\", \"TNA_percapita\": 3341.1152192867817}, {\"Fecha\": \"2019\", \"Provincia\": \"Neuqu\\u00e9n\", \"TNA_percapita\": 9073.344017873345}, {\"Fecha\": \"2019\", \"Provincia\": \"R\\u00edo Negro\", \"TNA_percapita\": 3416.641190025201}, {\"Fecha\": \"2019\", \"Provincia\": \"Salta\", \"TNA_percapita\": 3836.040350395003}, {\"Fecha\": \"2019\", \"Provincia\": \"San Juan\", \"TNA_percapita\": 4564.87317054741}, {\"Fecha\": \"2019\", \"Provincia\": \"San Luis\", \"TNA_percapita\": 1500.8806979880476}, {\"Fecha\": \"2019\", \"Provincia\": \"Santa Cruz\", \"TNA_percapita\": 6795.051549431234}, {\"Fecha\": \"2019\", \"Provincia\": \"Santa Fe\", \"TNA_percapita\": 2512.1211569191423}, {\"Fecha\": \"2019\", \"Provincia\": \"Santiago del Estero\", \"TNA_percapita\": 4258.602985379669}, {\"Fecha\": \"2019\", \"Provincia\": \"Tierra del Fuego\", \"TNA_percapita\": 7088.581218562143}, {\"Fecha\": \"2019\", \"Provincia\": \"Tucum\\u00e1n\", \"TNA_percapita\": 2431.0823597026656}, {\"Fecha\": \"2020\", \"Provincia\": \"Buenos Aires\", \"TNA_percapita\": 9767.879029042635}, {\"Fecha\": \"2020\", \"Provincia\": \"C.A.B.A.\", \"TNA_percapita\": 5087.5898673189295}, {\"Fecha\": \"2020\", \"Provincia\": \"Catamarca\", \"TNA_percapita\": 10508.47306941108}, {\"Fecha\": \"2020\", \"Provincia\": \"Chaco\", \"TNA_percapita\": 9670.766906190825}, {\"Fecha\": \"2020\", \"Provincia\": \"Chubut\", \"TNA_percapita\": 5487.427761060683}, {\"Fecha\": \"2020\", \"Provincia\": \"Corrientes\", \"TNA_percapita\": 5857.62841952318}, {\"Fecha\": \"2020\", \"Provincia\": \"C\\u00f3rdoba\", \"TNA_percapita\": 5501.678277511996}, {\"Fecha\": \"2020\", \"Provincia\": \"Entre R\\u00edos\", \"TNA_percapita\": 10785.09964437672}, {\"Fecha\": \"2020\", \"Provincia\": \"Formosa\", \"TNA_percapita\": 11572.000905017083}, {\"Fecha\": \"2020\", \"Provincia\": \"Jujuy\", \"TNA_percapita\": 7601.228871239528}, {\"Fecha\": \"2020\", \"Provincia\": \"La Pampa\", \"TNA_percapita\": 12967.596325649782}, {\"Fecha\": \"2020\", \"Provincia\": \"La Rioja\", \"TNA_percapita\": 31698.90740307623}, {\"Fecha\": \"2020\", \"Provincia\": \"Mendoza\", \"TNA_percapita\": 3690.1871180573366}, {\"Fecha\": \"2020\", \"Provincia\": \"Misiones\", \"TNA_percapita\": 7027.446124289819}, {\"Fecha\": \"2020\", \"Provincia\": \"Neuqu\\u00e9n\", \"TNA_percapita\": 13111.301163680233}, {\"Fecha\": \"2020\", \"Provincia\": \"R\\u00edo Negro\", \"TNA_percapita\": 6424.462117695056}, {\"Fecha\": \"2020\", \"Provincia\": \"Salta\", \"TNA_percapita\": 5575.601021597207}, {\"Fecha\": \"2020\", \"Provincia\": \"San Juan\", \"TNA_percapita\": 8743.686449450022}, {\"Fecha\": \"2020\", \"Provincia\": \"San Luis\", \"TNA_percapita\": 3960.7287051864123}, {\"Fecha\": \"2020\", \"Provincia\": \"Santa Cruz\", \"TNA_percapita\": 16955.81046582153}, {\"Fecha\": \"2020\", \"Provincia\": \"Santa Fe\", \"TNA_percapita\": 5283.894247495631}, {\"Fecha\": \"2020\", \"Provincia\": \"Santiago del Estero\", \"TNA_percapita\": 8189.374378097812}, {\"Fecha\": \"2020\", \"Provincia\": \"Tierra del Fuego\", \"TNA_percapita\": 13100.607945880809}, {\"Fecha\": \"2020\", \"Provincia\": \"Tucum\\u00e1n\", \"TNA_percapita\": 8447.857621664805}]}}, {\"mode\": \"vega-lite\"});\n",
       "</script>"
      ],
      "text/plain": [
       "alt.Chart(...)"
      ]
     },
     "execution_count": 343,
     "metadata": {},
     "output_type": "execute_result"
    }
   ],
   "source": [
    "base"
   ]
  },
  {
   "cell_type": "code",
   "execution_count": null,
   "metadata": {},
   "outputs": [],
   "source": [
    "st.altair_chart(base)"
   ]
  },
  {
   "cell_type": "markdown",
   "metadata": {},
   "source": [
    "## Analyzing the data per provinces"
   ]
  },
  {
   "cell_type": "markdown",
   "metadata": {},
   "source": [
    "First we are going to create a **INTERACTIVE** multi selector that allows to filter by provinces and years."
   ]
  },
  {
   "cell_type": "markdown",
   "metadata": {},
   "source": [
    "**Streamlit MultiSelector by provinces and years.**"
   ]
  },
  {
   "cell_type": "code",
   "execution_count": 262,
   "metadata": {},
   "outputs": [
    {
     "data": {
      "text/plain": [
       "<streamlit.delta_generator.DeltaGenerator at 0x1d1094e89e8>"
      ]
     },
     "execution_count": 262,
     "metadata": {},
     "output_type": "execute_result"
    }
   ],
   "source": [
    "st.markdown('### Selector')\n",
    "st.markdown('In this section we are goint to consider the transfers to provincies over the population of each one. You are going to be able to select the year and provinces of your interest to create your own interactive graph.')"
   ]
  },
  {
   "cell_type": "code",
   "execution_count": 263,
   "metadata": {},
   "outputs": [],
   "source": [
    "# Year selector\n",
    "\n",
    "year = st.slider(\"Choose year of interest: \", min_value=2010,   \n",
    "                       max_value=2020,step=1)"
   ]
  },
  {
   "cell_type": "code",
   "execution_count": 264,
   "metadata": {},
   "outputs": [],
   "source": [
    "p = pd.Series(pob['Provincia'].unique()).sort_values()\n"
   ]
  },
  {
   "cell_type": "code",
   "execution_count": 265,
   "metadata": {},
   "outputs": [],
   "source": [
    "# Provinces selector\n",
    "\n",
    "\n",
    "provinces = st.multiselect(\"Which Provinces you want to consider?\", \n",
    "                        p)"
   ]
  },
  {
   "cell_type": "code",
   "execution_count": 266,
   "metadata": {},
   "outputs": [],
   "source": [
    "# st.write(data[data.label == desired_label])"
   ]
  },
  {
   "cell_type": "markdown",
   "metadata": {},
   "source": [
    "## Graphs"
   ]
  },
  {
   "cell_type": "code",
   "execution_count": 267,
   "metadata": {},
   "outputs": [
    {
     "name": "stderr",
     "output_type": "stream",
     "text": [
      "2020-12-20 19:08:34.610 WARNING matplotlib.legend: No handles with labels found to put in legend.\n"
     ]
    },
    {
     "data": {
      "text/plain": [
       "<streamlit.delta_generator.DeltaGenerator at 0x1d1094e89e8>"
      ]
     },
     "execution_count": 267,
     "metadata": {},
     "output_type": "execute_result"
    },
    {
     "data": {
      "text/plain": [
       "<Figure size 1080x432 with 0 Axes>"
      ]
     },
     "metadata": {},
     "output_type": "display_data"
    }
   ],
   "source": [
    "plt.figure(figsize=(15,6))\n",
    "sns.barplot(x='Provincia', y='TNA_percapita', data=pob_2)\n",
    "plt.legend(bbox_to_anchor=(1.05, 1), loc=2, borderaxespad=0.)\n",
    "sns.despine()\n",
    "st.pyplot()"
   ]
  },
  {
   "cell_type": "code",
   "execution_count": 268,
   "metadata": {},
   "outputs": [],
   "source": [
    "st.set_option('deprecation.showPyplotGlobalUse', False)"
   ]
  },
  {
   "cell_type": "code",
   "execution_count": 269,
   "metadata": {},
   "outputs": [
    {
     "name": "stderr",
     "output_type": "stream",
     "text": [
      "[NbConvertApp] Converting notebook TNA_APP.ipynb to script\n"
     ]
    }
   ],
   "source": [
    "!jupyter nbconvert --to script TNA_APP.ipynb"
   ]
  },
  {
   "cell_type": "code",
   "execution_count": null,
   "metadata": {},
   "outputs": [],
   "source": []
  },
  {
   "cell_type": "code",
   "execution_count": null,
   "metadata": {},
   "outputs": [],
   "source": []
  }
 ],
 "metadata": {
  "kernelspec": {
   "display_name": "Python 3",
   "language": "python",
   "name": "python3"
  },
  "language_info": {
   "codemirror_mode": {
    "name": "ipython",
    "version": 3
   },
   "file_extension": ".py",
   "mimetype": "text/x-python",
   "name": "python",
   "nbconvert_exporter": "python",
   "pygments_lexer": "ipython3",
   "version": "3.6.10"
  }
 },
 "nbformat": 4,
 "nbformat_minor": 4
}
