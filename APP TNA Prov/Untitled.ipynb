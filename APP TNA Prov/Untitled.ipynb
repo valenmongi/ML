{
 "cells": [
  {
   "cell_type": "code",
   "execution_count": 10,
   "metadata": {},
   "outputs": [],
   "source": [
    "import pandas as pd\n",
    "import altair as alt\n",
    "from vega_datasets import data\n"
   ]
  },
  {
   "cell_type": "code",
   "execution_count": 11,
   "metadata": {},
   "outputs": [],
   "source": [
    "source = data.population.url"
   ]
  },
  {
   "cell_type": "code",
   "execution_count": 7,
   "metadata": {},
   "outputs": [
    {
     "data": {
      "text/html": [
       "\n",
       "<div id=\"altair-viz-654b82fa21bd47c5ac6695a0e638d79a\"></div>\n",
       "<script type=\"text/javascript\">\n",
       "  (function(spec, embedOpt){\n",
       "    let outputDiv = document.currentScript.previousElementSibling;\n",
       "    if (outputDiv.id !== \"altair-viz-654b82fa21bd47c5ac6695a0e638d79a\") {\n",
       "      outputDiv = document.getElementById(\"altair-viz-654b82fa21bd47c5ac6695a0e638d79a\");\n",
       "    }\n",
       "    const paths = {\n",
       "      \"vega\": \"https://cdn.jsdelivr.net/npm//vega@5?noext\",\n",
       "      \"vega-lib\": \"https://cdn.jsdelivr.net/npm//vega-lib?noext\",\n",
       "      \"vega-lite\": \"https://cdn.jsdelivr.net/npm//vega-lite@4.8.1?noext\",\n",
       "      \"vega-embed\": \"https://cdn.jsdelivr.net/npm//vega-embed@6?noext\",\n",
       "    };\n",
       "\n",
       "    function loadScript(lib) {\n",
       "      return new Promise(function(resolve, reject) {\n",
       "        var s = document.createElement('script');\n",
       "        s.src = paths[lib];\n",
       "        s.async = true;\n",
       "        s.onload = () => resolve(paths[lib]);\n",
       "        s.onerror = () => reject(`Error loading script: ${paths[lib]}`);\n",
       "        document.getElementsByTagName(\"head\")[0].appendChild(s);\n",
       "      });\n",
       "    }\n",
       "\n",
       "    function showError(err) {\n",
       "      outputDiv.innerHTML = `<div class=\"error\" style=\"color:red;\">${err}</div>`;\n",
       "      throw err;\n",
       "    }\n",
       "\n",
       "    function displayChart(vegaEmbed) {\n",
       "      vegaEmbed(outputDiv, spec, embedOpt)\n",
       "        .catch(err => showError(`Javascript Error: ${err.message}<br>This usually means there's a typo in your chart specification. See the javascript console for the full traceback.`));\n",
       "    }\n",
       "\n",
       "    if(typeof define === \"function\" && define.amd) {\n",
       "      requirejs.config({paths});\n",
       "      require([\"vega-embed\"], displayChart, err => showError(`Error loading script: ${err.message}`));\n",
       "    } else if (typeof vegaEmbed === \"function\") {\n",
       "      displayChart(vegaEmbed);\n",
       "    } else {\n",
       "      loadScript(\"vega\")\n",
       "        .then(() => loadScript(\"vega-lite\"))\n",
       "        .then(() => loadScript(\"vega-embed\"))\n",
       "        .catch(showError)\n",
       "        .then(() => displayChart(vegaEmbed));\n",
       "    }\n",
       "  })({\"config\": {\"view\": {\"continuousWidth\": 400, \"continuousHeight\": 300}, \"facet\": {\"spacing\": 8}}, \"data\": {\"url\": \"https://cdn.jsdelivr.net/npm/vega-datasets@v1.29.0/data/population.json\"}, \"mark\": \"bar\", \"encoding\": {\"color\": {\"type\": \"nominal\", \"field\": \"sex\", \"scale\": {\"domain\": [\"Male\", \"Female\"], \"range\": [\"steelblue\", \"salmon\"]}}, \"column\": {\"type\": \"ordinal\", \"field\": \"age\"}, \"x\": {\"type\": \"nominal\", \"field\": \"sex\", \"title\": null}, \"y\": {\"type\": \"quantitative\", \"field\": \"people\", \"scale\": {\"domain\": [0, 12000000]}}}, \"selection\": {\"year\": {\"type\": \"single\", \"fields\": [\"year\"], \"bind\": {\"input\": \"range\", \"max\": 2000, \"min\": 1900, \"step\": 10}, \"init\": {\"year\": 2000}}}, \"transform\": [{\"calculate\": \"if((datum.sex === 1),'Male','Female')\", \"as\": \"sex\"}, {\"filter\": {\"selection\": \"year\"}}], \"width\": 20, \"$schema\": \"https://vega.github.io/schema/vega-lite/v4.8.1.json\"}, {\"mode\": \"vega-lite\"});\n",
       "</script>"
      ],
      "text/plain": [
       "alt.Chart(...)"
      ]
     },
     "execution_count": 7,
     "metadata": {},
     "output_type": "execute_result"
    }
   ],
   "source": [
    "pink_blue = alt.Scale(domain=('Male', 'Female'),\n",
    "                      range=[\"steelblue\", \"salmon\"])\n",
    "\n",
    "slider = alt.binding_range(min=1900, max=2000, step=10)\n",
    "select_year = alt.selection_single(name=\"year\", fields=['year'],\n",
    "                                   bind=slider, init={'year': 2000})\n",
    "\n",
    "alt.Chart(source).mark_bar().encode(\n",
    "    x=alt.X('sex:N', title=None),\n",
    "    y=alt.Y('people:Q', scale=alt.Scale(domain=(0, 12000000))),\n",
    "    color=alt.Color('sex:N', scale=pink_blue),\n",
    "    column='age:O'\n",
    ").properties(\n",
    "    width=20\n",
    ").add_selection(\n",
    "    select_year\n",
    ").transform_calculate(\n",
    "    \"sex\", alt.expr.if_(alt.datum.sex == 1, \"Male\", \"Female\")\n",
    ").transform_filter(\n",
    "    select_year\n",
    ").configure_facet(\n",
    "    spacing=8\n",
    ")"
   ]
  }
 ],
 "metadata": {
  "kernelspec": {
   "display_name": "Python 3",
   "language": "python",
   "name": "python3"
  },
  "language_info": {
   "codemirror_mode": {
    "name": "ipython",
    "version": 3
   },
   "file_extension": ".py",
   "mimetype": "text/x-python",
   "name": "python",
   "nbconvert_exporter": "python",
   "pygments_lexer": "ipython3",
   "version": "3.6.10"
  }
 },
 "nbformat": 4,
 "nbformat_minor": 4
}
