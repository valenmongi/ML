{
 "cells": [
  {
   "cell_type": "markdown",
   "metadata": {},
   "source": [
    "# DATASET CREATION"
   ]
  },
  {
   "cell_type": "code",
   "execution_count": 1,
   "metadata": {},
   "outputs": [],
   "source": [
    "import scipy\n",
    "from scipy import stats\n",
    "\n",
    "#librerías necesarias:\n",
    "\n",
    "# Data handling\n",
    "import pandas as pd\n",
    "import numpy as np\n",
    "from sklearn.preprocessing import MinMaxScaler\n",
    "\n",
    "# Visualization\n",
    "import seaborn as sns\n",
    "#import plotly.express as px\n",
    "import matplotlib.pyplot as plt\n",
    "import mpl_toolkits.mplot3d.axes3d as p3\n",
    "from matplotlib import animation\n",
    "\n",
    "%matplotlib inline \n",
    "pd.set_option(\"max_rows\", None)\n"
   ]
  },
  {
   "cell_type": "markdown",
   "metadata": {},
   "source": [
    "## 2018"
   ]
  },
  {
   "cell_type": "code",
   "execution_count": 2,
   "metadata": {},
   "outputs": [
    {
     "name": "stderr",
     "output_type": "stream",
     "text": [
      "C:\\Users\\valen\\anaconda3\\envs\\valentin\\lib\\site-packages\\IPython\\core\\interactiveshell.py:3063: DtypeWarning: Columns (0,2,25,27,47) have mixed types.Specify dtype option on import or set low_memory=False.\n",
      "  interactivity=interactivity, compiler=compiler, result=result)\n"
     ]
    }
   ],
   "source": [
    "data_18 = pd.read_csv('credito-mensual-2018.csv')"
   ]
  },
  {
   "cell_type": "code",
   "execution_count": 3,
   "metadata": {},
   "outputs": [],
   "source": [
    "data_18 = pd.DataFrame(data_18, columns=['impacto_presupuestario_anio', 'impacto_presupuestario_mes','inciso_id','inciso_desc', 'principal_id', 'principal_desc', 'parcial_id', 'parcial_desc', 'finalidad_id', 'finalidad_desc', 'funcion_id', 'funcion_desc', 'ubicacion_geografica_id', 'ubicacion_geografica_desc', 'credito_devengado'])\n",
    "data_18 = data_18[data_18['inciso_desc'] == 'Transferencias']"
   ]
  },
  {
   "cell_type": "code",
   "execution_count": 4,
   "metadata": {},
   "outputs": [],
   "source": [
    "list = ['Transf. a Inst. Prov. y Mun. para Fin. Gastos Corrientes', \n",
    "        'Transf. a Inst. Prov. y Mun. para Financ. Gastos de Capital']"
   ]
  },
  {
   "cell_type": "code",
   "execution_count": 5,
   "metadata": {},
   "outputs": [],
   "source": [
    "f_data_18 = data_18[data_18['principal_desc'].isin(list)]"
   ]
  },
  {
   "cell_type": "code",
   "execution_count": 6,
   "metadata": {},
   "outputs": [
    {
     "data": {
      "text/plain": [
       "(14490, 15)"
      ]
     },
     "execution_count": 6,
     "metadata": {},
     "output_type": "execute_result"
    }
   ],
   "source": [
    "f_data_18.shape"
   ]
  },
  {
   "cell_type": "code",
   "execution_count": 7,
   "metadata": {},
   "outputs": [
    {
     "name": "stderr",
     "output_type": "stream",
     "text": [
      "C:\\Users\\valen\\anaconda3\\envs\\valentin\\lib\\site-packages\\ipykernel_launcher.py:1: SettingWithCopyWarning: \n",
      "A value is trying to be set on a copy of a slice from a DataFrame.\n",
      "Try using .loc[row_indexer,col_indexer] = value instead\n",
      "\n",
      "See the caveats in the documentation: https://pandas.pydata.org/pandas-docs/stable/user_guide/indexing.html#returning-a-view-versus-a-copy\n",
      "  \"\"\"Entry point for launching an IPython kernel.\n"
     ]
    }
   ],
   "source": [
    "f_data_18['Fecha'] = f_data_18['impacto_presupuestario_anio'].map(str) + '/' + f_data_18['impacto_presupuestario_mes'].map(str)"
   ]
  },
  {
   "cell_type": "code",
   "execution_count": 8,
   "metadata": {},
   "outputs": [],
   "source": [
    "data_1 = pd.to_datetime(f_data_18['Fecha'])"
   ]
  },
  {
   "cell_type": "code",
   "execution_count": 9,
   "metadata": {},
   "outputs": [
    {
     "name": "stderr",
     "output_type": "stream",
     "text": [
      "C:\\Users\\valen\\anaconda3\\envs\\valentin\\lib\\site-packages\\ipykernel_launcher.py:1: SettingWithCopyWarning: \n",
      "A value is trying to be set on a copy of a slice from a DataFrame.\n",
      "Try using .loc[row_indexer,col_indexer] = value instead\n",
      "\n",
      "See the caveats in the documentation: https://pandas.pydata.org/pandas-docs/stable/user_guide/indexing.html#returning-a-view-versus-a-copy\n",
      "  \"\"\"Entry point for launching an IPython kernel.\n"
     ]
    }
   ],
   "source": [
    "f_data_18['Fecha'] = pd.PeriodIndex(data_1, freq='M')"
   ]
  },
  {
   "cell_type": "code",
   "execution_count": 10,
   "metadata": {},
   "outputs": [
    {
     "data": {
      "text/plain": [
       "impacto_presupuestario_anio       object\n",
       "impacto_presupuestario_mes         int64\n",
       "inciso_id                        float64\n",
       "inciso_desc                       object\n",
       "principal_id                     float64\n",
       "principal_desc                    object\n",
       "parcial_id                       float64\n",
       "parcial_desc                      object\n",
       "finalidad_id                      object\n",
       "finalidad_desc                    object\n",
       "funcion_id                       float64\n",
       "funcion_desc                      object\n",
       "ubicacion_geografica_id          float64\n",
       "ubicacion_geografica_desc         object\n",
       "credito_devengado                 object\n",
       "Fecha                          period[M]\n",
       "dtype: object"
      ]
     },
     "execution_count": 10,
     "metadata": {},
     "output_type": "execute_result"
    }
   ],
   "source": [
    "f_data_18.dtypes"
   ]
  },
  {
   "cell_type": "markdown",
   "metadata": {},
   "source": [
    "## 2019"
   ]
  },
  {
   "cell_type": "code",
   "execution_count": 11,
   "metadata": {},
   "outputs": [
    {
     "name": "stderr",
     "output_type": "stream",
     "text": [
      "C:\\Users\\valen\\anaconda3\\envs\\valentin\\lib\\site-packages\\IPython\\core\\interactiveshell.py:3063: DtypeWarning: Columns (47) have mixed types.Specify dtype option on import or set low_memory=False.\n",
      "  interactivity=interactivity, compiler=compiler, result=result)\n"
     ]
    }
   ],
   "source": [
    "data_19 = pd.read_csv('credito-mensual-2019.csv')"
   ]
  },
  {
   "cell_type": "code",
   "execution_count": 12,
   "metadata": {},
   "outputs": [],
   "source": [
    "data_19 = pd.DataFrame(data_19, columns=['impacto_presupuestario_anio', 'impacto_presupuestario_mes','inciso_id','inciso_desc', 'principal_id', 'principal_desc', 'parcial_id', 'parcial_desc', 'finalidad_id', 'finalidad_desc', 'funcion_id', 'funcion_desc', 'ubicacion_geografica_id', 'ubicacion_geografica_desc', 'credito_devengado'])\n",
    "data_19 = data_19[data_19['inciso_desc'] == 'Transferencias']"
   ]
  },
  {
   "cell_type": "code",
   "execution_count": 13,
   "metadata": {},
   "outputs": [],
   "source": [
    "f_data_19 = data_19[data_19['principal_desc'].isin(list)]"
   ]
  },
  {
   "cell_type": "code",
   "execution_count": 156,
   "metadata": {},
   "outputs": [
    {
     "data": {
      "text/plain": [
       "(11843, 16)"
      ]
     },
     "execution_count": 156,
     "metadata": {},
     "output_type": "execute_result"
    }
   ],
   "source": [
    "f_data_19.shape"
   ]
  },
  {
   "cell_type": "code",
   "execution_count": 15,
   "metadata": {},
   "outputs": [
    {
     "name": "stderr",
     "output_type": "stream",
     "text": [
      "C:\\Users\\valen\\anaconda3\\envs\\valentin\\lib\\site-packages\\ipykernel_launcher.py:1: SettingWithCopyWarning: \n",
      "A value is trying to be set on a copy of a slice from a DataFrame.\n",
      "Try using .loc[row_indexer,col_indexer] = value instead\n",
      "\n",
      "See the caveats in the documentation: https://pandas.pydata.org/pandas-docs/stable/user_guide/indexing.html#returning-a-view-versus-a-copy\n",
      "  \"\"\"Entry point for launching an IPython kernel.\n"
     ]
    }
   ],
   "source": [
    "f_data_19['Fecha'] = f_data_19['impacto_presupuestario_anio'].map(str) + '/' + f_data_19['impacto_presupuestario_mes'].map(str)"
   ]
  },
  {
   "cell_type": "code",
   "execution_count": 16,
   "metadata": {},
   "outputs": [],
   "source": [
    "data_2 = pd.to_datetime(f_data_19['Fecha'])"
   ]
  },
  {
   "cell_type": "code",
   "execution_count": 17,
   "metadata": {},
   "outputs": [
    {
     "name": "stderr",
     "output_type": "stream",
     "text": [
      "C:\\Users\\valen\\anaconda3\\envs\\valentin\\lib\\site-packages\\ipykernel_launcher.py:1: SettingWithCopyWarning: \n",
      "A value is trying to be set on a copy of a slice from a DataFrame.\n",
      "Try using .loc[row_indexer,col_indexer] = value instead\n",
      "\n",
      "See the caveats in the documentation: https://pandas.pydata.org/pandas-docs/stable/user_guide/indexing.html#returning-a-view-versus-a-copy\n",
      "  \"\"\"Entry point for launching an IPython kernel.\n"
     ]
    }
   ],
   "source": [
    "f_data_19['Fecha'] = pd.PeriodIndex(data_2, freq='M')"
   ]
  },
  {
   "cell_type": "code",
   "execution_count": 18,
   "metadata": {},
   "outputs": [
    {
     "data": {
      "text/html": [
       "<div>\n",
       "<style scoped>\n",
       "    .dataframe tbody tr th:only-of-type {\n",
       "        vertical-align: middle;\n",
       "    }\n",
       "\n",
       "    .dataframe tbody tr th {\n",
       "        vertical-align: top;\n",
       "    }\n",
       "\n",
       "    .dataframe thead th {\n",
       "        text-align: right;\n",
       "    }\n",
       "</style>\n",
       "<table border=\"1\" class=\"dataframe\">\n",
       "  <thead>\n",
       "    <tr style=\"text-align: right;\">\n",
       "      <th></th>\n",
       "      <th>impacto_presupuestario_anio</th>\n",
       "      <th>impacto_presupuestario_mes</th>\n",
       "      <th>inciso_id</th>\n",
       "      <th>principal_id</th>\n",
       "      <th>parcial_id</th>\n",
       "      <th>finalidad_id</th>\n",
       "      <th>funcion_id</th>\n",
       "      <th>ubicacion_geografica_id</th>\n",
       "    </tr>\n",
       "    <tr>\n",
       "      <th>finalidad_desc</th>\n",
       "      <th></th>\n",
       "      <th></th>\n",
       "      <th></th>\n",
       "      <th></th>\n",
       "      <th></th>\n",
       "      <th></th>\n",
       "      <th></th>\n",
       "      <th></th>\n",
       "    </tr>\n",
       "  </thead>\n",
       "  <tbody>\n",
       "    <tr>\n",
       "      <th>ADMINISTRACION GUBERNAMENTAL</th>\n",
       "      <td>918645</td>\n",
       "      <td>2999</td>\n",
       "      <td>2275</td>\n",
       "      <td>3276</td>\n",
       "      <td>780</td>\n",
       "      <td>455</td>\n",
       "      <td>2083</td>\n",
       "      <td>22270</td>\n",
       "    </tr>\n",
       "    <tr>\n",
       "      <th>SERVICIOS DE DEFENSA Y SEGURIDAD</th>\n",
       "      <td>50475</td>\n",
       "      <td>142</td>\n",
       "      <td>125</td>\n",
       "      <td>184</td>\n",
       "      <td>55</td>\n",
       "      <td>50</td>\n",
       "      <td>47</td>\n",
       "      <td>954</td>\n",
       "    </tr>\n",
       "    <tr>\n",
       "      <th>SERVICIOS ECONOMICOS</th>\n",
       "      <td>1920069</td>\n",
       "      <td>5928</td>\n",
       "      <td>4755</td>\n",
       "      <td>7227</td>\n",
       "      <td>1938</td>\n",
       "      <td>3804</td>\n",
       "      <td>4138</td>\n",
       "      <td>40050</td>\n",
       "    </tr>\n",
       "    <tr>\n",
       "      <th>SERVICIOS SOCIALES</th>\n",
       "      <td>21021828</td>\n",
       "      <td>64177</td>\n",
       "      <td>52060</td>\n",
       "      <td>76745</td>\n",
       "      <td>23532</td>\n",
       "      <td>31236</td>\n",
       "      <td>40033</td>\n",
       "      <td>469201</td>\n",
       "    </tr>\n",
       "  </tbody>\n",
       "</table>\n",
       "</div>"
      ],
      "text/plain": [
       "                                  impacto_presupuestario_anio  \\\n",
       "finalidad_desc                                                  \n",
       "ADMINISTRACION GUBERNAMENTAL                           918645   \n",
       "SERVICIOS DE DEFENSA Y SEGURIDAD                        50475   \n",
       "SERVICIOS ECONOMICOS                                  1920069   \n",
       "SERVICIOS SOCIALES                                   21021828   \n",
       "\n",
       "                                  impacto_presupuestario_mes  inciso_id  \\\n",
       "finalidad_desc                                                            \n",
       "ADMINISTRACION GUBERNAMENTAL                            2999       2275   \n",
       "SERVICIOS DE DEFENSA Y SEGURIDAD                         142        125   \n",
       "SERVICIOS ECONOMICOS                                    5928       4755   \n",
       "SERVICIOS SOCIALES                                     64177      52060   \n",
       "\n",
       "                                  principal_id  parcial_id  finalidad_id  \\\n",
       "finalidad_desc                                                             \n",
       "ADMINISTRACION GUBERNAMENTAL              3276         780           455   \n",
       "SERVICIOS DE DEFENSA Y SEGURIDAD           184          55            50   \n",
       "SERVICIOS ECONOMICOS                      7227        1938          3804   \n",
       "SERVICIOS SOCIALES                       76745       23532         31236   \n",
       "\n",
       "                                  funcion_id  ubicacion_geografica_id  \n",
       "finalidad_desc                                                         \n",
       "ADMINISTRACION GUBERNAMENTAL            2083                    22270  \n",
       "SERVICIOS DE DEFENSA Y SEGURIDAD          47                      954  \n",
       "SERVICIOS ECONOMICOS                    4138                    40050  \n",
       "SERVICIOS SOCIALES                     40033                   469201  "
      ]
     },
     "execution_count": 18,
     "metadata": {},
     "output_type": "execute_result"
    }
   ],
   "source": [
    "f_data_19.groupby('finalidad_desc').sum()"
   ]
  },
  {
   "cell_type": "markdown",
   "metadata": {},
   "source": [
    "## Data"
   ]
  },
  {
   "cell_type": "code",
   "execution_count": 132,
   "metadata": {},
   "outputs": [
    {
     "name": "stderr",
     "output_type": "stream",
     "text": [
      "C:\\Users\\valen\\anaconda3\\envs\\valentin\\lib\\site-packages\\IPython\\core\\interactiveshell.py:3063: DtypeWarning: Columns (2,25,27,47) have mixed types.Specify dtype option on import or set low_memory=False.\n",
      "  interactivity=interactivity, compiler=compiler, result=result)\n",
      "C:\\Users\\valen\\anaconda3\\envs\\valentin\\lib\\site-packages\\IPython\\core\\interactiveshell.py:3063: DtypeWarning: Columns (47) have mixed types.Specify dtype option on import or set low_memory=False.\n",
      "  interactivity=interactivity, compiler=compiler, result=result)\n"
     ]
    }
   ],
   "source": [
    "import glob\n",
    "\n",
    "path = r'C:\\Users\\valen\\Google Drive\\Machine Learning\\ML - GitHub\\APP TNA Prov\\Dataset\\Data' # use your path\n",
    "all_files = glob.glob(path + \"/*.csv\")\n",
    "\n",
    "li = []\n",
    "\n",
    "for filename in all_files:\n",
    "    df = pd.read_csv(filename)\n",
    "    li.append(df)\n",
    "\n",
    "data = pd.concat(li, axis=0, ignore_index=True)"
   ]
  },
  {
   "cell_type": "code",
   "execution_count": 133,
   "metadata": {},
   "outputs": [
    {
     "data": {
      "text/plain": [
       "(1109329, 53)"
      ]
     },
     "execution_count": 133,
     "metadata": {},
     "output_type": "execute_result"
    }
   ],
   "source": [
    "data.shape"
   ]
  },
  {
   "cell_type": "code",
   "execution_count": 134,
   "metadata": {},
   "outputs": [
    {
     "data": {
      "text/html": [
       "<div>\n",
       "<style scoped>\n",
       "    .dataframe tbody tr th:only-of-type {\n",
       "        vertical-align: middle;\n",
       "    }\n",
       "\n",
       "    .dataframe tbody tr th {\n",
       "        vertical-align: top;\n",
       "    }\n",
       "\n",
       "    .dataframe thead th {\n",
       "        text-align: right;\n",
       "    }\n",
       "</style>\n",
       "<table border=\"1\" class=\"dataframe\">\n",
       "  <thead>\n",
       "    <tr style=\"text-align: right;\">\n",
       "      <th></th>\n",
       "      <th>impacto_presupuestario_anio</th>\n",
       "      <th>impacto_presupuestario_mes</th>\n",
       "      <th>ejercicio_presupuestario</th>\n",
       "      <th>sector_id</th>\n",
       "      <th>sector_desc</th>\n",
       "      <th>subsector_id</th>\n",
       "      <th>subsector_desc</th>\n",
       "      <th>caracter_id</th>\n",
       "      <th>caracter_desc</th>\n",
       "      <th>jurisdiccion_id</th>\n",
       "      <th>...</th>\n",
       "      <th>ubicacion_geografica_id</th>\n",
       "      <th>ubicacion_geografica_desc</th>\n",
       "      <th>unidad_ejecutora_id</th>\n",
       "      <th>unidad_ejecutora_desc</th>\n",
       "      <th>credito_presupuestado</th>\n",
       "      <th>credito_vigente</th>\n",
       "      <th>credito_comprometido</th>\n",
       "      <th>credito_devengado</th>\n",
       "      <th>credito_pagado</th>\n",
       "      <th>ultima_actualizacion_fecha</th>\n",
       "    </tr>\n",
       "  </thead>\n",
       "  <tbody>\n",
       "    <tr>\n",
       "      <th>0</th>\n",
       "      <td>2018</td>\n",
       "      <td>1</td>\n",
       "      <td>2018</td>\n",
       "      <td>1</td>\n",
       "      <td>Sector Público Nacional no Financiero</td>\n",
       "      <td>1</td>\n",
       "      <td>Administración Nacional</td>\n",
       "      <td>1</td>\n",
       "      <td>Administración Central</td>\n",
       "      <td>1</td>\n",
       "      <td>...</td>\n",
       "      <td>2.0</td>\n",
       "      <td>Ciudad Autónoma de Buenos Aires</td>\n",
       "      <td>392.0</td>\n",
       "      <td>Honorable Cámara de Senadores</td>\n",
       "      <td>3,551,920,148</td>\n",
       "      <td>3,551,920,148</td>\n",
       "      <td>18,892,017,107</td>\n",
       "      <td>18,892,017,107</td>\n",
       "      <td>17,602,475,615</td>\n",
       "      <td>Última actualización del ejercicio 2018: 24 Ju...</td>\n",
       "    </tr>\n",
       "    <tr>\n",
       "      <th>1</th>\n",
       "      <td>2018</td>\n",
       "      <td>1</td>\n",
       "      <td>2018</td>\n",
       "      <td>1</td>\n",
       "      <td>Sector Público Nacional no Financiero</td>\n",
       "      <td>1</td>\n",
       "      <td>Administración Nacional</td>\n",
       "      <td>1</td>\n",
       "      <td>Administración Central</td>\n",
       "      <td>1</td>\n",
       "      <td>...</td>\n",
       "      <td>2.0</td>\n",
       "      <td>Ciudad Autónoma de Buenos Aires</td>\n",
       "      <td>392.0</td>\n",
       "      <td>Honorable Cámara de Senadores</td>\n",
       "      <td>478,837,045</td>\n",
       "      <td>478,837,045</td>\n",
       "      <td>5,518,279,227</td>\n",
       "      <td>5,518,279,227</td>\n",
       "      <td>5,518,149,636</td>\n",
       "      <td>Última actualización del ejercicio 2018: 24 Ju...</td>\n",
       "    </tr>\n",
       "    <tr>\n",
       "      <th>2</th>\n",
       "      <td>2018</td>\n",
       "      <td>1</td>\n",
       "      <td>2018</td>\n",
       "      <td>1</td>\n",
       "      <td>Sector Público Nacional no Financiero</td>\n",
       "      <td>1</td>\n",
       "      <td>Administración Nacional</td>\n",
       "      <td>1</td>\n",
       "      <td>Administración Central</td>\n",
       "      <td>1</td>\n",
       "      <td>...</td>\n",
       "      <td>2.0</td>\n",
       "      <td>Ciudad Autónoma de Buenos Aires</td>\n",
       "      <td>392.0</td>\n",
       "      <td>Honorable Cámara de Senadores</td>\n",
       "      <td>188,328,774</td>\n",
       "      <td>188,328,774</td>\n",
       "      <td>0,12077023</td>\n",
       "      <td>0,12077023</td>\n",
       "      <td>0,1207694</td>\n",
       "      <td>Última actualización del ejercicio 2018: 24 Ju...</td>\n",
       "    </tr>\n",
       "    <tr>\n",
       "      <th>3</th>\n",
       "      <td>2018</td>\n",
       "      <td>1</td>\n",
       "      <td>2018</td>\n",
       "      <td>1</td>\n",
       "      <td>Sector Público Nacional no Financiero</td>\n",
       "      <td>1</td>\n",
       "      <td>Administración Nacional</td>\n",
       "      <td>1</td>\n",
       "      <td>Administración Central</td>\n",
       "      <td>1</td>\n",
       "      <td>...</td>\n",
       "      <td>2.0</td>\n",
       "      <td>Ciudad Autónoma de Buenos Aires</td>\n",
       "      <td>392.0</td>\n",
       "      <td>Honorable Cámara de Senadores</td>\n",
       "      <td>575,345,536</td>\n",
       "      <td>575,345,536</td>\n",
       "      <td>7,652,225,917</td>\n",
       "      <td>7,652,225,917</td>\n",
       "      <td>1,427,559,706</td>\n",
       "      <td>Última actualización del ejercicio 2018: 24 Ju...</td>\n",
       "    </tr>\n",
       "    <tr>\n",
       "      <th>4</th>\n",
       "      <td>2018</td>\n",
       "      <td>1</td>\n",
       "      <td>2018</td>\n",
       "      <td>1</td>\n",
       "      <td>Sector Público Nacional no Financiero</td>\n",
       "      <td>1</td>\n",
       "      <td>Administración Nacional</td>\n",
       "      <td>1</td>\n",
       "      <td>Administración Central</td>\n",
       "      <td>1</td>\n",
       "      <td>...</td>\n",
       "      <td>2.0</td>\n",
       "      <td>Ciudad Autónoma de Buenos Aires</td>\n",
       "      <td>392.0</td>\n",
       "      <td>Honorable Cámara de Senadores</td>\n",
       "      <td>12,954,168</td>\n",
       "      <td>12,954,168</td>\n",
       "      <td>140,727,911</td>\n",
       "      <td>140,727,911</td>\n",
       "      <td>140,727,911</td>\n",
       "      <td>Última actualización del ejercicio 2018: 24 Ju...</td>\n",
       "    </tr>\n",
       "  </tbody>\n",
       "</table>\n",
       "<p>5 rows × 53 columns</p>\n",
       "</div>"
      ],
      "text/plain": [
       "   impacto_presupuestario_anio  impacto_presupuestario_mes  \\\n",
       "0                         2018                           1   \n",
       "1                         2018                           1   \n",
       "2                         2018                           1   \n",
       "3                         2018                           1   \n",
       "4                         2018                           1   \n",
       "\n",
       "  ejercicio_presupuestario  sector_id                            sector_desc  \\\n",
       "0                     2018          1  Sector Público Nacional no Financiero   \n",
       "1                     2018          1  Sector Público Nacional no Financiero   \n",
       "2                     2018          1  Sector Público Nacional no Financiero   \n",
       "3                     2018          1  Sector Público Nacional no Financiero   \n",
       "4                     2018          1  Sector Público Nacional no Financiero   \n",
       "\n",
       "   subsector_id           subsector_desc  caracter_id           caracter_desc  \\\n",
       "0             1  Administración Nacional            1  Administración Central   \n",
       "1             1  Administración Nacional            1  Administración Central   \n",
       "2             1  Administración Nacional            1  Administración Central   \n",
       "3             1  Administración Nacional            1  Administración Central   \n",
       "4             1  Administración Nacional            1  Administración Central   \n",
       "\n",
       "   jurisdiccion_id  ... ubicacion_geografica_id  \\\n",
       "0                1  ...                     2.0   \n",
       "1                1  ...                     2.0   \n",
       "2                1  ...                     2.0   \n",
       "3                1  ...                     2.0   \n",
       "4                1  ...                     2.0   \n",
       "\n",
       "         ubicacion_geografica_desc unidad_ejecutora_id  \\\n",
       "0  Ciudad Autónoma de Buenos Aires               392.0   \n",
       "1  Ciudad Autónoma de Buenos Aires               392.0   \n",
       "2  Ciudad Autónoma de Buenos Aires               392.0   \n",
       "3  Ciudad Autónoma de Buenos Aires               392.0   \n",
       "4  Ciudad Autónoma de Buenos Aires               392.0   \n",
       "\n",
       "           unidad_ejecutora_desc credito_presupuestado  credito_vigente  \\\n",
       "0  Honorable Cámara de Senadores         3,551,920,148    3,551,920,148   \n",
       "1  Honorable Cámara de Senadores           478,837,045      478,837,045   \n",
       "2  Honorable Cámara de Senadores           188,328,774      188,328,774   \n",
       "3  Honorable Cámara de Senadores           575,345,536      575,345,536   \n",
       "4  Honorable Cámara de Senadores            12,954,168       12,954,168   \n",
       "\n",
       "  credito_comprometido  credito_devengado  credito_pagado  \\\n",
       "0       18,892,017,107     18,892,017,107  17,602,475,615   \n",
       "1        5,518,279,227      5,518,279,227   5,518,149,636   \n",
       "2           0,12077023         0,12077023       0,1207694   \n",
       "3        7,652,225,917      7,652,225,917   1,427,559,706   \n",
       "4          140,727,911        140,727,911     140,727,911   \n",
       "\n",
       "                          ultima_actualizacion_fecha  \n",
       "0  Última actualización del ejercicio 2018: 24 Ju...  \n",
       "1  Última actualización del ejercicio 2018: 24 Ju...  \n",
       "2  Última actualización del ejercicio 2018: 24 Ju...  \n",
       "3  Última actualización del ejercicio 2018: 24 Ju...  \n",
       "4  Última actualización del ejercicio 2018: 24 Ju...  \n",
       "\n",
       "[5 rows x 53 columns]"
      ]
     },
     "execution_count": 134,
     "metadata": {},
     "output_type": "execute_result"
    }
   ],
   "source": [
    "data[:5]"
   ]
  },
  {
   "cell_type": "code",
   "execution_count": 135,
   "metadata": {},
   "outputs": [],
   "source": [
    "data_1 = pd.DataFrame(data, columns=['impacto_presupuestario_anio', 'impacto_presupuestario_mes','inciso_id','inciso_desc', 'principal_id', 'principal_desc', 'parcial_id', 'parcial_desc', 'finalidad_id', 'finalidad_desc', 'funcion_id', 'funcion_desc', 'ubicacion_geografica_id', 'ubicacion_geografica_desc', 'credito_devengado'])"
   ]
  },
  {
   "cell_type": "code",
   "execution_count": 147,
   "metadata": {},
   "outputs": [],
   "source": [
    "data_2 = data_1[data_1['inciso_desc'] == 'Transferencias']"
   ]
  },
  {
   "cell_type": "code",
   "execution_count": 148,
   "metadata": {},
   "outputs": [],
   "source": [
    "list = ['Transf. a Inst. Prov. y Mun. para Fin. Gastos Corrientes', \n",
    "        'Transf. a Inst. Prov. y Mun. para Financ. Gastos de Capital']"
   ]
  },
  {
   "cell_type": "code",
   "execution_count": 149,
   "metadata": {},
   "outputs": [
    {
     "data": {
      "text/plain": [
       "(26333, 15)"
      ]
     },
     "execution_count": 149,
     "metadata": {},
     "output_type": "execute_result"
    }
   ],
   "source": [
    "f_data = data_2[data_2['principal_desc'].isin(list)]\n",
    "f_data.shape"
   ]
  },
  {
   "cell_type": "code",
   "execution_count": 150,
   "metadata": {},
   "outputs": [
    {
     "name": "stderr",
     "output_type": "stream",
     "text": [
      "C:\\Users\\valen\\anaconda3\\envs\\valentin\\lib\\site-packages\\ipykernel_launcher.py:1: SettingWithCopyWarning: \n",
      "A value is trying to be set on a copy of a slice from a DataFrame.\n",
      "Try using .loc[row_indexer,col_indexer] = value instead\n",
      "\n",
      "See the caveats in the documentation: https://pandas.pydata.org/pandas-docs/stable/user_guide/indexing.html#returning-a-view-versus-a-copy\n",
      "  \"\"\"Entry point for launching an IPython kernel.\n"
     ]
    }
   ],
   "source": [
    "f_data['Fecha'] = f_data['impacto_presupuestario_anio'].map(str) + '/' + f_data['impacto_presupuestario_mes'].map(str)"
   ]
  },
  {
   "cell_type": "code",
   "execution_count": 151,
   "metadata": {},
   "outputs": [
    {
     "name": "stderr",
     "output_type": "stream",
     "text": [
      "C:\\Users\\valen\\anaconda3\\envs\\valentin\\lib\\site-packages\\ipykernel_launcher.py:2: SettingWithCopyWarning: \n",
      "A value is trying to be set on a copy of a slice from a DataFrame.\n",
      "Try using .loc[row_indexer,col_indexer] = value instead\n",
      "\n",
      "See the caveats in the documentation: https://pandas.pydata.org/pandas-docs/stable/user_guide/indexing.html#returning-a-view-versus-a-copy\n",
      "  \n"
     ]
    }
   ],
   "source": [
    "f_data_1 = pd.to_datetime(f_data['Fecha'])\n",
    "f_data['Fecha'] = pd.PeriodIndex(f_data_1, freq='M')"
   ]
  },
  {
   "cell_type": "code",
   "execution_count": 152,
   "metadata": {},
   "outputs": [
    {
     "data": {
      "text/plain": [
       "impacto_presupuestario_anio        int64\n",
       "impacto_presupuestario_mes         int64\n",
       "inciso_id                        float64\n",
       "inciso_desc                       object\n",
       "principal_id                     float64\n",
       "principal_desc                    object\n",
       "parcial_id                       float64\n",
       "parcial_desc                      object\n",
       "finalidad_id                      object\n",
       "finalidad_desc                    object\n",
       "funcion_id                       float64\n",
       "funcion_desc                      object\n",
       "ubicacion_geografica_id          float64\n",
       "ubicacion_geografica_desc         object\n",
       "credito_devengado                 object\n",
       "Fecha                          period[M]\n",
       "dtype: object"
      ]
     },
     "execution_count": 152,
     "metadata": {},
     "output_type": "execute_result"
    }
   ],
   "source": [
    "f_data.dtypes"
   ]
  },
  {
   "cell_type": "code",
   "execution_count": 153,
   "metadata": {},
   "outputs": [
    {
     "name": "stderr",
     "output_type": "stream",
     "text": [
      "C:\\Users\\valen\\anaconda3\\envs\\valentin\\lib\\site-packages\\ipykernel_launcher.py:1: SettingWithCopyWarning: \n",
      "A value is trying to be set on a copy of a slice from a DataFrame.\n",
      "Try using .loc[row_indexer,col_indexer] = value instead\n",
      "\n",
      "See the caveats in the documentation: https://pandas.pydata.org/pandas-docs/stable/user_guide/indexing.html#returning-a-view-versus-a-copy\n",
      "  \"\"\"Entry point for launching an IPython kernel.\n"
     ]
    }
   ],
   "source": [
    "f_data['credito_devengado'] = f_data['credito_devengado'].str.replace(\",\",\"\")"
   ]
  },
  {
   "cell_type": "code",
   "execution_count": 154,
   "metadata": {},
   "outputs": [
    {
     "data": {
      "text/html": [
       "<div>\n",
       "<style scoped>\n",
       "    .dataframe tbody tr th:only-of-type {\n",
       "        vertical-align: middle;\n",
       "    }\n",
       "\n",
       "    .dataframe tbody tr th {\n",
       "        vertical-align: top;\n",
       "    }\n",
       "\n",
       "    .dataframe thead th {\n",
       "        text-align: right;\n",
       "    }\n",
       "</style>\n",
       "<table border=\"1\" class=\"dataframe\">\n",
       "  <thead>\n",
       "    <tr style=\"text-align: right;\">\n",
       "      <th></th>\n",
       "      <th>impacto_presupuestario_anio</th>\n",
       "      <th>impacto_presupuestario_mes</th>\n",
       "      <th>inciso_id</th>\n",
       "      <th>inciso_desc</th>\n",
       "      <th>principal_id</th>\n",
       "      <th>principal_desc</th>\n",
       "      <th>parcial_id</th>\n",
       "      <th>parcial_desc</th>\n",
       "      <th>finalidad_id</th>\n",
       "      <th>finalidad_desc</th>\n",
       "      <th>funcion_id</th>\n",
       "      <th>funcion_desc</th>\n",
       "      <th>ubicacion_geografica_id</th>\n",
       "      <th>ubicacion_geografica_desc</th>\n",
       "      <th>credito_devengado</th>\n",
       "      <th>Fecha</th>\n",
       "    </tr>\n",
       "  </thead>\n",
       "  <tbody>\n",
       "    <tr>\n",
       "      <th>487</th>\n",
       "      <td>2018</td>\n",
       "      <td>1</td>\n",
       "      <td>5.0</td>\n",
       "      <td>Transferencias</td>\n",
       "      <td>7.0</td>\n",
       "      <td>Transf. a Inst. Prov. y Mun. para Fin. Gastos ...</td>\n",
       "      <td>1.0</td>\n",
       "      <td>Transferencias a Gobiernos Provinciales</td>\n",
       "      <td>1</td>\n",
       "      <td>ADMINISTRACION GUBERNAMENTAL</td>\n",
       "      <td>2.0</td>\n",
       "      <td>Judicial</td>\n",
       "      <td>2.0</td>\n",
       "      <td>Ciudad Autónoma de Buenos Aires</td>\n",
       "      <td>0</td>\n",
       "      <td>2018-01</td>\n",
       "    </tr>\n",
       "    <tr>\n",
       "      <th>3153</th>\n",
       "      <td>2018</td>\n",
       "      <td>1</td>\n",
       "      <td>5.0</td>\n",
       "      <td>Transferencias</td>\n",
       "      <td>7.0</td>\n",
       "      <td>Transf. a Inst. Prov. y Mun. para Fin. Gastos ...</td>\n",
       "      <td>1.0</td>\n",
       "      <td>Transferencias a Gobiernos Provinciales</td>\n",
       "      <td>3</td>\n",
       "      <td>SERVICIOS SOCIALES</td>\n",
       "      <td>4.0</td>\n",
       "      <td>Educación y Cultura</td>\n",
       "      <td>2.0</td>\n",
       "      <td>Ciudad Autónoma de Buenos Aires</td>\n",
       "      <td>0</td>\n",
       "      <td>2018-01</td>\n",
       "    </tr>\n",
       "    <tr>\n",
       "      <th>3154</th>\n",
       "      <td>2018</td>\n",
       "      <td>1</td>\n",
       "      <td>5.0</td>\n",
       "      <td>Transferencias</td>\n",
       "      <td>8.0</td>\n",
       "      <td>Transf. a Inst. Prov. y Mun. para Financ. Gast...</td>\n",
       "      <td>1.0</td>\n",
       "      <td>Transferencias a Gobiernos Provinciales</td>\n",
       "      <td>3</td>\n",
       "      <td>SERVICIOS SOCIALES</td>\n",
       "      <td>4.0</td>\n",
       "      <td>Educación y Cultura</td>\n",
       "      <td>2.0</td>\n",
       "      <td>Ciudad Autónoma de Buenos Aires</td>\n",
       "      <td>0</td>\n",
       "      <td>2018-01</td>\n",
       "    </tr>\n",
       "    <tr>\n",
       "      <th>3155</th>\n",
       "      <td>2018</td>\n",
       "      <td>1</td>\n",
       "      <td>5.0</td>\n",
       "      <td>Transferencias</td>\n",
       "      <td>8.0</td>\n",
       "      <td>Transf. a Inst. Prov. y Mun. para Financ. Gast...</td>\n",
       "      <td>6.0</td>\n",
       "      <td>Transferencias a Gobiernos Municipales</td>\n",
       "      <td>3</td>\n",
       "      <td>SERVICIOS SOCIALES</td>\n",
       "      <td>4.0</td>\n",
       "      <td>Educación y Cultura</td>\n",
       "      <td>2.0</td>\n",
       "      <td>Ciudad Autónoma de Buenos Aires</td>\n",
       "      <td>0</td>\n",
       "      <td>2018-01</td>\n",
       "    </tr>\n",
       "    <tr>\n",
       "      <th>3182</th>\n",
       "      <td>2018</td>\n",
       "      <td>1</td>\n",
       "      <td>5.0</td>\n",
       "      <td>Transferencias</td>\n",
       "      <td>7.0</td>\n",
       "      <td>Transf. a Inst. Prov. y Mun. para Fin. Gastos ...</td>\n",
       "      <td>1.0</td>\n",
       "      <td>Transferencias a Gobiernos Provinciales</td>\n",
       "      <td>3</td>\n",
       "      <td>SERVICIOS SOCIALES</td>\n",
       "      <td>4.0</td>\n",
       "      <td>Educación y Cultura</td>\n",
       "      <td>2.0</td>\n",
       "      <td>Ciudad Autónoma de Buenos Aires</td>\n",
       "      <td>0</td>\n",
       "      <td>2018-01</td>\n",
       "    </tr>\n",
       "  </tbody>\n",
       "</table>\n",
       "</div>"
      ],
      "text/plain": [
       "      impacto_presupuestario_anio  impacto_presupuestario_mes  inciso_id  \\\n",
       "487                          2018                           1        5.0   \n",
       "3153                         2018                           1        5.0   \n",
       "3154                         2018                           1        5.0   \n",
       "3155                         2018                           1        5.0   \n",
       "3182                         2018                           1        5.0   \n",
       "\n",
       "         inciso_desc  principal_id  \\\n",
       "487   Transferencias           7.0   \n",
       "3153  Transferencias           7.0   \n",
       "3154  Transferencias           8.0   \n",
       "3155  Transferencias           8.0   \n",
       "3182  Transferencias           7.0   \n",
       "\n",
       "                                         principal_desc  parcial_id  \\\n",
       "487   Transf. a Inst. Prov. y Mun. para Fin. Gastos ...         1.0   \n",
       "3153  Transf. a Inst. Prov. y Mun. para Fin. Gastos ...         1.0   \n",
       "3154  Transf. a Inst. Prov. y Mun. para Financ. Gast...         1.0   \n",
       "3155  Transf. a Inst. Prov. y Mun. para Financ. Gast...         6.0   \n",
       "3182  Transf. a Inst. Prov. y Mun. para Fin. Gastos ...         1.0   \n",
       "\n",
       "                                 parcial_desc finalidad_id  \\\n",
       "487   Transferencias a Gobiernos Provinciales            1   \n",
       "3153  Transferencias a Gobiernos Provinciales            3   \n",
       "3154  Transferencias a Gobiernos Provinciales            3   \n",
       "3155   Transferencias a Gobiernos Municipales            3   \n",
       "3182  Transferencias a Gobiernos Provinciales            3   \n",
       "\n",
       "                    finalidad_desc  funcion_id         funcion_desc  \\\n",
       "487   ADMINISTRACION GUBERNAMENTAL         2.0             Judicial   \n",
       "3153            SERVICIOS SOCIALES         4.0  Educación y Cultura   \n",
       "3154            SERVICIOS SOCIALES         4.0  Educación y Cultura   \n",
       "3155            SERVICIOS SOCIALES         4.0  Educación y Cultura   \n",
       "3182            SERVICIOS SOCIALES         4.0  Educación y Cultura   \n",
       "\n",
       "      ubicacion_geografica_id        ubicacion_geografica_desc  \\\n",
       "487                       2.0  Ciudad Autónoma de Buenos Aires   \n",
       "3153                      2.0  Ciudad Autónoma de Buenos Aires   \n",
       "3154                      2.0  Ciudad Autónoma de Buenos Aires   \n",
       "3155                      2.0  Ciudad Autónoma de Buenos Aires   \n",
       "3182                      2.0  Ciudad Autónoma de Buenos Aires   \n",
       "\n",
       "     credito_devengado    Fecha  \n",
       "487                  0  2018-01  \n",
       "3153                 0  2018-01  \n",
       "3154                 0  2018-01  \n",
       "3155                 0  2018-01  \n",
       "3182                 0  2018-01  "
      ]
     },
     "execution_count": 154,
     "metadata": {},
     "output_type": "execute_result"
    }
   ],
   "source": [
    "f_data[:5]"
   ]
  },
  {
   "cell_type": "code",
   "execution_count": 145,
   "metadata": {},
   "outputs": [
    {
     "name": "stderr",
     "output_type": "stream",
     "text": [
      "C:\\Users\\valen\\anaconda3\\envs\\valentin\\lib\\site-packages\\ipykernel_launcher.py:1: SettingWithCopyWarning: \n",
      "A value is trying to be set on a copy of a slice from a DataFrame.\n",
      "Try using .loc[row_indexer,col_indexer] = value instead\n",
      "\n",
      "See the caveats in the documentation: https://pandas.pydata.org/pandas-docs/stable/user_guide/indexing.html#returning-a-view-versus-a-copy\n",
      "  \"\"\"Entry point for launching an IPython kernel.\n"
     ]
    }
   ],
   "source": [
    "f_data['credito_devengado'] = pd.to_numeric(f_data['credito_devengado'])"
   ]
  },
  {
   "cell_type": "code",
   "execution_count": 146,
   "metadata": {},
   "outputs": [
    {
     "data": {
      "text/html": [
       "<div>\n",
       "<style scoped>\n",
       "    .dataframe tbody tr th:only-of-type {\n",
       "        vertical-align: middle;\n",
       "    }\n",
       "\n",
       "    .dataframe tbody tr th {\n",
       "        vertical-align: top;\n",
       "    }\n",
       "\n",
       "    .dataframe thead th {\n",
       "        text-align: right;\n",
       "    }\n",
       "</style>\n",
       "<table border=\"1\" class=\"dataframe\">\n",
       "  <thead>\n",
       "    <tr style=\"text-align: right;\">\n",
       "      <th></th>\n",
       "      <th>impacto_presupuestario_anio</th>\n",
       "      <th>impacto_presupuestario_mes</th>\n",
       "      <th>inciso_id</th>\n",
       "      <th>principal_id</th>\n",
       "      <th>parcial_id</th>\n",
       "      <th>funcion_id</th>\n",
       "      <th>ubicacion_geografica_id</th>\n",
       "      <th>credito_devengado</th>\n",
       "    </tr>\n",
       "    <tr>\n",
       "      <th>Fecha</th>\n",
       "      <th></th>\n",
       "      <th></th>\n",
       "      <th></th>\n",
       "      <th></th>\n",
       "      <th></th>\n",
       "      <th></th>\n",
       "      <th></th>\n",
       "      <th></th>\n",
       "    </tr>\n",
       "  </thead>\n",
       "  <tbody>\n",
       "    <tr>\n",
       "      <th>2018-01</th>\n",
       "      <td>4284214</td>\n",
       "      <td>2123</td>\n",
       "      <td>10615.0</td>\n",
       "      <td>15433.0</td>\n",
       "      <td>4707.0</td>\n",
       "      <td>8675.0</td>\n",
       "      <td>93726.0</td>\n",
       "      <td>4.164917e+11</td>\n",
       "    </tr>\n",
       "    <tr>\n",
       "      <th>2018-02</th>\n",
       "      <td>1517536</td>\n",
       "      <td>1504</td>\n",
       "      <td>3760.0</td>\n",
       "      <td>5552.0</td>\n",
       "      <td>1455.0</td>\n",
       "      <td>3273.0</td>\n",
       "      <td>34467.0</td>\n",
       "      <td>6.795331e+11</td>\n",
       "    </tr>\n",
       "    <tr>\n",
       "      <th>2018-03</th>\n",
       "      <td>1828308</td>\n",
       "      <td>2718</td>\n",
       "      <td>4530.0</td>\n",
       "      <td>6769.0</td>\n",
       "      <td>1677.0</td>\n",
       "      <td>3714.0</td>\n",
       "      <td>41781.0</td>\n",
       "      <td>6.358219e+11</td>\n",
       "    </tr>\n",
       "    <tr>\n",
       "      <th>2018-04</th>\n",
       "      <td>1848488</td>\n",
       "      <td>3664</td>\n",
       "      <td>4580.0</td>\n",
       "      <td>6854.0</td>\n",
       "      <td>1948.0</td>\n",
       "      <td>3596.0</td>\n",
       "      <td>39960.0</td>\n",
       "      <td>5.215586e+11</td>\n",
       "    </tr>\n",
       "    <tr>\n",
       "      <th>2018-05</th>\n",
       "      <td>2072486</td>\n",
       "      <td>5135</td>\n",
       "      <td>5135.0</td>\n",
       "      <td>7738.0</td>\n",
       "      <td>2284.0</td>\n",
       "      <td>3973.0</td>\n",
       "      <td>46272.0</td>\n",
       "      <td>5.233750e+11</td>\n",
       "    </tr>\n",
       "    <tr>\n",
       "      <th>2018-06</th>\n",
       "      <td>2197602</td>\n",
       "      <td>6534</td>\n",
       "      <td>5445.0</td>\n",
       "      <td>8108.0</td>\n",
       "      <td>2427.0</td>\n",
       "      <td>4313.0</td>\n",
       "      <td>48160.0</td>\n",
       "      <td>4.905696e+11</td>\n",
       "    </tr>\n",
       "    <tr>\n",
       "      <th>2018-07</th>\n",
       "      <td>1709246</td>\n",
       "      <td>5929</td>\n",
       "      <td>4235.0</td>\n",
       "      <td>6337.0</td>\n",
       "      <td>1943.0</td>\n",
       "      <td>3263.0</td>\n",
       "      <td>38068.0</td>\n",
       "      <td>2.185819e+12</td>\n",
       "    </tr>\n",
       "    <tr>\n",
       "      <th>2018-08</th>\n",
       "      <td>2457924</td>\n",
       "      <td>9744</td>\n",
       "      <td>6090.0</td>\n",
       "      <td>9043.0</td>\n",
       "      <td>2689.0</td>\n",
       "      <td>4733.0</td>\n",
       "      <td>54299.0</td>\n",
       "      <td>6.548658e+11</td>\n",
       "    </tr>\n",
       "    <tr>\n",
       "      <th>2018-09</th>\n",
       "      <td>2714210</td>\n",
       "      <td>12105</td>\n",
       "      <td>6725.0</td>\n",
       "      <td>9910.0</td>\n",
       "      <td>3084.0</td>\n",
       "      <td>5303.0</td>\n",
       "      <td>60023.0</td>\n",
       "      <td>7.239619e+11</td>\n",
       "    </tr>\n",
       "    <tr>\n",
       "      <th>2018-10</th>\n",
       "      <td>2766678</td>\n",
       "      <td>13710</td>\n",
       "      <td>6855.0</td>\n",
       "      <td>10120.0</td>\n",
       "      <td>3397.0</td>\n",
       "      <td>5513.0</td>\n",
       "      <td>62026.0</td>\n",
       "      <td>6.155786e+11</td>\n",
       "    </tr>\n",
       "    <tr>\n",
       "      <th>2018-11</th>\n",
       "      <td>2508374</td>\n",
       "      <td>13673</td>\n",
       "      <td>6215.0</td>\n",
       "      <td>9299.0</td>\n",
       "      <td>2906.0</td>\n",
       "      <td>4775.0</td>\n",
       "      <td>55490.0</td>\n",
       "      <td>7.040317e+11</td>\n",
       "    </tr>\n",
       "    <tr>\n",
       "      <th>2018-12</th>\n",
       "      <td>3335754</td>\n",
       "      <td>19836</td>\n",
       "      <td>8265.0</td>\n",
       "      <td>12348.0</td>\n",
       "      <td>4222.0</td>\n",
       "      <td>6333.0</td>\n",
       "      <td>74265.0</td>\n",
       "      <td>1.395671e+12</td>\n",
       "    </tr>\n",
       "    <tr>\n",
       "      <th>2019-01</th>\n",
       "      <td>3821967</td>\n",
       "      <td>1893</td>\n",
       "      <td>9465.0</td>\n",
       "      <td>13754.0</td>\n",
       "      <td>4292.0</td>\n",
       "      <td>7633.0</td>\n",
       "      <td>87103.0</td>\n",
       "      <td>8.778796e+11</td>\n",
       "    </tr>\n",
       "    <tr>\n",
       "      <th>2019-02</th>\n",
       "      <td>1566744</td>\n",
       "      <td>1552</td>\n",
       "      <td>3880.0</td>\n",
       "      <td>5702.0</td>\n",
       "      <td>1473.0</td>\n",
       "      <td>3023.0</td>\n",
       "      <td>34406.0</td>\n",
       "      <td>6.475392e+11</td>\n",
       "    </tr>\n",
       "    <tr>\n",
       "      <th>2019-03</th>\n",
       "      <td>1813062</td>\n",
       "      <td>2694</td>\n",
       "      <td>4490.0</td>\n",
       "      <td>6683.0</td>\n",
       "      <td>1763.0</td>\n",
       "      <td>3809.0</td>\n",
       "      <td>41160.0</td>\n",
       "      <td>7.388332e+11</td>\n",
       "    </tr>\n",
       "    <tr>\n",
       "      <th>2019-04</th>\n",
       "      <td>1817100</td>\n",
       "      <td>3600</td>\n",
       "      <td>4500.0</td>\n",
       "      <td>6667.0</td>\n",
       "      <td>2152.0</td>\n",
       "      <td>3639.0</td>\n",
       "      <td>41442.0</td>\n",
       "      <td>5.388288e+11</td>\n",
       "    </tr>\n",
       "    <tr>\n",
       "      <th>2019-05</th>\n",
       "      <td>1550592</td>\n",
       "      <td>3840</td>\n",
       "      <td>3840.0</td>\n",
       "      <td>5754.0</td>\n",
       "      <td>1688.0</td>\n",
       "      <td>3041.0</td>\n",
       "      <td>34484.0</td>\n",
       "      <td>6.135695e+11</td>\n",
       "    </tr>\n",
       "    <tr>\n",
       "      <th>2019-06</th>\n",
       "      <td>1863537</td>\n",
       "      <td>5538</td>\n",
       "      <td>4615.0</td>\n",
       "      <td>6831.0</td>\n",
       "      <td>2046.0</td>\n",
       "      <td>3535.0</td>\n",
       "      <td>40798.0</td>\n",
       "      <td>7.943017e+11</td>\n",
       "    </tr>\n",
       "    <tr>\n",
       "      <th>2019-07</th>\n",
       "      <td>1784796</td>\n",
       "      <td>6188</td>\n",
       "      <td>4420.0</td>\n",
       "      <td>6544.0</td>\n",
       "      <td>1983.0</td>\n",
       "      <td>3253.0</td>\n",
       "      <td>39482.0</td>\n",
       "      <td>1.843935e+12</td>\n",
       "    </tr>\n",
       "    <tr>\n",
       "      <th>2019-08</th>\n",
       "      <td>1776720</td>\n",
       "      <td>7040</td>\n",
       "      <td>4400.0</td>\n",
       "      <td>6526.0</td>\n",
       "      <td>1970.0</td>\n",
       "      <td>3434.0</td>\n",
       "      <td>40243.0</td>\n",
       "      <td>9.379577e+11</td>\n",
       "    </tr>\n",
       "    <tr>\n",
       "      <th>2019-09</th>\n",
       "      <td>2237052</td>\n",
       "      <td>9972</td>\n",
       "      <td>5540.0</td>\n",
       "      <td>8189.0</td>\n",
       "      <td>2595.0</td>\n",
       "      <td>4265.0</td>\n",
       "      <td>48593.0</td>\n",
       "      <td>6.581481e+11</td>\n",
       "    </tr>\n",
       "    <tr>\n",
       "      <th>2019-10</th>\n",
       "      <td>1942278</td>\n",
       "      <td>9620</td>\n",
       "      <td>4810.0</td>\n",
       "      <td>7158.0</td>\n",
       "      <td>2080.0</td>\n",
       "      <td>3494.0</td>\n",
       "      <td>42053.0</td>\n",
       "      <td>4.813429e+11</td>\n",
       "    </tr>\n",
       "    <tr>\n",
       "      <th>2019-11</th>\n",
       "      <td>1823157</td>\n",
       "      <td>9933</td>\n",
       "      <td>4515.0</td>\n",
       "      <td>6667.0</td>\n",
       "      <td>2249.0</td>\n",
       "      <td>3587.0</td>\n",
       "      <td>39494.0</td>\n",
       "      <td>2.575631e+12</td>\n",
       "    </tr>\n",
       "    <tr>\n",
       "      <th>2019-12</th>\n",
       "      <td>1914012</td>\n",
       "      <td>11376</td>\n",
       "      <td>4740.0</td>\n",
       "      <td>6957.0</td>\n",
       "      <td>2014.0</td>\n",
       "      <td>3588.0</td>\n",
       "      <td>43217.0</td>\n",
       "      <td>7.180024e+11</td>\n",
       "    </tr>\n",
       "  </tbody>\n",
       "</table>\n",
       "</div>"
      ],
      "text/plain": [
       "         impacto_presupuestario_anio  impacto_presupuestario_mes  inciso_id  \\\n",
       "Fecha                                                                         \n",
       "2018-01                      4284214                        2123    10615.0   \n",
       "2018-02                      1517536                        1504     3760.0   \n",
       "2018-03                      1828308                        2718     4530.0   \n",
       "2018-04                      1848488                        3664     4580.0   \n",
       "2018-05                      2072486                        5135     5135.0   \n",
       "2018-06                      2197602                        6534     5445.0   \n",
       "2018-07                      1709246                        5929     4235.0   \n",
       "2018-08                      2457924                        9744     6090.0   \n",
       "2018-09                      2714210                       12105     6725.0   \n",
       "2018-10                      2766678                       13710     6855.0   \n",
       "2018-11                      2508374                       13673     6215.0   \n",
       "2018-12                      3335754                       19836     8265.0   \n",
       "2019-01                      3821967                        1893     9465.0   \n",
       "2019-02                      1566744                        1552     3880.0   \n",
       "2019-03                      1813062                        2694     4490.0   \n",
       "2019-04                      1817100                        3600     4500.0   \n",
       "2019-05                      1550592                        3840     3840.0   \n",
       "2019-06                      1863537                        5538     4615.0   \n",
       "2019-07                      1784796                        6188     4420.0   \n",
       "2019-08                      1776720                        7040     4400.0   \n",
       "2019-09                      2237052                        9972     5540.0   \n",
       "2019-10                      1942278                        9620     4810.0   \n",
       "2019-11                      1823157                        9933     4515.0   \n",
       "2019-12                      1914012                       11376     4740.0   \n",
       "\n",
       "         principal_id  parcial_id  funcion_id  ubicacion_geografica_id  \\\n",
       "Fecha                                                                    \n",
       "2018-01       15433.0      4707.0      8675.0                  93726.0   \n",
       "2018-02        5552.0      1455.0      3273.0                  34467.0   \n",
       "2018-03        6769.0      1677.0      3714.0                  41781.0   \n",
       "2018-04        6854.0      1948.0      3596.0                  39960.0   \n",
       "2018-05        7738.0      2284.0      3973.0                  46272.0   \n",
       "2018-06        8108.0      2427.0      4313.0                  48160.0   \n",
       "2018-07        6337.0      1943.0      3263.0                  38068.0   \n",
       "2018-08        9043.0      2689.0      4733.0                  54299.0   \n",
       "2018-09        9910.0      3084.0      5303.0                  60023.0   \n",
       "2018-10       10120.0      3397.0      5513.0                  62026.0   \n",
       "2018-11        9299.0      2906.0      4775.0                  55490.0   \n",
       "2018-12       12348.0      4222.0      6333.0                  74265.0   \n",
       "2019-01       13754.0      4292.0      7633.0                  87103.0   \n",
       "2019-02        5702.0      1473.0      3023.0                  34406.0   \n",
       "2019-03        6683.0      1763.0      3809.0                  41160.0   \n",
       "2019-04        6667.0      2152.0      3639.0                  41442.0   \n",
       "2019-05        5754.0      1688.0      3041.0                  34484.0   \n",
       "2019-06        6831.0      2046.0      3535.0                  40798.0   \n",
       "2019-07        6544.0      1983.0      3253.0                  39482.0   \n",
       "2019-08        6526.0      1970.0      3434.0                  40243.0   \n",
       "2019-09        8189.0      2595.0      4265.0                  48593.0   \n",
       "2019-10        7158.0      2080.0      3494.0                  42053.0   \n",
       "2019-11        6667.0      2249.0      3587.0                  39494.0   \n",
       "2019-12        6957.0      2014.0      3588.0                  43217.0   \n",
       "\n",
       "         credito_devengado  \n",
       "Fecha                       \n",
       "2018-01       4.164917e+11  \n",
       "2018-02       6.795331e+11  \n",
       "2018-03       6.358219e+11  \n",
       "2018-04       5.215586e+11  \n",
       "2018-05       5.233750e+11  \n",
       "2018-06       4.905696e+11  \n",
       "2018-07       2.185819e+12  \n",
       "2018-08       6.548658e+11  \n",
       "2018-09       7.239619e+11  \n",
       "2018-10       6.155786e+11  \n",
       "2018-11       7.040317e+11  \n",
       "2018-12       1.395671e+12  \n",
       "2019-01       8.778796e+11  \n",
       "2019-02       6.475392e+11  \n",
       "2019-03       7.388332e+11  \n",
       "2019-04       5.388288e+11  \n",
       "2019-05       6.135695e+11  \n",
       "2019-06       7.943017e+11  \n",
       "2019-07       1.843935e+12  \n",
       "2019-08       9.379577e+11  \n",
       "2019-09       6.581481e+11  \n",
       "2019-10       4.813429e+11  \n",
       "2019-11       2.575631e+12  \n",
       "2019-12       7.180024e+11  "
      ]
     },
     "execution_count": 146,
     "metadata": {},
     "output_type": "execute_result"
    }
   ],
   "source": [
    "f_data.groupby('Fecha').sum()"
   ]
  },
  {
   "cell_type": "code",
   "execution_count": null,
   "metadata": {},
   "outputs": [],
   "source": []
  }
 ],
 "metadata": {
  "kernelspec": {
   "display_name": "Python 3",
   "language": "python",
   "name": "python3"
  },
  "language_info": {
   "codemirror_mode": {
    "name": "ipython",
    "version": 3
   },
   "file_extension": ".py",
   "mimetype": "text/x-python",
   "name": "python",
   "nbconvert_exporter": "python",
   "pygments_lexer": "ipython3",
   "version": "3.6.10"
  }
 },
 "nbformat": 4,
 "nbformat_minor": 4
}
