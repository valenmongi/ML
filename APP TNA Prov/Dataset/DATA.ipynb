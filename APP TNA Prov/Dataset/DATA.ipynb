{
 "cells": [
  {
   "cell_type": "markdown",
   "metadata": {},
   "source": [
    "# DATASET CREATION"
   ]
  },
  {
   "cell_type": "code",
   "execution_count": 2,
   "metadata": {},
   "outputs": [],
   "source": [
    "import scipy\n",
    "from scipy import stats\n",
    "\n",
    "#librerías necesarias:\n",
    "\n",
    "# Data handling\n",
    "import pandas as pd\n",
    "import numpy as np\n",
    "from sklearn.preprocessing import MinMaxScaler\n",
    "\n",
    "# Visualization\n",
    "import seaborn as sns\n",
    "#import plotly.express as px\n",
    "import matplotlib.pyplot as plt\n",
    "import mpl_toolkits.mplot3d.axes3d as p3\n",
    "from matplotlib import animation\n",
    "\n",
    "%matplotlib inline \n",
    "pd.set_option(\"max_rows\", None)\n"
   ]
  },
  {
   "cell_type": "markdown",
   "metadata": {},
   "source": [
    "## 2018"
   ]
  },
  {
   "cell_type": "code",
   "execution_count": 2,
   "metadata": {},
   "outputs": [
    {
     "name": "stderr",
     "output_type": "stream",
     "text": [
      "C:\\Users\\valen\\anaconda3\\envs\\valentin\\lib\\site-packages\\IPython\\core\\interactiveshell.py:3063: DtypeWarning: Columns (0,2,25,27,47) have mixed types.Specify dtype option on import or set low_memory=False.\n",
      "  interactivity=interactivity, compiler=compiler, result=result)\n"
     ]
    }
   ],
   "source": [
    "data_18 = pd.read_csv('credito-mensual-2018.csv')"
   ]
  },
  {
   "cell_type": "code",
   "execution_count": 3,
   "metadata": {},
   "outputs": [],
   "source": [
    "data_18 = pd.DataFrame(data_18, columns=['impacto_presupuestario_anio', 'impacto_presupuestario_mes','inciso_id','inciso_desc', 'principal_id', 'principal_desc', 'parcial_id', 'parcial_desc', 'finalidad_id', 'finalidad_desc', 'funcion_id', 'funcion_desc', 'ubicacion_geografica_id', 'ubicacion_geografica_desc', 'credito_devengado'])\n",
    "data_18 = data_18[data_18['inciso_desc'] == 'Transferencias']"
   ]
  },
  {
   "cell_type": "code",
   "execution_count": 4,
   "metadata": {},
   "outputs": [],
   "source": [
    "list = ['Transf. a Inst. Prov. y Mun. para Fin. Gastos Corrientes', \n",
    "        'Transf. a Inst. Prov. y Mun. para Financ. Gastos de Capital']"
   ]
  },
  {
   "cell_type": "code",
   "execution_count": 5,
   "metadata": {},
   "outputs": [],
   "source": [
    "f_data_18 = data_18[data_18['principal_desc'].isin(list)]"
   ]
  },
  {
   "cell_type": "code",
   "execution_count": 6,
   "metadata": {},
   "outputs": [
    {
     "data": {
      "text/plain": [
       "(14490, 15)"
      ]
     },
     "execution_count": 6,
     "metadata": {},
     "output_type": "execute_result"
    }
   ],
   "source": [
    "f_data_18.shape"
   ]
  },
  {
   "cell_type": "code",
   "execution_count": 7,
   "metadata": {},
   "outputs": [
    {
     "name": "stderr",
     "output_type": "stream",
     "text": [
      "C:\\Users\\valen\\anaconda3\\envs\\valentin\\lib\\site-packages\\ipykernel_launcher.py:1: SettingWithCopyWarning: \n",
      "A value is trying to be set on a copy of a slice from a DataFrame.\n",
      "Try using .loc[row_indexer,col_indexer] = value instead\n",
      "\n",
      "See the caveats in the documentation: https://pandas.pydata.org/pandas-docs/stable/user_guide/indexing.html#returning-a-view-versus-a-copy\n",
      "  \"\"\"Entry point for launching an IPython kernel.\n"
     ]
    }
   ],
   "source": [
    "f_data_18['Fecha'] = f_data_18['impacto_presupuestario_anio'].map(str) + '/' + f_data_18['impacto_presupuestario_mes'].map(str)"
   ]
  },
  {
   "cell_type": "code",
   "execution_count": 8,
   "metadata": {},
   "outputs": [],
   "source": [
    "data_1 = pd.to_datetime(f_data_18['Fecha'])"
   ]
  },
  {
   "cell_type": "code",
   "execution_count": 9,
   "metadata": {},
   "outputs": [
    {
     "name": "stderr",
     "output_type": "stream",
     "text": [
      "C:\\Users\\valen\\anaconda3\\envs\\valentin\\lib\\site-packages\\ipykernel_launcher.py:1: SettingWithCopyWarning: \n",
      "A value is trying to be set on a copy of a slice from a DataFrame.\n",
      "Try using .loc[row_indexer,col_indexer] = value instead\n",
      "\n",
      "See the caveats in the documentation: https://pandas.pydata.org/pandas-docs/stable/user_guide/indexing.html#returning-a-view-versus-a-copy\n",
      "  \"\"\"Entry point for launching an IPython kernel.\n"
     ]
    }
   ],
   "source": [
    "f_data_18['Fecha'] = pd.PeriodIndex(data_1, freq='M')"
   ]
  },
  {
   "cell_type": "code",
   "execution_count": 10,
   "metadata": {},
   "outputs": [
    {
     "data": {
      "text/plain": [
       "impacto_presupuestario_anio       object\n",
       "impacto_presupuestario_mes         int64\n",
       "inciso_id                        float64\n",
       "inciso_desc                       object\n",
       "principal_id                     float64\n",
       "principal_desc                    object\n",
       "parcial_id                       float64\n",
       "parcial_desc                      object\n",
       "finalidad_id                      object\n",
       "finalidad_desc                    object\n",
       "funcion_id                       float64\n",
       "funcion_desc                      object\n",
       "ubicacion_geografica_id          float64\n",
       "ubicacion_geografica_desc         object\n",
       "credito_devengado                 object\n",
       "Fecha                          period[M]\n",
       "dtype: object"
      ]
     },
     "execution_count": 10,
     "metadata": {},
     "output_type": "execute_result"
    }
   ],
   "source": [
    "f_data_18.dtypes"
   ]
  },
  {
   "cell_type": "markdown",
   "metadata": {},
   "source": [
    "## 2019"
   ]
  },
  {
   "cell_type": "code",
   "execution_count": 3,
   "metadata": {},
   "outputs": [
    {
     "name": "stderr",
     "output_type": "stream",
     "text": [
      "C:\\Users\\valen\\anaconda3\\envs\\valentin\\lib\\site-packages\\IPython\\core\\interactiveshell.py:3063: DtypeWarning: Columns (47) have mixed types.Specify dtype option on import or set low_memory=False.\n",
      "  interactivity=interactivity, compiler=compiler, result=result)\n"
     ]
    }
   ],
   "source": [
    "data_19 = pd.read_csv('data/credito-mensual-2019.csv')"
   ]
  },
  {
   "cell_type": "code",
   "execution_count": 4,
   "metadata": {},
   "outputs": [],
   "source": [
    "data_19 = pd.DataFrame(data_19, columns=['impacto_presupuestario_anio', 'impacto_presupuestario_mes','inciso_id','inciso_desc', 'principal_id', 'principal_desc', 'parcial_id', 'parcial_desc', 'finalidad_id', 'finalidad_desc', 'funcion_id', 'funcion_desc', 'ubicacion_geografica_id', 'ubicacion_geografica_desc', 'credito_devengado'])\n",
    "data_19 = data_19[data_19['inciso_desc'] == 'Transferencias']"
   ]
  },
  {
   "cell_type": "code",
   "execution_count": 7,
   "metadata": {},
   "outputs": [
    {
     "data": {
      "text/html": [
       "<div>\n",
       "<style scoped>\n",
       "    .dataframe tbody tr th:only-of-type {\n",
       "        vertical-align: middle;\n",
       "    }\n",
       "\n",
       "    .dataframe tbody tr th {\n",
       "        vertical-align: top;\n",
       "    }\n",
       "\n",
       "    .dataframe thead th {\n",
       "        text-align: right;\n",
       "    }\n",
       "</style>\n",
       "<table border=\"1\" class=\"dataframe\">\n",
       "  <thead>\n",
       "    <tr style=\"text-align: right;\">\n",
       "      <th></th>\n",
       "      <th>impacto_presupuestario_anio</th>\n",
       "      <th>impacto_presupuestario_mes</th>\n",
       "      <th>inciso_id</th>\n",
       "      <th>inciso_desc</th>\n",
       "      <th>principal_id</th>\n",
       "      <th>principal_desc</th>\n",
       "      <th>parcial_id</th>\n",
       "      <th>parcial_desc</th>\n",
       "      <th>finalidad_id</th>\n",
       "      <th>finalidad_desc</th>\n",
       "      <th>funcion_id</th>\n",
       "      <th>funcion_desc</th>\n",
       "      <th>ubicacion_geografica_id</th>\n",
       "      <th>ubicacion_geografica_desc</th>\n",
       "      <th>credito_devengado</th>\n",
       "    </tr>\n",
       "  </thead>\n",
       "  <tbody>\n",
       "    <tr>\n",
       "      <th>533361</th>\n",
       "      <td>2019</td>\n",
       "      <td>12</td>\n",
       "      <td>5</td>\n",
       "      <td>Transferencias</td>\n",
       "      <td>7</td>\n",
       "      <td>Transf. a Inst. Prov. y Mun. para Fin. Gastos ...</td>\n",
       "      <td>1</td>\n",
       "      <td>Transferencias a Gobiernos Provinciales</td>\n",
       "      <td>3</td>\n",
       "      <td>SERVICIOS SOCIALES</td>\n",
       "      <td>3</td>\n",
       "      <td>Seguridad Social</td>\n",
       "      <td>18</td>\n",
       "      <td>Provincia de Corrientes</td>\n",
       "      <td>199,6293045</td>\n",
       "    </tr>\n",
       "    <tr>\n",
       "      <th>533362</th>\n",
       "      <td>2019</td>\n",
       "      <td>12</td>\n",
       "      <td>5</td>\n",
       "      <td>Transferencias</td>\n",
       "      <td>7</td>\n",
       "      <td>Transf. a Inst. Prov. y Mun. para Fin. Gastos ...</td>\n",
       "      <td>1</td>\n",
       "      <td>Transferencias a Gobiernos Provinciales</td>\n",
       "      <td>3</td>\n",
       "      <td>SERVICIOS SOCIALES</td>\n",
       "      <td>3</td>\n",
       "      <td>Seguridad Social</td>\n",
       "      <td>30</td>\n",
       "      <td>Provincia de Entre Ríos</td>\n",
       "      <td>232,35838167</td>\n",
       "    </tr>\n",
       "    <tr>\n",
       "      <th>533363</th>\n",
       "      <td>2019</td>\n",
       "      <td>12</td>\n",
       "      <td>5</td>\n",
       "      <td>Transferencias</td>\n",
       "      <td>7</td>\n",
       "      <td>Transf. a Inst. Prov. y Mun. para Fin. Gastos ...</td>\n",
       "      <td>1</td>\n",
       "      <td>Transferencias a Gobiernos Provinciales</td>\n",
       "      <td>3</td>\n",
       "      <td>SERVICIOS SOCIALES</td>\n",
       "      <td>3</td>\n",
       "      <td>Seguridad Social</td>\n",
       "      <td>34</td>\n",
       "      <td>Provincia de Formosa</td>\n",
       "      <td>79,279198</td>\n",
       "    </tr>\n",
       "    <tr>\n",
       "      <th>533364</th>\n",
       "      <td>2019</td>\n",
       "      <td>12</td>\n",
       "      <td>5</td>\n",
       "      <td>Transferencias</td>\n",
       "      <td>7</td>\n",
       "      <td>Transf. a Inst. Prov. y Mun. para Fin. Gastos ...</td>\n",
       "      <td>1</td>\n",
       "      <td>Transferencias a Gobiernos Provinciales</td>\n",
       "      <td>3</td>\n",
       "      <td>SERVICIOS SOCIALES</td>\n",
       "      <td>3</td>\n",
       "      <td>Seguridad Social</td>\n",
       "      <td>42</td>\n",
       "      <td>Provincia de La Pampa</td>\n",
       "      <td>443,36532703</td>\n",
       "    </tr>\n",
       "    <tr>\n",
       "      <th>533365</th>\n",
       "      <td>2019</td>\n",
       "      <td>12</td>\n",
       "      <td>5</td>\n",
       "      <td>Transferencias</td>\n",
       "      <td>7</td>\n",
       "      <td>Transf. a Inst. Prov. y Mun. para Fin. Gastos ...</td>\n",
       "      <td>1</td>\n",
       "      <td>Transferencias a Gobiernos Provinciales</td>\n",
       "      <td>3</td>\n",
       "      <td>SERVICIOS SOCIALES</td>\n",
       "      <td>3</td>\n",
       "      <td>Seguridad Social</td>\n",
       "      <td>82</td>\n",
       "      <td>Provincia de Santa Fe</td>\n",
       "      <td>386,87354742</td>\n",
       "    </tr>\n",
       "  </tbody>\n",
       "</table>\n",
       "</div>"
      ],
      "text/plain": [
       "        impacto_presupuestario_anio  impacto_presupuestario_mes  inciso_id  \\\n",
       "533361                         2019                          12          5   \n",
       "533362                         2019                          12          5   \n",
       "533363                         2019                          12          5   \n",
       "533364                         2019                          12          5   \n",
       "533365                         2019                          12          5   \n",
       "\n",
       "           inciso_desc  principal_id  \\\n",
       "533361  Transferencias             7   \n",
       "533362  Transferencias             7   \n",
       "533363  Transferencias             7   \n",
       "533364  Transferencias             7   \n",
       "533365  Transferencias             7   \n",
       "\n",
       "                                           principal_desc  parcial_id  \\\n",
       "533361  Transf. a Inst. Prov. y Mun. para Fin. Gastos ...           1   \n",
       "533362  Transf. a Inst. Prov. y Mun. para Fin. Gastos ...           1   \n",
       "533363  Transf. a Inst. Prov. y Mun. para Fin. Gastos ...           1   \n",
       "533364  Transf. a Inst. Prov. y Mun. para Fin. Gastos ...           1   \n",
       "533365  Transf. a Inst. Prov. y Mun. para Fin. Gastos ...           1   \n",
       "\n",
       "                                   parcial_desc  finalidad_id  \\\n",
       "533361  Transferencias a Gobiernos Provinciales             3   \n",
       "533362  Transferencias a Gobiernos Provinciales             3   \n",
       "533363  Transferencias a Gobiernos Provinciales             3   \n",
       "533364  Transferencias a Gobiernos Provinciales             3   \n",
       "533365  Transferencias a Gobiernos Provinciales             3   \n",
       "\n",
       "            finalidad_desc  funcion_id      funcion_desc  \\\n",
       "533361  SERVICIOS SOCIALES           3  Seguridad Social   \n",
       "533362  SERVICIOS SOCIALES           3  Seguridad Social   \n",
       "533363  SERVICIOS SOCIALES           3  Seguridad Social   \n",
       "533364  SERVICIOS SOCIALES           3  Seguridad Social   \n",
       "533365  SERVICIOS SOCIALES           3  Seguridad Social   \n",
       "\n",
       "        ubicacion_geografica_id ubicacion_geografica_desc credito_devengado  \n",
       "533361                       18   Provincia de Corrientes       199,6293045  \n",
       "533362                       30   Provincia de Entre Ríos      232,35838167  \n",
       "533363                       34      Provincia de Formosa         79,279198  \n",
       "533364                       42     Provincia de La Pampa      443,36532703  \n",
       "533365                       82     Provincia de Santa Fe      386,87354742  "
      ]
     },
     "execution_count": 7,
     "metadata": {},
     "output_type": "execute_result"
    }
   ],
   "source": [
    "data_19.tail()"
   ]
  },
  {
   "cell_type": "code",
   "execution_count": 5,
   "metadata": {},
   "outputs": [
    {
     "ename": "TypeError",
     "evalue": "only list-like objects are allowed to be passed to isin(), you passed a [type]",
     "output_type": "error",
     "traceback": [
      "\u001b[1;31m---------------------------------------------------------------------------\u001b[0m",
      "\u001b[1;31mTypeError\u001b[0m                                 Traceback (most recent call last)",
      "\u001b[1;32m<ipython-input-5-582aca048254>\u001b[0m in \u001b[0;36m<module>\u001b[1;34m\u001b[0m\n\u001b[1;32m----> 1\u001b[1;33m \u001b[0mf_data_19\u001b[0m \u001b[1;33m=\u001b[0m \u001b[0mdata_19\u001b[0m\u001b[1;33m[\u001b[0m\u001b[0mdata_19\u001b[0m\u001b[1;33m[\u001b[0m\u001b[1;34m'principal_desc'\u001b[0m\u001b[1;33m]\u001b[0m\u001b[1;33m.\u001b[0m\u001b[0misin\u001b[0m\u001b[1;33m(\u001b[0m\u001b[0mlist\u001b[0m\u001b[1;33m)\u001b[0m\u001b[1;33m]\u001b[0m\u001b[1;33m\u001b[0m\u001b[1;33m\u001b[0m\u001b[0m\n\u001b[0m",
      "\u001b[1;32m~\\anaconda3\\envs\\valentin\\lib\\site-packages\\pandas\\core\\series.py\u001b[0m in \u001b[0;36misin\u001b[1;34m(self, values)\u001b[0m\n\u001b[0;32m   4292\u001b[0m         \u001b[0mName\u001b[0m\u001b[1;33m:\u001b[0m \u001b[0manimal\u001b[0m\u001b[1;33m,\u001b[0m \u001b[0mdtype\u001b[0m\u001b[1;33m:\u001b[0m \u001b[0mbool\u001b[0m\u001b[1;33m\u001b[0m\u001b[1;33m\u001b[0m\u001b[0m\n\u001b[0;32m   4293\u001b[0m         \"\"\"\n\u001b[1;32m-> 4294\u001b[1;33m         \u001b[0mresult\u001b[0m \u001b[1;33m=\u001b[0m \u001b[0malgorithms\u001b[0m\u001b[1;33m.\u001b[0m\u001b[0misin\u001b[0m\u001b[1;33m(\u001b[0m\u001b[0mself\u001b[0m\u001b[1;33m,\u001b[0m \u001b[0mvalues\u001b[0m\u001b[1;33m)\u001b[0m\u001b[1;33m\u001b[0m\u001b[1;33m\u001b[0m\u001b[0m\n\u001b[0m\u001b[0;32m   4295\u001b[0m         \u001b[1;32mreturn\u001b[0m \u001b[0mself\u001b[0m\u001b[1;33m.\u001b[0m\u001b[0m_constructor\u001b[0m\u001b[1;33m(\u001b[0m\u001b[0mresult\u001b[0m\u001b[1;33m,\u001b[0m \u001b[0mindex\u001b[0m\u001b[1;33m=\u001b[0m\u001b[0mself\u001b[0m\u001b[1;33m.\u001b[0m\u001b[0mindex\u001b[0m\u001b[1;33m)\u001b[0m\u001b[1;33m.\u001b[0m\u001b[0m__finalize__\u001b[0m\u001b[1;33m(\u001b[0m\u001b[0mself\u001b[0m\u001b[1;33m)\u001b[0m\u001b[1;33m\u001b[0m\u001b[1;33m\u001b[0m\u001b[0m\n\u001b[0;32m   4296\u001b[0m \u001b[1;33m\u001b[0m\u001b[0m\n",
      "\u001b[1;32m~\\anaconda3\\envs\\valentin\\lib\\site-packages\\pandas\\core\\algorithms.py\u001b[0m in \u001b[0;36misin\u001b[1;34m(comps, values)\u001b[0m\n\u001b[0;32m    409\u001b[0m     \u001b[1;32mif\u001b[0m \u001b[1;32mnot\u001b[0m \u001b[0mis_list_like\u001b[0m\u001b[1;33m(\u001b[0m\u001b[0mvalues\u001b[0m\u001b[1;33m)\u001b[0m\u001b[1;33m:\u001b[0m\u001b[1;33m\u001b[0m\u001b[1;33m\u001b[0m\u001b[0m\n\u001b[0;32m    410\u001b[0m         raise TypeError(\n\u001b[1;32m--> 411\u001b[1;33m             \u001b[1;34m\"only list-like objects are allowed to be passed \"\u001b[0m\u001b[1;33m\u001b[0m\u001b[1;33m\u001b[0m\u001b[0m\n\u001b[0m\u001b[0;32m    412\u001b[0m             \u001b[1;34mf\"to isin(), you passed a [{type(values).__name__}]\"\u001b[0m\u001b[1;33m\u001b[0m\u001b[1;33m\u001b[0m\u001b[0m\n\u001b[0;32m    413\u001b[0m         )\n",
      "\u001b[1;31mTypeError\u001b[0m: only list-like objects are allowed to be passed to isin(), you passed a [type]"
     ]
    }
   ],
   "source": [
    "f_data_19 = data_19[data_19['principal_desc'].isin(list)]"
   ]
  },
  {
   "cell_type": "code",
   "execution_count": 156,
   "metadata": {},
   "outputs": [
    {
     "data": {
      "text/plain": [
       "(11843, 16)"
      ]
     },
     "execution_count": 156,
     "metadata": {},
     "output_type": "execute_result"
    }
   ],
   "source": [
    "f_data_19.shape"
   ]
  },
  {
   "cell_type": "code",
   "execution_count": 15,
   "metadata": {},
   "outputs": [
    {
     "name": "stderr",
     "output_type": "stream",
     "text": [
      "C:\\Users\\valen\\anaconda3\\envs\\valentin\\lib\\site-packages\\ipykernel_launcher.py:1: SettingWithCopyWarning: \n",
      "A value is trying to be set on a copy of a slice from a DataFrame.\n",
      "Try using .loc[row_indexer,col_indexer] = value instead\n",
      "\n",
      "See the caveats in the documentation: https://pandas.pydata.org/pandas-docs/stable/user_guide/indexing.html#returning-a-view-versus-a-copy\n",
      "  \"\"\"Entry point for launching an IPython kernel.\n"
     ]
    }
   ],
   "source": [
    "f_data_19['Fecha'] = f_data_19['impacto_presupuestario_anio'].map(str) + '/' + f_data_19['impacto_presupuestario_mes'].map(str)"
   ]
  },
  {
   "cell_type": "code",
   "execution_count": 16,
   "metadata": {},
   "outputs": [],
   "source": [
    "data_2 = pd.to_datetime(f_data_19['Fecha'])"
   ]
  },
  {
   "cell_type": "code",
   "execution_count": 17,
   "metadata": {},
   "outputs": [
    {
     "name": "stderr",
     "output_type": "stream",
     "text": [
      "C:\\Users\\valen\\anaconda3\\envs\\valentin\\lib\\site-packages\\ipykernel_launcher.py:1: SettingWithCopyWarning: \n",
      "A value is trying to be set on a copy of a slice from a DataFrame.\n",
      "Try using .loc[row_indexer,col_indexer] = value instead\n",
      "\n",
      "See the caveats in the documentation: https://pandas.pydata.org/pandas-docs/stable/user_guide/indexing.html#returning-a-view-versus-a-copy\n",
      "  \"\"\"Entry point for launching an IPython kernel.\n"
     ]
    }
   ],
   "source": [
    "f_data_19['Fecha'] = pd.PeriodIndex(data_2, freq='M')"
   ]
  },
  {
   "cell_type": "code",
   "execution_count": 18,
   "metadata": {},
   "outputs": [
    {
     "data": {
      "text/html": [
       "<div>\n",
       "<style scoped>\n",
       "    .dataframe tbody tr th:only-of-type {\n",
       "        vertical-align: middle;\n",
       "    }\n",
       "\n",
       "    .dataframe tbody tr th {\n",
       "        vertical-align: top;\n",
       "    }\n",
       "\n",
       "    .dataframe thead th {\n",
       "        text-align: right;\n",
       "    }\n",
       "</style>\n",
       "<table border=\"1\" class=\"dataframe\">\n",
       "  <thead>\n",
       "    <tr style=\"text-align: right;\">\n",
       "      <th></th>\n",
       "      <th>impacto_presupuestario_anio</th>\n",
       "      <th>impacto_presupuestario_mes</th>\n",
       "      <th>inciso_id</th>\n",
       "      <th>principal_id</th>\n",
       "      <th>parcial_id</th>\n",
       "      <th>finalidad_id</th>\n",
       "      <th>funcion_id</th>\n",
       "      <th>ubicacion_geografica_id</th>\n",
       "    </tr>\n",
       "    <tr>\n",
       "      <th>finalidad_desc</th>\n",
       "      <th></th>\n",
       "      <th></th>\n",
       "      <th></th>\n",
       "      <th></th>\n",
       "      <th></th>\n",
       "      <th></th>\n",
       "      <th></th>\n",
       "      <th></th>\n",
       "    </tr>\n",
       "  </thead>\n",
       "  <tbody>\n",
       "    <tr>\n",
       "      <th>ADMINISTRACION GUBERNAMENTAL</th>\n",
       "      <td>918645</td>\n",
       "      <td>2999</td>\n",
       "      <td>2275</td>\n",
       "      <td>3276</td>\n",
       "      <td>780</td>\n",
       "      <td>455</td>\n",
       "      <td>2083</td>\n",
       "      <td>22270</td>\n",
       "    </tr>\n",
       "    <tr>\n",
       "      <th>SERVICIOS DE DEFENSA Y SEGURIDAD</th>\n",
       "      <td>50475</td>\n",
       "      <td>142</td>\n",
       "      <td>125</td>\n",
       "      <td>184</td>\n",
       "      <td>55</td>\n",
       "      <td>50</td>\n",
       "      <td>47</td>\n",
       "      <td>954</td>\n",
       "    </tr>\n",
       "    <tr>\n",
       "      <th>SERVICIOS ECONOMICOS</th>\n",
       "      <td>1920069</td>\n",
       "      <td>5928</td>\n",
       "      <td>4755</td>\n",
       "      <td>7227</td>\n",
       "      <td>1938</td>\n",
       "      <td>3804</td>\n",
       "      <td>4138</td>\n",
       "      <td>40050</td>\n",
       "    </tr>\n",
       "    <tr>\n",
       "      <th>SERVICIOS SOCIALES</th>\n",
       "      <td>21021828</td>\n",
       "      <td>64177</td>\n",
       "      <td>52060</td>\n",
       "      <td>76745</td>\n",
       "      <td>23532</td>\n",
       "      <td>31236</td>\n",
       "      <td>40033</td>\n",
       "      <td>469201</td>\n",
       "    </tr>\n",
       "  </tbody>\n",
       "</table>\n",
       "</div>"
      ],
      "text/plain": [
       "                                  impacto_presupuestario_anio  \\\n",
       "finalidad_desc                                                  \n",
       "ADMINISTRACION GUBERNAMENTAL                           918645   \n",
       "SERVICIOS DE DEFENSA Y SEGURIDAD                        50475   \n",
       "SERVICIOS ECONOMICOS                                  1920069   \n",
       "SERVICIOS SOCIALES                                   21021828   \n",
       "\n",
       "                                  impacto_presupuestario_mes  inciso_id  \\\n",
       "finalidad_desc                                                            \n",
       "ADMINISTRACION GUBERNAMENTAL                            2999       2275   \n",
       "SERVICIOS DE DEFENSA Y SEGURIDAD                         142        125   \n",
       "SERVICIOS ECONOMICOS                                    5928       4755   \n",
       "SERVICIOS SOCIALES                                     64177      52060   \n",
       "\n",
       "                                  principal_id  parcial_id  finalidad_id  \\\n",
       "finalidad_desc                                                             \n",
       "ADMINISTRACION GUBERNAMENTAL              3276         780           455   \n",
       "SERVICIOS DE DEFENSA Y SEGURIDAD           184          55            50   \n",
       "SERVICIOS ECONOMICOS                      7227        1938          3804   \n",
       "SERVICIOS SOCIALES                       76745       23532         31236   \n",
       "\n",
       "                                  funcion_id  ubicacion_geografica_id  \n",
       "finalidad_desc                                                         \n",
       "ADMINISTRACION GUBERNAMENTAL            2083                    22270  \n",
       "SERVICIOS DE DEFENSA Y SEGURIDAD          47                      954  \n",
       "SERVICIOS ECONOMICOS                    4138                    40050  \n",
       "SERVICIOS SOCIALES                     40033                   469201  "
      ]
     },
     "execution_count": 18,
     "metadata": {},
     "output_type": "execute_result"
    }
   ],
   "source": [
    "f_data_19.groupby('finalidad_desc').sum()"
   ]
  },
  {
   "cell_type": "markdown",
   "metadata": {},
   "source": [
    "## Data"
   ]
  },
  {
   "cell_type": "code",
   "execution_count": 244,
   "metadata": {},
   "outputs": [
    {
     "name": "stderr",
     "output_type": "stream",
     "text": [
      "C:\\Users\\valen\\anaconda3\\envs\\valentin\\lib\\site-packages\\IPython\\core\\interactiveshell.py:3063: DtypeWarning: Columns (47) have mixed types.Specify dtype option on import or set low_memory=False.\n",
      "  interactivity=interactivity, compiler=compiler, result=result)\n"
     ]
    }
   ],
   "source": [
    "import glob\n",
    "\n",
    "path = r'C:\\Users\\valen\\Google Drive\\Machine Learning\\ML - GitHub\\APP TNA Prov\\Dataset\\Data' # use your path\n",
    "all_files = glob.glob(path + \"/*.csv\")\n",
    "\n",
    "li = []\n",
    "\n",
    "for filename in all_files:\n",
    "    df = pd.read_csv(filename, decimal=',')\n",
    "    li.append(df)\n",
    "\n",
    "data = pd.concat(li, axis=0, ignore_index=True)"
   ]
  },
  {
   "cell_type": "markdown",
   "metadata": {},
   "source": [
    "### Deal with 2018 dataset"
   ]
  },
  {
   "cell_type": "code",
   "execution_count": 245,
   "metadata": {},
   "outputs": [
    {
     "data": {
      "text/html": [
       "<div>\n",
       "<style scoped>\n",
       "    .dataframe tbody tr th:only-of-type {\n",
       "        vertical-align: middle;\n",
       "    }\n",
       "\n",
       "    .dataframe tbody tr th {\n",
       "        vertical-align: top;\n",
       "    }\n",
       "\n",
       "    .dataframe thead th {\n",
       "        text-align: right;\n",
       "    }\n",
       "</style>\n",
       "<table border=\"1\" class=\"dataframe\">\n",
       "  <thead>\n",
       "    <tr style=\"text-align: right;\">\n",
       "      <th></th>\n",
       "      <th>impacto_presupuestario_anio</th>\n",
       "      <th>impacto_presupuestario_mes</th>\n",
       "      <th>ejercicio_presupuestario</th>\n",
       "      <th>sector_id</th>\n",
       "      <th>sector_desc</th>\n",
       "      <th>subsector_id</th>\n",
       "      <th>subsector_desc</th>\n",
       "      <th>caracter_id</th>\n",
       "      <th>caracter_desc</th>\n",
       "      <th>jurisdiccion_id</th>\n",
       "      <th>...</th>\n",
       "      <th>ubicacion_geografica_id</th>\n",
       "      <th>ubicacion_geografica_desc</th>\n",
       "      <th>unidad_ejecutora_id</th>\n",
       "      <th>unidad_ejecutora_desc</th>\n",
       "      <th>credito_presupuestado</th>\n",
       "      <th>credito_vigente</th>\n",
       "      <th>credito_comprometido</th>\n",
       "      <th>credito_devengado</th>\n",
       "      <th>credito_pagado</th>\n",
       "      <th>ultima_actualizacion_fecha</th>\n",
       "    </tr>\n",
       "  </thead>\n",
       "  <tbody>\n",
       "    <tr>\n",
       "      <th>0</th>\n",
       "      <td>2018</td>\n",
       "      <td>1</td>\n",
       "      <td>2018</td>\n",
       "      <td>1</td>\n",
       "      <td>Sector Público Nacional no Financiero</td>\n",
       "      <td>1</td>\n",
       "      <td>Administración Nacional</td>\n",
       "      <td>1</td>\n",
       "      <td>Administración Central</td>\n",
       "      <td>1</td>\n",
       "      <td>...</td>\n",
       "      <td>2</td>\n",
       "      <td>Ciudad Autónoma de Buenos Aires</td>\n",
       "      <td>392</td>\n",
       "      <td>Honorable Cámara de Senadores</td>\n",
       "      <td>3,551,920,148</td>\n",
       "      <td>3,551,920,148</td>\n",
       "      <td>18,892,017,107</td>\n",
       "      <td>188.920171</td>\n",
       "      <td>17,602,475,615</td>\n",
       "      <td>Última actualización del ejercicio 2018: 24 Ju...</td>\n",
       "    </tr>\n",
       "    <tr>\n",
       "      <th>1</th>\n",
       "      <td>2018</td>\n",
       "      <td>1</td>\n",
       "      <td>2018</td>\n",
       "      <td>1</td>\n",
       "      <td>Sector Público Nacional no Financiero</td>\n",
       "      <td>1</td>\n",
       "      <td>Administración Nacional</td>\n",
       "      <td>1</td>\n",
       "      <td>Administración Central</td>\n",
       "      <td>1</td>\n",
       "      <td>...</td>\n",
       "      <td>2</td>\n",
       "      <td>Ciudad Autónoma de Buenos Aires</td>\n",
       "      <td>392</td>\n",
       "      <td>Honorable Cámara de Senadores</td>\n",
       "      <td>478,837,045</td>\n",
       "      <td>478,837,045</td>\n",
       "      <td>5,518,279,227</td>\n",
       "      <td>55.182792</td>\n",
       "      <td>5,518,149,636</td>\n",
       "      <td>Última actualización del ejercicio 2018: 24 Ju...</td>\n",
       "    </tr>\n",
       "    <tr>\n",
       "      <th>2</th>\n",
       "      <td>2018</td>\n",
       "      <td>1</td>\n",
       "      <td>2018</td>\n",
       "      <td>1</td>\n",
       "      <td>Sector Público Nacional no Financiero</td>\n",
       "      <td>1</td>\n",
       "      <td>Administración Nacional</td>\n",
       "      <td>1</td>\n",
       "      <td>Administración Central</td>\n",
       "      <td>1</td>\n",
       "      <td>...</td>\n",
       "      <td>2</td>\n",
       "      <td>Ciudad Autónoma de Buenos Aires</td>\n",
       "      <td>392</td>\n",
       "      <td>Honorable Cámara de Senadores</td>\n",
       "      <td>188,328,774</td>\n",
       "      <td>188,328,774</td>\n",
       "      <td>0,12077023</td>\n",
       "      <td>0.001208</td>\n",
       "      <td>0,1207694</td>\n",
       "      <td>Última actualización del ejercicio 2018: 24 Ju...</td>\n",
       "    </tr>\n",
       "  </tbody>\n",
       "</table>\n",
       "<p>3 rows × 53 columns</p>\n",
       "</div>"
      ],
      "text/plain": [
       "   impacto_presupuestario_anio  impacto_presupuestario_mes  \\\n",
       "0                         2018                           1   \n",
       "1                         2018                           1   \n",
       "2                         2018                           1   \n",
       "\n",
       "   ejercicio_presupuestario  sector_id                            sector_desc  \\\n",
       "0                      2018          1  Sector Público Nacional no Financiero   \n",
       "1                      2018          1  Sector Público Nacional no Financiero   \n",
       "2                      2018          1  Sector Público Nacional no Financiero   \n",
       "\n",
       "   subsector_id           subsector_desc  caracter_id           caracter_desc  \\\n",
       "0             1  Administración Nacional            1  Administración Central   \n",
       "1             1  Administración Nacional            1  Administración Central   \n",
       "2             1  Administración Nacional            1  Administración Central   \n",
       "\n",
       "   jurisdiccion_id  ... ubicacion_geografica_id  \\\n",
       "0                1  ...                       2   \n",
       "1                1  ...                       2   \n",
       "2                1  ...                       2   \n",
       "\n",
       "         ubicacion_geografica_desc unidad_ejecutora_id  \\\n",
       "0  Ciudad Autónoma de Buenos Aires                 392   \n",
       "1  Ciudad Autónoma de Buenos Aires                 392   \n",
       "2  Ciudad Autónoma de Buenos Aires                 392   \n",
       "\n",
       "           unidad_ejecutora_desc credito_presupuestado  credito_vigente  \\\n",
       "0  Honorable Cámara de Senadores         3,551,920,148    3,551,920,148   \n",
       "1  Honorable Cámara de Senadores           478,837,045      478,837,045   \n",
       "2  Honorable Cámara de Senadores           188,328,774      188,328,774   \n",
       "\n",
       "  credito_comprometido  credito_devengado  credito_pagado  \\\n",
       "0       18,892,017,107         188.920171  17,602,475,615   \n",
       "1        5,518,279,227          55.182792   5,518,149,636   \n",
       "2           0,12077023           0.001208       0,1207694   \n",
       "\n",
       "                          ultima_actualizacion_fecha  \n",
       "0  Última actualización del ejercicio 2018: 24 Ju...  \n",
       "1  Última actualización del ejercicio 2018: 24 Ju...  \n",
       "2  Última actualización del ejercicio 2018: 24 Ju...  \n",
       "\n",
       "[3 rows x 53 columns]"
      ]
     },
     "execution_count": 245,
     "metadata": {},
     "output_type": "execute_result"
    }
   ],
   "source": [
    "data_18 = pd.read_csv('data\\credito-historico-mensual-2018.csv', decimal='.', delimiter=',')\n",
    "data_18[:3]"
   ]
  },
  {
   "cell_type": "markdown",
   "metadata": {},
   "source": [
    "### Concatenate all Datasets"
   ]
  },
  {
   "cell_type": "code",
   "execution_count": 266,
   "metadata": {},
   "outputs": [],
   "source": [
    "data_vf = pd.concat([data, data_18], axis=0, ignore_index=True)"
   ]
  },
  {
   "cell_type": "code",
   "execution_count": 267,
   "metadata": {},
   "outputs": [
    {
     "data": {
      "text/plain": [
       "(6815913, 53)"
      ]
     },
     "execution_count": 267,
     "metadata": {},
     "output_type": "execute_result"
    }
   ],
   "source": [
    "data_vf.shape"
   ]
  },
  {
   "cell_type": "code",
   "execution_count": 268,
   "metadata": {},
   "outputs": [],
   "source": [
    "data_1 = pd.DataFrame(data_vf, columns=['impacto_presupuestario_anio', 'impacto_presupuestario_mes','inciso_id','inciso_desc', 'principal_id', 'principal_desc', 'parcial_id', 'parcial_desc', 'finalidad_id', 'finalidad_desc', 'funcion_id', 'funcion_desc', 'ubicacion_geografica_id', 'ubicacion_geografica_desc', 'credito_devengado'])"
   ]
  },
  {
   "cell_type": "code",
   "execution_count": 269,
   "metadata": {},
   "outputs": [],
   "source": [
    "data_2 = data_1[data_1['inciso_desc'] == 'Transferencias']"
   ]
  },
  {
   "cell_type": "code",
   "execution_count": 270,
   "metadata": {},
   "outputs": [],
   "source": [
    "list = ['Transf. a Inst. Prov. y Mun. para Fin. Gastos Corrientes', \n",
    "        'Transf. a Inst. Prov. y Mun. para Financ. Gastos de Capital']"
   ]
  },
  {
   "cell_type": "code",
   "execution_count": 271,
   "metadata": {},
   "outputs": [
    {
     "data": {
      "text/plain": [
       "(201010, 15)"
      ]
     },
     "execution_count": 271,
     "metadata": {},
     "output_type": "execute_result"
    }
   ],
   "source": [
    "f_data = data_2[data_2['principal_desc'].isin(list)]\n",
    "f_data.shape"
   ]
  },
  {
   "cell_type": "code",
   "execution_count": 272,
   "metadata": {},
   "outputs": [
    {
     "data": {
      "text/plain": [
       "Index(['impacto_presupuestario_anio', 'impacto_presupuestario_mes',\n",
       "       'inciso_id', 'inciso_desc', 'principal_id', 'principal_desc',\n",
       "       'parcial_id', 'parcial_desc', 'finalidad_id', 'finalidad_desc',\n",
       "       'funcion_id', 'funcion_desc', 'ubicacion_geografica_id',\n",
       "       'ubicacion_geografica_desc', 'credito_devengado'],\n",
       "      dtype='object')"
      ]
     },
     "execution_count": 272,
     "metadata": {},
     "output_type": "execute_result"
    }
   ],
   "source": [
    "f_data.columns"
   ]
  },
  {
   "cell_type": "code",
   "execution_count": 273,
   "metadata": {},
   "outputs": [
    {
     "name": "stderr",
     "output_type": "stream",
     "text": [
      "C:\\Users\\valen\\anaconda3\\envs\\valentin\\lib\\site-packages\\ipykernel_launcher.py:1: SettingWithCopyWarning: \n",
      "A value is trying to be set on a copy of a slice from a DataFrame.\n",
      "Try using .loc[row_indexer,col_indexer] = value instead\n",
      "\n",
      "See the caveats in the documentation: https://pandas.pydata.org/pandas-docs/stable/user_guide/indexing.html#returning-a-view-versus-a-copy\n",
      "  \"\"\"Entry point for launching an IPython kernel.\n"
     ]
    }
   ],
   "source": [
    "f_data['Fecha'] = f_data['impacto_presupuestario_anio'].map(str) + '/' + f_data['impacto_presupuestario_mes'].map(str)"
   ]
  },
  {
   "cell_type": "code",
   "execution_count": 274,
   "metadata": {},
   "outputs": [
    {
     "name": "stderr",
     "output_type": "stream",
     "text": [
      "C:\\Users\\valen\\anaconda3\\envs\\valentin\\lib\\site-packages\\ipykernel_launcher.py:2: SettingWithCopyWarning: \n",
      "A value is trying to be set on a copy of a slice from a DataFrame.\n",
      "Try using .loc[row_indexer,col_indexer] = value instead\n",
      "\n",
      "See the caveats in the documentation: https://pandas.pydata.org/pandas-docs/stable/user_guide/indexing.html#returning-a-view-versus-a-copy\n",
      "  \n"
     ]
    }
   ],
   "source": [
    "f_data_1 = pd.to_datetime(f_data['Fecha'])\n",
    "f_data['Fecha'] = pd.PeriodIndex(f_data_1, freq='Q')"
   ]
  },
  {
   "cell_type": "code",
   "execution_count": 275,
   "metadata": {},
   "outputs": [
    {
     "data": {
      "text/plain": [
       "impacto_presupuestario_anio            int64\n",
       "impacto_presupuestario_mes             int64\n",
       "inciso_id                              int64\n",
       "inciso_desc                           object\n",
       "principal_id                           int64\n",
       "principal_desc                        object\n",
       "parcial_id                             int64\n",
       "parcial_desc                          object\n",
       "finalidad_id                           int64\n",
       "finalidad_desc                        object\n",
       "funcion_id                             int64\n",
       "funcion_desc                          object\n",
       "ubicacion_geografica_id                int64\n",
       "ubicacion_geografica_desc             object\n",
       "credito_devengado                     object\n",
       "Fecha                          period[Q-DEC]\n",
       "dtype: object"
      ]
     },
     "execution_count": 275,
     "metadata": {},
     "output_type": "execute_result"
    }
   ],
   "source": [
    "f_data.dtypes"
   ]
  },
  {
   "cell_type": "code",
   "execution_count": 276,
   "metadata": {},
   "outputs": [
    {
     "name": "stderr",
     "output_type": "stream",
     "text": [
      "C:\\Users\\valen\\anaconda3\\envs\\valentin\\lib\\site-packages\\ipykernel_launcher.py:1: SettingWithCopyWarning: \n",
      "A value is trying to be set on a copy of a slice from a DataFrame.\n",
      "Try using .loc[row_indexer,col_indexer] = value instead\n",
      "\n",
      "See the caveats in the documentation: https://pandas.pydata.org/pandas-docs/stable/user_guide/indexing.html#returning-a-view-versus-a-copy\n",
      "  \"\"\"Entry point for launching an IPython kernel.\n"
     ]
    }
   ],
   "source": [
    "f_data['credito_devengado'] = pd.to_numeric(f_data['credito_devengado']) "
   ]
  },
  {
   "cell_type": "code",
   "execution_count": 277,
   "metadata": {},
   "outputs": [
    {
     "data": {
      "text/html": [
       "<div>\n",
       "<style scoped>\n",
       "    .dataframe tbody tr th:only-of-type {\n",
       "        vertical-align: middle;\n",
       "    }\n",
       "\n",
       "    .dataframe tbody tr th {\n",
       "        vertical-align: top;\n",
       "    }\n",
       "\n",
       "    .dataframe thead th {\n",
       "        text-align: right;\n",
       "    }\n",
       "</style>\n",
       "<table border=\"1\" class=\"dataframe\">\n",
       "  <thead>\n",
       "    <tr style=\"text-align: right;\">\n",
       "      <th></th>\n",
       "      <th>impacto_presupuestario_anio</th>\n",
       "      <th>impacto_presupuestario_mes</th>\n",
       "      <th>inciso_id</th>\n",
       "      <th>inciso_desc</th>\n",
       "      <th>principal_id</th>\n",
       "      <th>principal_desc</th>\n",
       "      <th>parcial_id</th>\n",
       "      <th>parcial_desc</th>\n",
       "      <th>finalidad_id</th>\n",
       "      <th>finalidad_desc</th>\n",
       "      <th>funcion_id</th>\n",
       "      <th>funcion_desc</th>\n",
       "      <th>ubicacion_geografica_id</th>\n",
       "      <th>ubicacion_geografica_desc</th>\n",
       "      <th>credito_devengado</th>\n",
       "      <th>Fecha</th>\n",
       "    </tr>\n",
       "  </thead>\n",
       "  <tbody>\n",
       "    <tr>\n",
       "      <th>3246</th>\n",
       "      <td>2010</td>\n",
       "      <td>1</td>\n",
       "      <td>5</td>\n",
       "      <td>Transferencias</td>\n",
       "      <td>7</td>\n",
       "      <td>Transf. a Inst. Prov. y Mun. para Fin. Gastos ...</td>\n",
       "      <td>1</td>\n",
       "      <td>Transferencias a Gobiernos Provinciales</td>\n",
       "      <td>1</td>\n",
       "      <td>ADMINISTRACION GUBERNAMENTAL</td>\n",
       "      <td>3</td>\n",
       "      <td>Dirección Superior Ejecutiva</td>\n",
       "      <td>2</td>\n",
       "      <td>Capital Federal - Ciudad de Buenos Aires</td>\n",
       "      <td>0.0</td>\n",
       "      <td>2010Q1</td>\n",
       "    </tr>\n",
       "    <tr>\n",
       "      <th>3315</th>\n",
       "      <td>2010</td>\n",
       "      <td>1</td>\n",
       "      <td>5</td>\n",
       "      <td>Transferencias</td>\n",
       "      <td>7</td>\n",
       "      <td>Transf. a Inst. Prov. y Mun. para Fin. Gastos ...</td>\n",
       "      <td>1</td>\n",
       "      <td>Transferencias a Gobiernos Provinciales</td>\n",
       "      <td>3</td>\n",
       "      <td>SERVICIOS SOCIALES</td>\n",
       "      <td>2</td>\n",
       "      <td>Promoción y Asistencia Social</td>\n",
       "      <td>2</td>\n",
       "      <td>Capital Federal - Ciudad de Buenos Aires</td>\n",
       "      <td>0.0</td>\n",
       "      <td>2010Q1</td>\n",
       "    </tr>\n",
       "    <tr>\n",
       "      <th>3316</th>\n",
       "      <td>2010</td>\n",
       "      <td>1</td>\n",
       "      <td>5</td>\n",
       "      <td>Transferencias</td>\n",
       "      <td>8</td>\n",
       "      <td>Transf. a Inst. Prov. y Mun. para Financ. Gast...</td>\n",
       "      <td>1</td>\n",
       "      <td>Transferencias a Gobiernos Provinciales</td>\n",
       "      <td>3</td>\n",
       "      <td>SERVICIOS SOCIALES</td>\n",
       "      <td>2</td>\n",
       "      <td>Promoción y Asistencia Social</td>\n",
       "      <td>2</td>\n",
       "      <td>Capital Federal - Ciudad de Buenos Aires</td>\n",
       "      <td>0.0</td>\n",
       "      <td>2010Q1</td>\n",
       "    </tr>\n",
       "    <tr>\n",
       "      <th>3482</th>\n",
       "      <td>2010</td>\n",
       "      <td>1</td>\n",
       "      <td>5</td>\n",
       "      <td>Transferencias</td>\n",
       "      <td>7</td>\n",
       "      <td>Transf. a Inst. Prov. y Mun. para Fin. Gastos ...</td>\n",
       "      <td>1</td>\n",
       "      <td>Transferencias a Gobiernos Provinciales</td>\n",
       "      <td>3</td>\n",
       "      <td>SERVICIOS SOCIALES</td>\n",
       "      <td>2</td>\n",
       "      <td>Promoción y Asistencia Social</td>\n",
       "      <td>2</td>\n",
       "      <td>Capital Federal - Ciudad de Buenos Aires</td>\n",
       "      <td>0.0</td>\n",
       "      <td>2010Q1</td>\n",
       "    </tr>\n",
       "    <tr>\n",
       "      <th>3483</th>\n",
       "      <td>2010</td>\n",
       "      <td>1</td>\n",
       "      <td>5</td>\n",
       "      <td>Transferencias</td>\n",
       "      <td>8</td>\n",
       "      <td>Transf. a Inst. Prov. y Mun. para Financ. Gast...</td>\n",
       "      <td>1</td>\n",
       "      <td>Transferencias a Gobiernos Provinciales</td>\n",
       "      <td>3</td>\n",
       "      <td>SERVICIOS SOCIALES</td>\n",
       "      <td>2</td>\n",
       "      <td>Promoción y Asistencia Social</td>\n",
       "      <td>2</td>\n",
       "      <td>Capital Federal - Ciudad de Buenos Aires</td>\n",
       "      <td>0.0</td>\n",
       "      <td>2010Q1</td>\n",
       "    </tr>\n",
       "  </tbody>\n",
       "</table>\n",
       "</div>"
      ],
      "text/plain": [
       "      impacto_presupuestario_anio  impacto_presupuestario_mes  inciso_id  \\\n",
       "3246                         2010                           1          5   \n",
       "3315                         2010                           1          5   \n",
       "3316                         2010                           1          5   \n",
       "3482                         2010                           1          5   \n",
       "3483                         2010                           1          5   \n",
       "\n",
       "         inciso_desc  principal_id  \\\n",
       "3246  Transferencias             7   \n",
       "3315  Transferencias             7   \n",
       "3316  Transferencias             8   \n",
       "3482  Transferencias             7   \n",
       "3483  Transferencias             8   \n",
       "\n",
       "                                         principal_desc  parcial_id  \\\n",
       "3246  Transf. a Inst. Prov. y Mun. para Fin. Gastos ...           1   \n",
       "3315  Transf. a Inst. Prov. y Mun. para Fin. Gastos ...           1   \n",
       "3316  Transf. a Inst. Prov. y Mun. para Financ. Gast...           1   \n",
       "3482  Transf. a Inst. Prov. y Mun. para Fin. Gastos ...           1   \n",
       "3483  Transf. a Inst. Prov. y Mun. para Financ. Gast...           1   \n",
       "\n",
       "                                 parcial_desc  finalidad_id  \\\n",
       "3246  Transferencias a Gobiernos Provinciales             1   \n",
       "3315  Transferencias a Gobiernos Provinciales             3   \n",
       "3316  Transferencias a Gobiernos Provinciales             3   \n",
       "3482  Transferencias a Gobiernos Provinciales             3   \n",
       "3483  Transferencias a Gobiernos Provinciales             3   \n",
       "\n",
       "                    finalidad_desc  funcion_id                   funcion_desc  \\\n",
       "3246  ADMINISTRACION GUBERNAMENTAL           3   Dirección Superior Ejecutiva   \n",
       "3315            SERVICIOS SOCIALES           2  Promoción y Asistencia Social   \n",
       "3316            SERVICIOS SOCIALES           2  Promoción y Asistencia Social   \n",
       "3482            SERVICIOS SOCIALES           2  Promoción y Asistencia Social   \n",
       "3483            SERVICIOS SOCIALES           2  Promoción y Asistencia Social   \n",
       "\n",
       "      ubicacion_geografica_id                 ubicacion_geografica_desc  \\\n",
       "3246                        2  Capital Federal - Ciudad de Buenos Aires   \n",
       "3315                        2  Capital Federal - Ciudad de Buenos Aires   \n",
       "3316                        2  Capital Federal - Ciudad de Buenos Aires   \n",
       "3482                        2  Capital Federal - Ciudad de Buenos Aires   \n",
       "3483                        2  Capital Federal - Ciudad de Buenos Aires   \n",
       "\n",
       "      credito_devengado   Fecha  \n",
       "3246                0.0  2010Q1  \n",
       "3315                0.0  2010Q1  \n",
       "3316                0.0  2010Q1  \n",
       "3482                0.0  2010Q1  \n",
       "3483                0.0  2010Q1  "
      ]
     },
     "execution_count": 277,
     "metadata": {},
     "output_type": "execute_result"
    }
   ],
   "source": [
    "f_data[:5]"
   ]
  },
  {
   "cell_type": "code",
   "execution_count": 278,
   "metadata": {},
   "outputs": [
    {
     "data": {
      "text/plain": [
       "impacto_presupuestario_anio            int64\n",
       "impacto_presupuestario_mes             int64\n",
       "inciso_id                              int64\n",
       "inciso_desc                           object\n",
       "principal_id                           int64\n",
       "principal_desc                        object\n",
       "parcial_id                             int64\n",
       "parcial_desc                          object\n",
       "finalidad_id                           int64\n",
       "finalidad_desc                        object\n",
       "funcion_id                             int64\n",
       "funcion_desc                          object\n",
       "ubicacion_geografica_id                int64\n",
       "ubicacion_geografica_desc             object\n",
       "credito_devengado                    float64\n",
       "Fecha                          period[Q-DEC]\n",
       "dtype: object"
      ]
     },
     "execution_count": 278,
     "metadata": {},
     "output_type": "execute_result"
    }
   ],
   "source": [
    "f_data.dtypes"
   ]
  },
  {
   "cell_type": "code",
   "execution_count": 279,
   "metadata": {},
   "outputs": [],
   "source": [
    "group = pd.DataFrame(f_data, columns=['Fecha', 'credito_devengado'])"
   ]
  },
  {
   "cell_type": "code",
   "execution_count": 280,
   "metadata": {},
   "outputs": [
    {
     "data": {
      "text/html": [
       "<div>\n",
       "<style scoped>\n",
       "    .dataframe tbody tr th:only-of-type {\n",
       "        vertical-align: middle;\n",
       "    }\n",
       "\n",
       "    .dataframe tbody tr th {\n",
       "        vertical-align: top;\n",
       "    }\n",
       "\n",
       "    .dataframe thead th {\n",
       "        text-align: right;\n",
       "    }\n",
       "</style>\n",
       "<table border=\"1\" class=\"dataframe\">\n",
       "  <thead>\n",
       "    <tr style=\"text-align: right;\">\n",
       "      <th></th>\n",
       "      <th>credito_devengado</th>\n",
       "    </tr>\n",
       "    <tr>\n",
       "      <th>Fecha</th>\n",
       "      <th></th>\n",
       "    </tr>\n",
       "  </thead>\n",
       "  <tbody>\n",
       "    <tr>\n",
       "      <th>2010Q1</th>\n",
       "      <td>4708.975094</td>\n",
       "    </tr>\n",
       "    <tr>\n",
       "      <th>2010Q2</th>\n",
       "      <td>7498.389941</td>\n",
       "    </tr>\n",
       "    <tr>\n",
       "      <th>2010Q3</th>\n",
       "      <td>8077.555728</td>\n",
       "    </tr>\n",
       "    <tr>\n",
       "      <th>2010Q4</th>\n",
       "      <td>12907.668867</td>\n",
       "    </tr>\n",
       "    <tr>\n",
       "      <th>2011Q1</th>\n",
       "      <td>4614.691216</td>\n",
       "    </tr>\n",
       "    <tr>\n",
       "      <th>2011Q2</th>\n",
       "      <td>8327.731149</td>\n",
       "    </tr>\n",
       "    <tr>\n",
       "      <th>2011Q3</th>\n",
       "      <td>9430.383008</td>\n",
       "    </tr>\n",
       "    <tr>\n",
       "      <th>2011Q4</th>\n",
       "      <td>12712.012451</td>\n",
       "    </tr>\n",
       "    <tr>\n",
       "      <th>2012Q1</th>\n",
       "      <td>5191.324124</td>\n",
       "    </tr>\n",
       "    <tr>\n",
       "      <th>2012Q2</th>\n",
       "      <td>9065.197068</td>\n",
       "    </tr>\n",
       "    <tr>\n",
       "      <th>2012Q3</th>\n",
       "      <td>8522.660115</td>\n",
       "    </tr>\n",
       "    <tr>\n",
       "      <th>2012Q4</th>\n",
       "      <td>13422.335692</td>\n",
       "    </tr>\n",
       "    <tr>\n",
       "      <th>2013Q1</th>\n",
       "      <td>5992.304555</td>\n",
       "    </tr>\n",
       "    <tr>\n",
       "      <th>2013Q2</th>\n",
       "      <td>9146.161611</td>\n",
       "    </tr>\n",
       "    <tr>\n",
       "      <th>2013Q3</th>\n",
       "      <td>14049.247454</td>\n",
       "    </tr>\n",
       "    <tr>\n",
       "      <th>2013Q4</th>\n",
       "      <td>20879.792128</td>\n",
       "    </tr>\n",
       "    <tr>\n",
       "      <th>2014Q1</th>\n",
       "      <td>8502.719148</td>\n",
       "    </tr>\n",
       "    <tr>\n",
       "      <th>2014Q2</th>\n",
       "      <td>11830.056682</td>\n",
       "    </tr>\n",
       "    <tr>\n",
       "      <th>2014Q3</th>\n",
       "      <td>23946.939399</td>\n",
       "    </tr>\n",
       "    <tr>\n",
       "      <th>2014Q4</th>\n",
       "      <td>26915.275631</td>\n",
       "    </tr>\n",
       "    <tr>\n",
       "      <th>2015Q1</th>\n",
       "      <td>14108.576542</td>\n",
       "    </tr>\n",
       "    <tr>\n",
       "      <th>2015Q2</th>\n",
       "      <td>22929.047547</td>\n",
       "    </tr>\n",
       "    <tr>\n",
       "      <th>2015Q3</th>\n",
       "      <td>27616.741961</td>\n",
       "    </tr>\n",
       "    <tr>\n",
       "      <th>2015Q4</th>\n",
       "      <td>31397.198873</td>\n",
       "    </tr>\n",
       "    <tr>\n",
       "      <th>2016Q1</th>\n",
       "      <td>12690.657579</td>\n",
       "    </tr>\n",
       "    <tr>\n",
       "      <th>2016Q2</th>\n",
       "      <td>26400.468912</td>\n",
       "    </tr>\n",
       "    <tr>\n",
       "      <th>2016Q3</th>\n",
       "      <td>37666.260070</td>\n",
       "    </tr>\n",
       "    <tr>\n",
       "      <th>2016Q4</th>\n",
       "      <td>73730.869806</td>\n",
       "    </tr>\n",
       "    <tr>\n",
       "      <th>2017Q1</th>\n",
       "      <td>31174.215269</td>\n",
       "    </tr>\n",
       "    <tr>\n",
       "      <th>2017Q2</th>\n",
       "      <td>38118.728448</td>\n",
       "    </tr>\n",
       "    <tr>\n",
       "      <th>2017Q3</th>\n",
       "      <td>38023.319058</td>\n",
       "    </tr>\n",
       "    <tr>\n",
       "      <th>2017Q4</th>\n",
       "      <td>76442.441273</td>\n",
       "    </tr>\n",
       "    <tr>\n",
       "      <th>2018Q1</th>\n",
       "      <td>34579.824386</td>\n",
       "    </tr>\n",
       "    <tr>\n",
       "      <th>2018Q2</th>\n",
       "      <td>30658.769696</td>\n",
       "    </tr>\n",
       "    <tr>\n",
       "      <th>2018Q3</th>\n",
       "      <td>72702.158124</td>\n",
       "    </tr>\n",
       "    <tr>\n",
       "      <th>2018Q4</th>\n",
       "      <td>56933.943093</td>\n",
       "    </tr>\n",
       "    <tr>\n",
       "      <th>2019Q1</th>\n",
       "      <td>35018.396547</td>\n",
       "    </tr>\n",
       "    <tr>\n",
       "      <th>2019Q2</th>\n",
       "      <td>30507.724585</td>\n",
       "    </tr>\n",
       "    <tr>\n",
       "      <th>2019Q3</th>\n",
       "      <td>47753.419213</td>\n",
       "    </tr>\n",
       "    <tr>\n",
       "      <th>2019Q4</th>\n",
       "      <td>57798.668880</td>\n",
       "    </tr>\n",
       "    <tr>\n",
       "      <th>2020Q1</th>\n",
       "      <td>66827.799767</td>\n",
       "    </tr>\n",
       "    <tr>\n",
       "      <th>2020Q2</th>\n",
       "      <td>124586.080407</td>\n",
       "    </tr>\n",
       "    <tr>\n",
       "      <th>2020Q3</th>\n",
       "      <td>97526.336048</td>\n",
       "    </tr>\n",
       "    <tr>\n",
       "      <th>2020Q4</th>\n",
       "      <td>33301.188174</td>\n",
       "    </tr>\n",
       "  </tbody>\n",
       "</table>\n",
       "</div>"
      ],
      "text/plain": [
       "        credito_devengado\n",
       "Fecha                    \n",
       "2010Q1        4708.975094\n",
       "2010Q2        7498.389941\n",
       "2010Q3        8077.555728\n",
       "2010Q4       12907.668867\n",
       "2011Q1        4614.691216\n",
       "2011Q2        8327.731149\n",
       "2011Q3        9430.383008\n",
       "2011Q4       12712.012451\n",
       "2012Q1        5191.324124\n",
       "2012Q2        9065.197068\n",
       "2012Q3        8522.660115\n",
       "2012Q4       13422.335692\n",
       "2013Q1        5992.304555\n",
       "2013Q2        9146.161611\n",
       "2013Q3       14049.247454\n",
       "2013Q4       20879.792128\n",
       "2014Q1        8502.719148\n",
       "2014Q2       11830.056682\n",
       "2014Q3       23946.939399\n",
       "2014Q4       26915.275631\n",
       "2015Q1       14108.576542\n",
       "2015Q2       22929.047547\n",
       "2015Q3       27616.741961\n",
       "2015Q4       31397.198873\n",
       "2016Q1       12690.657579\n",
       "2016Q2       26400.468912\n",
       "2016Q3       37666.260070\n",
       "2016Q4       73730.869806\n",
       "2017Q1       31174.215269\n",
       "2017Q2       38118.728448\n",
       "2017Q3       38023.319058\n",
       "2017Q4       76442.441273\n",
       "2018Q1       34579.824386\n",
       "2018Q2       30658.769696\n",
       "2018Q3       72702.158124\n",
       "2018Q4       56933.943093\n",
       "2019Q1       35018.396547\n",
       "2019Q2       30507.724585\n",
       "2019Q3       47753.419213\n",
       "2019Q4       57798.668880\n",
       "2020Q1       66827.799767\n",
       "2020Q2      124586.080407\n",
       "2020Q3       97526.336048\n",
       "2020Q4       33301.188174"
      ]
     },
     "execution_count": 280,
     "metadata": {},
     "output_type": "execute_result"
    }
   ],
   "source": [
    "group.groupby('Fecha').sum()"
   ]
  },
  {
   "cell_type": "code",
   "execution_count": null,
   "metadata": {},
   "outputs": [],
   "source": []
  }
 ],
 "metadata": {
  "kernelspec": {
   "display_name": "Python 3",
   "language": "python",
   "name": "python3"
  },
  "language_info": {
   "codemirror_mode": {
    "name": "ipython",
    "version": 3
   },
   "file_extension": ".py",
   "mimetype": "text/x-python",
   "name": "python",
   "nbconvert_exporter": "python",
   "pygments_lexer": "ipython3",
   "version": "3.6.10"
  }
 },
 "nbformat": 4,
 "nbformat_minor": 4
}
